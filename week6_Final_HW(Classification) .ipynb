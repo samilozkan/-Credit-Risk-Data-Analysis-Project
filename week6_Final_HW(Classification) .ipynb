{
 "cells": [
  {
   "cell_type": "markdown",
   "metadata": {},
   "source": [
    "# **Classification**"
   ]
  },
  {
   "cell_type": "markdown",
   "metadata": {},
   "source": [
    "## Import all the crucial libraries"
   ]
  },
  {
   "cell_type": "code",
   "execution_count": 3,
   "metadata": {},
   "outputs": [],
   "source": [
    "import numpy as np\n",
    "import pandas as pd \n",
    "import statsmodels.api as sm\n",
    "import statsmodels.formula.api as smf\n",
    "import seaborn as sns\n",
    "from sklearn.preprocessing import scale \n",
    "from sklearn.model_selection import train_test_split, GridSearchCV, cross_val_score\n",
    "from sklearn.metrics import confusion_matrix, accuracy_score, classification_report\n",
    "from sklearn.metrics import roc_auc_score,roc_curve\n",
    "import statsmodels.formula.api as smf\n",
    "import matplotlib.pyplot as plt\n",
    "from sklearn.neighbors import KNeighborsClassifier\n",
    "from sklearn.discriminant_analysis import LinearDiscriminantAnalysis\n",
    "from sklearn.linear_model import LogisticRegression\n",
    "from sklearn.svm import SVC\n",
    "from sklearn.naive_bayes import GaussianNB\n",
    "from sklearn import tree\n",
    "from sklearn.ensemble import RandomForestClassifier\n",
    "from sklearn.ensemble import GradientBoostingClassifier\n",
    "from xgboost import XGBClassifier\n",
    "from lightgbm import LGBMClassifier\n",
    "from catboost import CatBoostClassifier\n",
    "\n",
    "from warnings import filterwarnings\n",
    "filterwarnings('ignore')"
   ]
  },
  {
   "cell_type": "markdown",
   "metadata": {},
   "source": [
    "## Import the dataset"
   ]
  },
  {
   "cell_type": "code",
   "execution_count": 4,
   "metadata": {},
   "outputs": [
    {
     "data": {
      "text/html": [
       "<div>\n",
       "<style scoped>\n",
       "    .dataframe tbody tr th:only-of-type {\n",
       "        vertical-align: middle;\n",
       "    }\n",
       "\n",
       "    .dataframe tbody tr th {\n",
       "        vertical-align: top;\n",
       "    }\n",
       "\n",
       "    .dataframe thead th {\n",
       "        text-align: right;\n",
       "    }\n",
       "</style>\n",
       "<table border=\"1\" class=\"dataframe\">\n",
       "  <thead>\n",
       "    <tr style=\"text-align: right;\">\n",
       "      <th></th>\n",
       "      <th>bad</th>\n",
       "      <th>loan</th>\n",
       "      <th>mortdue</th>\n",
       "      <th>value</th>\n",
       "      <th>reason</th>\n",
       "      <th>job</th>\n",
       "      <th>yoj</th>\n",
       "      <th>derog</th>\n",
       "      <th>delinq</th>\n",
       "      <th>clage</th>\n",
       "      <th>ninq</th>\n",
       "      <th>clno</th>\n",
       "      <th>debtinc</th>\n",
       "    </tr>\n",
       "  </thead>\n",
       "  <tbody>\n",
       "    <tr>\n",
       "      <th>153</th>\n",
       "      <td>0</td>\n",
       "      <td>18200</td>\n",
       "      <td>94727.0</td>\n",
       "      <td>136877.0</td>\n",
       "      <td>DebtCon</td>\n",
       "      <td>Mgr</td>\n",
       "      <td>15.0</td>\n",
       "      <td>0.0</td>\n",
       "      <td>0.0</td>\n",
       "      <td>168.96</td>\n",
       "      <td>2.0</td>\n",
       "      <td>26.0</td>\n",
       "      <td>36.056</td>\n",
       "    </tr>\n",
       "    <tr>\n",
       "      <th>154</th>\n",
       "      <td>0</td>\n",
       "      <td>21700</td>\n",
       "      <td>79240.0</td>\n",
       "      <td>96784.0</td>\n",
       "      <td>DebtCon</td>\n",
       "      <td>Mgr</td>\n",
       "      <td>5.0</td>\n",
       "      <td>0.0</td>\n",
       "      <td>0.0</td>\n",
       "      <td>64.51</td>\n",
       "      <td>6.0</td>\n",
       "      <td>24.0</td>\n",
       "      <td>38.079</td>\n",
       "    </tr>\n",
       "    <tr>\n",
       "      <th>155</th>\n",
       "      <td>0</td>\n",
       "      <td>34100</td>\n",
       "      <td>241931.0</td>\n",
       "      <td>36486.0</td>\n",
       "      <td>DebtCon</td>\n",
       "      <td>Mgr</td>\n",
       "      <td>1.0</td>\n",
       "      <td>0.0</td>\n",
       "      <td>2.0</td>\n",
       "      <td>196.01</td>\n",
       "      <td>3.0</td>\n",
       "      <td>50.0</td>\n",
       "      <td>42.459</td>\n",
       "    </tr>\n",
       "    <tr>\n",
       "      <th>156</th>\n",
       "      <td>0</td>\n",
       "      <td>8400</td>\n",
       "      <td>62989.0</td>\n",
       "      <td>76718.0</td>\n",
       "      <td>HomeImp</td>\n",
       "      <td>Mgr</td>\n",
       "      <td>3.0</td>\n",
       "      <td>0.0</td>\n",
       "      <td>2.0</td>\n",
       "      <td>131.47</td>\n",
       "      <td>0.0</td>\n",
       "      <td>22.0</td>\n",
       "      <td>29.200</td>\n",
       "    </tr>\n",
       "    <tr>\n",
       "      <th>157</th>\n",
       "      <td>0</td>\n",
       "      <td>17400</td>\n",
       "      <td>25859.0</td>\n",
       "      <td>43684.0</td>\n",
       "      <td>DebtCon</td>\n",
       "      <td>Mgr</td>\n",
       "      <td>16.0</td>\n",
       "      <td>1.0</td>\n",
       "      <td>0.0</td>\n",
       "      <td>95.36</td>\n",
       "      <td>1.0</td>\n",
       "      <td>17.0</td>\n",
       "      <td>27.108</td>\n",
       "    </tr>\n",
       "  </tbody>\n",
       "</table>\n",
       "</div>"
      ],
      "text/plain": [
       "     bad   loan   mortdue     value   reason  job   yoj  derog  delinq  \\\n",
       "153    0  18200   94727.0  136877.0  DebtCon  Mgr  15.0    0.0     0.0   \n",
       "154    0  21700   79240.0   96784.0  DebtCon  Mgr   5.0    0.0     0.0   \n",
       "155    0  34100  241931.0   36486.0  DebtCon  Mgr   1.0    0.0     2.0   \n",
       "156    0   8400   62989.0   76718.0  HomeImp  Mgr   3.0    0.0     2.0   \n",
       "157    0  17400   25859.0   43684.0  DebtCon  Mgr  16.0    1.0     0.0   \n",
       "\n",
       "      clage  ninq  clno  debtinc  \n",
       "153  168.96   2.0  26.0   36.056  \n",
       "154   64.51   6.0  24.0   38.079  \n",
       "155  196.01   3.0  50.0   42.459  \n",
       "156  131.47   0.0  22.0   29.200  \n",
       "157   95.36   1.0  17.0   27.108  "
      ]
     },
     "execution_count": 4,
     "metadata": {},
     "output_type": "execute_result"
    }
   ],
   "source": [
    "data=pd.read_csv('hmelq.csv')\n",
    "df = data.copy()\n",
    "df = df.dropna()\n",
    "df.head()"
   ]
  },
  {
   "cell_type": "markdown",
   "metadata": {},
   "source": [
    "## Exploration of Variables"
   ]
  },
  {
   "cell_type": "code",
   "execution_count": 3,
   "metadata": {},
   "outputs": [
    {
     "data": {
      "image/png": "[encoded data removed]",
      "text/plain": [
       "<Figure size 432x288 with 1 Axes>"
      ]
     },
     "metadata": {
      "needs_background": "light"
     },
     "output_type": "display_data"
    }
   ],
   "source": [
    "sns.countplot(df.bad);"
   ]
  },
  {
   "cell_type": "code",
   "execution_count": 3,
   "metadata": {},
   "outputs": [
    {
     "data": {
      "image/png": "[encoded data removed]",
      "text/plain": [
       "<Figure size 432x288 with 1 Axes>"
      ]
     },
     "metadata": {
      "needs_background": "light"
     },
     "output_type": "display_data"
    }
   ],
   "source": [
    "sns.distplot(df.loan);"
   ]
  },
  {
   "cell_type": "code",
   "execution_count": 4,
   "metadata": {},
   "outputs": [
    {
     "data": {
      "image/png": "[encoded data removed]",
      "text/plain": [
       "<Figure size 432x288 with 1 Axes>"
      ]
     },
     "metadata": {
      "needs_background": "light"
     },
     "output_type": "display_data"
    }
   ],
   "source": [
    "sns.distplot(df.mortdue);"
   ]
  },
  {
   "cell_type": "code",
   "execution_count": 5,
   "metadata": {},
   "outputs": [
    {
     "data": {
      "image/png": "[encoded data removed]",
      "text/plain": [
       "<Figure size 432x288 with 1 Axes>"
      ]
     },
     "metadata": {
      "needs_background": "light"
     },
     "output_type": "display_data"
    }
   ],
   "source": [
    "sns.distplot(df.value);"
   ]
  },
  {
   "cell_type": "code",
   "execution_count": 6,
   "metadata": {},
   "outputs": [
    {
     "data": {
      "image/png": "[encoded data removed]",
      "text/plain": [
       "<Figure size 432x288 with 1 Axes>"
      ]
     },
     "metadata": {
      "needs_background": "light"
     },
     "output_type": "display_data"
    }
   ],
   "source": [
    "sns.distplot(df.yoj);"
   ]
  },
  {
   "cell_type": "code",
   "execution_count": 14,
   "metadata": {},
   "outputs": [
    {
     "data": {
      "image/png": "[encoded data removed]",
      "text/plain": [
       "<Figure size 432x288 with 1 Axes>"
      ]
     },
     "metadata": {
      "needs_background": "light"
     },
     "output_type": "display_data"
    }
   ],
   "source": [
    "sns.countplot(df.derog);"
   ]
  },
  {
   "cell_type": "code",
   "execution_count": 15,
   "metadata": {},
   "outputs": [
    {
     "data": {
      "image/png": "[encoded data removed]",
      "text/plain": [
       "<Figure size 432x288 with 1 Axes>"
      ]
     },
     "metadata": {
      "needs_background": "light"
     },
     "output_type": "display_data"
    }
   ],
   "source": [
    "sns.countplot(df.delinq);"
   ]
  },
  {
   "cell_type": "code",
   "execution_count": 11,
   "metadata": {
    "scrolled": true
   },
   "outputs": [
    {
     "data": {
      "image/png": "[encoded data removed]",
      "text/plain": [
       "<Figure size 432x288 with 1 Axes>"
      ]
     },
     "metadata": {
      "needs_background": "light"
     },
     "output_type": "display_data"
    }
   ],
   "source": [
    "sns.distplot(df.clage);"
   ]
  },
  {
   "cell_type": "code",
   "execution_count": 6,
   "metadata": {},
   "outputs": [
    {
     "data": {
      "image/png": "[encoded data removed]",
      "text/plain": [
       "<Figure size 432x288 with 1 Axes>"
      ]
     },
     "metadata": {
      "needs_background": "light"
     },
     "output_type": "display_data"
    }
   ],
   "source": [
    "sns.distplot(df.clage);"
   ]
  },
  {
   "cell_type": "code",
   "execution_count": 8,
   "metadata": {},
   "outputs": [
    {
     "data": {
      "image/png": "[encoded data removed]",
      "text/plain": [
       "<Figure size 432x288 with 1 Axes>"
      ]
     },
     "metadata": {
      "needs_background": "light"
     },
     "output_type": "display_data"
    }
   ],
   "source": [
    "sns.distplot(df.clno);"
   ]
  },
  {
   "cell_type": "code",
   "execution_count": 7,
   "metadata": {},
   "outputs": [
    {
     "data": {
      "image/png": "[encoded data removed]",
      "text/plain": [
       "<Figure size 432x288 with 1 Axes>"
      ]
     },
     "metadata": {
      "needs_background": "light"
     },
     "output_type": "display_data"
    }
   ],
   "source": [
    "sns.distplot(df.debtinc);"
   ]
  },
  {
   "cell_type": "markdown",
   "metadata": {},
   "source": [
    "## Encoding the categorical data"
   ]
  },
  {
   "cell_type": "code",
   "execution_count": 5,
   "metadata": {
    "scrolled": true
   },
   "outputs": [
    {
     "data": {
      "text/html": [
       "<div>\n",
       "<style scoped>\n",
       "    .dataframe tbody tr th:only-of-type {\n",
       "        vertical-align: middle;\n",
       "    }\n",
       "\n",
       "    .dataframe tbody tr th {\n",
       "        vertical-align: top;\n",
       "    }\n",
       "\n",
       "    .dataframe thead th {\n",
       "        text-align: right;\n",
       "    }\n",
       "</style>\n",
       "<table border=\"1\" class=\"dataframe\">\n",
       "  <thead>\n",
       "    <tr style=\"text-align: right;\">\n",
       "      <th></th>\n",
       "      <th>job_Mgr</th>\n",
       "      <th>job_Office</th>\n",
       "      <th>job_Other</th>\n",
       "      <th>job_ProfEx</th>\n",
       "      <th>job_Sales</th>\n",
       "      <th>job_Self</th>\n",
       "      <th>reason_DebtCon</th>\n",
       "      <th>reason_HomeImp</th>\n",
       "    </tr>\n",
       "  </thead>\n",
       "  <tbody>\n",
       "    <tr>\n",
       "      <th>153</th>\n",
       "      <td>1</td>\n",
       "      <td>0</td>\n",
       "      <td>0</td>\n",
       "      <td>0</td>\n",
       "      <td>0</td>\n",
       "      <td>0</td>\n",
       "      <td>1</td>\n",
       "      <td>0</td>\n",
       "    </tr>\n",
       "    <tr>\n",
       "      <th>154</th>\n",
       "      <td>1</td>\n",
       "      <td>0</td>\n",
       "      <td>0</td>\n",
       "      <td>0</td>\n",
       "      <td>0</td>\n",
       "      <td>0</td>\n",
       "      <td>1</td>\n",
       "      <td>0</td>\n",
       "    </tr>\n",
       "    <tr>\n",
       "      <th>155</th>\n",
       "      <td>1</td>\n",
       "      <td>0</td>\n",
       "      <td>0</td>\n",
       "      <td>0</td>\n",
       "      <td>0</td>\n",
       "      <td>0</td>\n",
       "      <td>1</td>\n",
       "      <td>0</td>\n",
       "    </tr>\n",
       "    <tr>\n",
       "      <th>156</th>\n",
       "      <td>1</td>\n",
       "      <td>0</td>\n",
       "      <td>0</td>\n",
       "      <td>0</td>\n",
       "      <td>0</td>\n",
       "      <td>0</td>\n",
       "      <td>0</td>\n",
       "      <td>1</td>\n",
       "    </tr>\n",
       "    <tr>\n",
       "      <th>157</th>\n",
       "      <td>1</td>\n",
       "      <td>0</td>\n",
       "      <td>0</td>\n",
       "      <td>0</td>\n",
       "      <td>0</td>\n",
       "      <td>0</td>\n",
       "      <td>1</td>\n",
       "      <td>0</td>\n",
       "    </tr>\n",
       "  </tbody>\n",
       "</table>\n",
       "</div>"
      ],
      "text/plain": [
       "     job_Mgr  job_Office  job_Other  job_ProfEx  job_Sales  job_Self  \\\n",
       "153        1           0          0           0          0         0   \n",
       "154        1           0          0           0          0         0   \n",
       "155        1           0          0           0          0         0   \n",
       "156        1           0          0           0          0         0   \n",
       "157        1           0          0           0          0         0   \n",
       "\n",
       "     reason_DebtCon  reason_HomeImp  \n",
       "153               1               0  \n",
       "154               1               0  \n",
       "155               1               0  \n",
       "156               0               1  \n",
       "157               1               0  "
      ]
     },
     "execution_count": 5,
     "metadata": {},
     "output_type": "execute_result"
    }
   ],
   "source": [
    "dms=pd.get_dummies(df[[\"job\",\"reason\"]])\n",
    "dms.head()"
   ]
  },
  {
   "cell_type": "markdown",
   "metadata": {},
   "source": [
    "# Logistic Regression"
   ]
  },
  {
   "cell_type": "code",
   "execution_count": 7,
   "metadata": {},
   "outputs": [],
   "source": [
    "y=df[\"bad\"]\n",
    "X_=df.drop([\"job\",\"reason\",\"bad\"],axis=1)\n",
    "X=pd.concat([X_,dms[[\"job_Mgr\",\"job_Office\",\"job_Other\",\"job_ProfEx\",\"job_Sales\",\"reason_DebtCon\"]]],axis=1)\n",
    "X_train, X_test, y_train,y_test=train_test_split(X,y,test_size=0.20,random_state=42)"
   ]
  },
  {
   "cell_type": "code",
   "execution_count": 8,
   "metadata": {},
   "outputs": [
    {
     "name": "stdout",
     "output_type": "stream",
     "text": [
      "Optimization terminated successfully.\n",
      "         Current function value: 0.238483\n",
      "         Iterations 7\n"
     ]
    },
    {
     "data": {
      "text/html": [
       "<table class=\"simpletable\">\n",
       "<caption>Logit Regression Results</caption>\n",
       "<tr>\n",
       "  <th>Dep. Variable:</th>          <td>bad</td>       <th>  No. Observations:  </th>  <td>  2018</td>  \n",
       "</tr>\n",
       "<tr>\n",
       "  <th>Model:</th>                 <td>Logit</td>      <th>  Df Residuals:      </th>  <td>  2002</td>  \n",
       "</tr>\n",
       "<tr>\n",
       "  <th>Method:</th>                 <td>MLE</td>       <th>  Df Model:          </th>  <td>    15</td>  \n",
       "</tr>\n",
       "<tr>\n",
       "  <th>Date:</th>            <td>Sun, 23 Aug 2020</td> <th>  Pseudo R-squ.:     </th>  <td>0.2007</td>  \n",
       "</tr>\n",
       "<tr>\n",
       "  <th>Time:</th>                <td>14:03:04</td>     <th>  Log-Likelihood:    </th> <td> -481.26</td> \n",
       "</tr>\n",
       "<tr>\n",
       "  <th>converged:</th>             <td>True</td>       <th>  LL-Null:           </th> <td> -602.11</td> \n",
       "</tr>\n",
       "<tr>\n",
       "  <th>Covariance Type:</th>     <td>nonrobust</td>    <th>  LLR p-value:       </th> <td>6.349e-43</td>\n",
       "</tr>\n",
       "</table>\n",
       "<table class=\"simpletable\">\n",
       "<tr>\n",
       "         <td></td>           <th>coef</th>     <th>std err</th>      <th>z</th>      <th>P>|z|</th>  <th>[0.025</th>    <th>0.975]</th>  \n",
       "</tr>\n",
       "<tr>\n",
       "  <th>loan</th>           <td>-2.625e-05</td> <td> 1.07e-05</td> <td>   -2.453</td> <td> 0.014</td> <td>-4.72e-05</td> <td>-5.27e-06</td>\n",
       "</tr>\n",
       "<tr>\n",
       "  <th>mortdue</th>        <td>-4.837e-06</td> <td> 4.98e-06</td> <td>   -0.972</td> <td> 0.331</td> <td>-1.46e-05</td> <td> 4.91e-06</td>\n",
       "</tr>\n",
       "<tr>\n",
       "  <th>value</th>          <td> 1.216e-07</td> <td> 4.35e-06</td> <td>    0.028</td> <td> 0.978</td> <td>-8.41e-06</td> <td> 8.66e-06</td>\n",
       "</tr>\n",
       "<tr>\n",
       "  <th>yoj</th>            <td>   -0.0145</td> <td>    0.013</td> <td>   -1.114</td> <td> 0.265</td> <td>   -0.040</td> <td>    0.011</td>\n",
       "</tr>\n",
       "<tr>\n",
       "  <th>derog</th>          <td>    0.5742</td> <td>    0.131</td> <td>    4.388</td> <td> 0.000</td> <td>    0.318</td> <td>    0.831</td>\n",
       "</tr>\n",
       "<tr>\n",
       "  <th>delinq</th>         <td>    0.7806</td> <td>    0.091</td> <td>    8.595</td> <td> 0.000</td> <td>    0.603</td> <td>    0.959</td>\n",
       "</tr>\n",
       "<tr>\n",
       "  <th>clage</th>          <td>   -0.0066</td> <td>    0.001</td> <td>   -4.898</td> <td> 0.000</td> <td>   -0.009</td> <td>   -0.004</td>\n",
       "</tr>\n",
       "<tr>\n",
       "  <th>ninq</th>           <td>    0.0919</td> <td>    0.048</td> <td>    1.916</td> <td> 0.055</td> <td>   -0.002</td> <td>    0.186</td>\n",
       "</tr>\n",
       "<tr>\n",
       "  <th>clno</th>           <td>   -0.0369</td> <td>    0.011</td> <td>   -3.488</td> <td> 0.000</td> <td>   -0.058</td> <td>   -0.016</td>\n",
       "</tr>\n",
       "<tr>\n",
       "  <th>debtinc</th>        <td>    0.0704</td> <td>    0.010</td> <td>    6.833</td> <td> 0.000</td> <td>    0.050</td> <td>    0.091</td>\n",
       "</tr>\n",
       "<tr>\n",
       "  <th>job_Mgr</th>        <td>   -2.4682</td> <td>    0.364</td> <td>   -6.774</td> <td> 0.000</td> <td>   -3.182</td> <td>   -1.754</td>\n",
       "</tr>\n",
       "<tr>\n",
       "  <th>job_Office</th>     <td>   -3.0527</td> <td>    0.381</td> <td>   -8.013</td> <td> 0.000</td> <td>   -3.799</td> <td>   -2.306</td>\n",
       "</tr>\n",
       "<tr>\n",
       "  <th>job_Other</th>      <td>   -2.6848</td> <td>    0.317</td> <td>   -8.457</td> <td> 0.000</td> <td>   -3.307</td> <td>   -2.063</td>\n",
       "</tr>\n",
       "<tr>\n",
       "  <th>job_ProfEx</th>     <td>   -2.5181</td> <td>    0.336</td> <td>   -7.494</td> <td> 0.000</td> <td>   -3.177</td> <td>   -1.860</td>\n",
       "</tr>\n",
       "<tr>\n",
       "  <th>job_Sales</th>      <td>   -1.3558</td> <td>    0.620</td> <td>   -2.187</td> <td> 0.029</td> <td>   -2.571</td> <td>   -0.141</td>\n",
       "</tr>\n",
       "<tr>\n",
       "  <th>reason_DebtCon</th> <td>   -0.0854</td> <td>    0.193</td> <td>   -0.443</td> <td> 0.658</td> <td>   -0.463</td> <td>    0.292</td>\n",
       "</tr>\n",
       "</table>"
      ],
      "text/plain": [
       "<class 'statsmodels.iolib.summary.Summary'>\n",
       "\"\"\"\n",
       "                           Logit Regression Results                           \n",
       "==============================================================================\n",
       "Dep. Variable:                    bad   No. Observations:                 2018\n",
       "Model:                          Logit   Df Residuals:                     2002\n",
       "Method:                           MLE   Df Model:                           15\n",
       "Date:                Sun, 23 Aug 2020   Pseudo R-squ.:                  0.2007\n",
       "Time:                        14:03:04   Log-Likelihood:                -481.26\n",
       "converged:                       True   LL-Null:                       -602.11\n",
       "Covariance Type:            nonrobust   LLR p-value:                 6.349e-43\n",
       "==================================================================================\n",
       "                     coef    std err          z      P>|z|      [0.025      0.975]\n",
       "----------------------------------------------------------------------------------\n",
       "loan           -2.625e-05   1.07e-05     -2.453      0.014   -4.72e-05   -5.27e-06\n",
       "mortdue        -4.837e-06   4.98e-06     -0.972      0.331   -1.46e-05    4.91e-06\n",
       "value           1.216e-07   4.35e-06      0.028      0.978   -8.41e-06    8.66e-06\n",
       "yoj               -0.0145      0.013     -1.114      0.265      -0.040       0.011\n",
       "derog              0.5742      0.131      4.388      0.000       0.318       0.831\n",
       "delinq             0.7806      0.091      8.595      0.000       0.603       0.959\n",
       "clage             -0.0066      0.001     -4.898      0.000      -0.009      -0.004\n",
       "ninq               0.0919      0.048      1.916      0.055      -0.002       0.186\n",
       "clno              -0.0369      0.011     -3.488      0.000      -0.058      -0.016\n",
       "debtinc            0.0704      0.010      6.833      0.000       0.050       0.091\n",
       "job_Mgr           -2.4682      0.364     -6.774      0.000      -3.182      -1.754\n",
       "job_Office        -3.0527      0.381     -8.013      0.000      -3.799      -2.306\n",
       "job_Other         -2.6848      0.317     -8.457      0.000      -3.307      -2.063\n",
       "job_ProfEx        -2.5181      0.336     -7.494      0.000      -3.177      -1.860\n",
       "job_Sales         -1.3558      0.620     -2.187      0.029      -2.571      -0.141\n",
       "reason_DebtCon    -0.0854      0.193     -0.443      0.658      -0.463       0.292\n",
       "==================================================================================\n",
       "\"\"\""
      ]
     },
     "execution_count": 8,
     "metadata": {},
     "output_type": "execute_result"
    }
   ],
   "source": [
    "loj = sm.Logit(y, X)\n",
    "loj_model= loj.fit()\n",
    "loj_model.summary()\n"
   ]
  },
  {
   "cell_type": "code",
   "execution_count": 9,
   "metadata": {},
   "outputs": [],
   "source": [
    "X=X.drop([\"mortdue\",\"reason_DebtCon\",\"yoj\",\"value\",\"ninq\"],axis=1)"
   ]
  },
  {
   "cell_type": "code",
   "execution_count": 188,
   "metadata": {},
   "outputs": [],
   "source": [
    "#scikit-learn ile Logistic Regression"
   ]
  },
  {
   "cell_type": "code",
   "execution_count": 8,
   "metadata": {},
   "outputs": [
    {
     "data": {
      "text/plain": [
       "LogisticRegression(C=0.1, class_weight=None, dual=False, fit_intercept=True,\n",
       "                   intercept_scaling=1, l1_ratio=None, max_iter=100,\n",
       "                   multi_class='auto', n_jobs=None, penalty='l2',\n",
       "                   random_state=None, solver='newton-cg', tol=0.0001, verbose=0,\n",
       "                   warm_start=False)"
      ]
     },
     "execution_count": 8,
     "metadata": {},
     "output_type": "execute_result"
    }
   ],
   "source": [
    "from sklearn.linear_model import LogisticRegression\n",
    "loj = LogisticRegression(C=0.1,solver = \"newton-cg\") \n",
    "loj_model = loj.fit(X_train,y_train)\n",
    "loj_model\n"
   ]
  },
  {
   "cell_type": "code",
   "execution_count": 9,
   "metadata": {},
   "outputs": [],
   "source": [
    "y_pred_train = loj_model.predict(X_train)\n"
   ]
  },
  {
   "cell_type": "code",
   "execution_count": 10,
   "metadata": {},
   "outputs": [
    {
     "data": {
      "text/plain": [
       "0.9244114002478315"
      ]
     },
     "execution_count": 10,
     "metadata": {},
     "output_type": "execute_result"
    }
   ],
   "source": [
    "accuracy_score(y_train, y_pred_train)"
   ]
  },
  {
   "cell_type": "code",
   "execution_count": 11,
   "metadata": {},
   "outputs": [
    {
     "name": "stdout",
     "output_type": "stream",
     "text": [
      "              precision    recall  f1-score   support\n",
      "\n",
      "           0       0.93      1.00      0.96      1471\n",
      "           1       0.84      0.18      0.30       143\n",
      "\n",
      "    accuracy                           0.92      1614\n",
      "   macro avg       0.88      0.59      0.63      1614\n",
      "weighted avg       0.92      0.92      0.90      1614\n",
      "\n"
     ]
    }
   ],
   "source": [
    "print(classification_report(y_train, y_pred_train))"
   ]
  },
  {
   "cell_type": "code",
   "execution_count": 12,
   "metadata": {},
   "outputs": [
    {
     "data": {
      "image/png": "[encoded data removed]",
      "text/plain": [
       "<Figure size 432x288 with 2 Axes>"
      ]
     },
     "metadata": {
      "needs_background": "light"
     },
     "output_type": "display_data"
    }
   ],
   "source": [
    "from sklearn.metrics import confusion_matrix as cm\n",
    "predictions = loj_model.predict(X_train)\n",
    "score = round(accuracy_score(y_train, predictions), 3)\n",
    "cm1 = cm(y_train, predictions)\n",
    "sns.heatmap(cm1, annot=True, fmt=\".0f\")\n",
    "plt.xlabel('Predicted Values')\n",
    "plt.ylabel('Actual Values')\n",
    "plt.title('Train Accuracy Score: {0}'.format(score), size = 15)\n",
    "plt.show()"
   ]
  },
  {
   "cell_type": "code",
   "execution_count": 13,
   "metadata": {},
   "outputs": [
    {
     "data": {
      "text/plain": [
       "array([-3.35188221])"
      ]
     },
     "execution_count": 13,
     "metadata": {},
     "output_type": "execute_result"
    }
   ],
   "source": [
    "loj_model.intercept_\n"
   ]
  },
  {
   "cell_type": "code",
   "execution_count": 14,
   "metadata": {},
   "outputs": [
    {
     "data": {
      "text/plain": [
       "array([[-2.01081390e-05, -6.75022444e-07,  2.19855561e-06,\n",
       "        -1.75695960e-02,  4.00179049e-01,  6.85443755e-01,\n",
       "        -5.08216267e-03,  9.31312306e-02, -2.49099266e-02,\n",
       "         7.15079691e-02, -1.26528497e-01, -3.91909352e-01,\n",
       "        -2.55456988e-01, -2.10592789e-01,  4.44909758e-02,\n",
       "        -6.18251118e-02]])"
      ]
     },
     "execution_count": 14,
     "metadata": {},
     "output_type": "execute_result"
    }
   ],
   "source": [
    "loj_model.coef_\n"
   ]
  },
  {
   "cell_type": "markdown",
   "metadata": {},
   "source": [
    "## Lojistik Regresyon  & Model Tuning"
   ]
  },
  {
   "cell_type": "code",
   "execution_count": 15,
   "metadata": {},
   "outputs": [
    {
     "data": {
      "text/plain": [
       "LogisticRegression(C=0.1, class_weight=None, dual=False, fit_intercept=True,\n",
       "                   intercept_scaling=1, l1_ratio=None, max_iter=100,\n",
       "                   multi_class='auto', n_jobs=None, penalty='l2',\n",
       "                   random_state=None, solver='newton-cg', tol=0.0001, verbose=0,\n",
       "                   warm_start=False)"
      ]
     },
     "execution_count": 15,
     "metadata": {},
     "output_type": "execute_result"
    }
   ],
   "source": [
    "loj_model"
   ]
  },
  {
   "cell_type": "code",
   "execution_count": 16,
   "metadata": {},
   "outputs": [],
   "source": [
    "y_pred = loj_model.predict(X_test)\n"
   ]
  },
  {
   "cell_type": "code",
   "execution_count": 17,
   "metadata": {},
   "outputs": [
    {
     "data": {
      "text/plain": [
       "array([[368,   1],\n",
       "       [ 30,   5]])"
      ]
     },
     "execution_count": 17,
     "metadata": {},
     "output_type": "execute_result"
    }
   ],
   "source": [
    "confusion_matrix(y_test, y_pred)\n"
   ]
  },
  {
   "cell_type": "code",
   "execution_count": 18,
   "metadata": {},
   "outputs": [
    {
     "data": {
      "image/png": "[encoded data removed]",
      "text/plain": [
       "<Figure size 432x288 with 2 Axes>"
      ]
     },
     "metadata": {
      "needs_background": "light"
     },
     "output_type": "display_data"
    }
   ],
   "source": [
    "from sklearn.metrics import confusion_matrix as cm\n",
    "predictions = loj_model.predict(X_test)\n",
    "score = round(accuracy_score(y_test, predictions), 3)\n",
    "cm1 = cm(y_test, predictions)\n",
    "sns.heatmap(cm1, annot=True, fmt=\".0f\")\n",
    "plt.xlabel('Predicted Values')\n",
    "plt.ylabel('Actual Values')\n",
    "plt.title('Test Accuracy Score: {0}'.format(score), size = 15)\n",
    "plt.show()"
   ]
  },
  {
   "cell_type": "code",
   "execution_count": 19,
   "metadata": {},
   "outputs": [
    {
     "data": {
      "text/plain": [
       "0.9232673267326733"
      ]
     },
     "execution_count": 19,
     "metadata": {},
     "output_type": "execute_result"
    }
   ],
   "source": [
    "accuracy_score(y_test, y_pred)\n",
    "\n"
   ]
  },
  {
   "cell_type": "code",
   "execution_count": 20,
   "metadata": {},
   "outputs": [
    {
     "name": "stdout",
     "output_type": "stream",
     "text": [
      "              precision    recall  f1-score   support\n",
      "\n",
      "           0       0.92      1.00      0.96       369\n",
      "           1       0.83      0.14      0.24        35\n",
      "\n",
      "    accuracy                           0.92       404\n",
      "   macro avg       0.88      0.57      0.60       404\n",
      "weighted avg       0.92      0.92      0.90       404\n",
      "\n"
     ]
    }
   ],
   "source": [
    "print(classification_report(y_test, y_pred))\n",
    "\n"
   ]
  },
  {
   "cell_type": "code",
   "execution_count": 21,
   "metadata": {},
   "outputs": [
    {
     "data": {
      "text/plain": [
       "array([[0.9368772 , 0.0631228 ],\n",
       "       [0.90337934, 0.09662066],\n",
       "       [0.96846372, 0.03153628],\n",
       "       [0.97674545, 0.02325455],\n",
       "       [0.9058224 , 0.0941776 ],\n",
       "       [0.95139755, 0.04860245],\n",
       "       [0.89210843, 0.10789157],\n",
       "       [0.91923899, 0.08076101],\n",
       "       [0.98292371, 0.01707629],\n",
       "       [0.96129049, 0.03870951]])"
      ]
     },
     "execution_count": 21,
     "metadata": {},
     "output_type": "execute_result"
    }
   ],
   "source": [
    "loj_model.predict_proba(X_test)[0:10][:,0:2]\n"
   ]
  },
  {
   "cell_type": "code",
   "execution_count": 22,
   "metadata": {},
   "outputs": [
    {
     "data": {
      "image/png": "[encoded data removed]",
      "text/plain": [
       "<Figure size 432x288 with 1 Axes>"
      ]
     },
     "metadata": {
      "needs_background": "light"
     },
     "output_type": "display_data"
    }
   ],
   "source": [
    "# ROC \n",
    "logit_roc_auc = roc_auc_score(y_test, loj_model.predict(X_test))# burdaki score öenmli\n",
    "\n",
    "fpr, tpr, thresholds = roc_curve(y_test, loj_model.predict_proba(X_test)[:,1])\n",
    "plt.figure()\n",
    "plt.plot(fpr, tpr, label='AUC (area = %0.2f)' % logit_roc_auc)\n",
    "plt.plot([0, 1], [0, 1],'r--')\n",
    "plt.xlim([0.0, 1.0])\n",
    "plt.ylim([0.0, 1.05])\n",
    "plt.xlabel('False Positive Oranı')\n",
    "plt.ylabel('True Positive Oranı')\n",
    "plt.title('ROC')\n",
    "plt.show()"
   ]
  },
  {
   "cell_type": "code",
   "execution_count": 23,
   "metadata": {},
   "outputs": [
    {
     "data": {
      "text/plain": [
       "0.5700735578784358"
      ]
     },
     "execution_count": 23,
     "metadata": {},
     "output_type": "execute_result"
    }
   ],
   "source": [
    "logit_roc_auc = roc_auc_score(y_test, loj_model.predict(X_test))\n",
    "logit_roc_auc \n"
   ]
  },
  {
   "cell_type": "code",
   "execution_count": 24,
   "metadata": {},
   "outputs": [
    {
     "data": {
      "text/plain": [
       "array([0.92682927, 0.95121951, 1.        , 0.90243902, 0.9       ,\n",
       "       0.925     , 0.95      , 0.95      , 0.925     , 0.9       ])"
      ]
     },
     "execution_count": 24,
     "metadata": {},
     "output_type": "execute_result"
    }
   ],
   "source": [
    "cross_val_score(loj_model, X_test, y_test, cv = 10)\n"
   ]
  },
  {
   "cell_type": "code",
   "execution_count": 25,
   "metadata": {},
   "outputs": [
    {
     "data": {
      "text/plain": [
       "0.933048780487805"
      ]
     },
     "execution_count": 25,
     "metadata": {},
     "output_type": "execute_result"
    }
   ],
   "source": [
    "cross_val_score(loj_model, X_test, y_test, cv = 10).mean()"
   ]
  },
  {
   "cell_type": "markdown",
   "metadata": {},
   "source": []
  },
  {
   "cell_type": "markdown",
   "metadata": {},
   "source": [
    "# Gaussian Naive Bayes"
   ]
  },
  {
   "cell_type": "code",
   "execution_count": 178,
   "metadata": {},
   "outputs": [
    {
     "data": {
      "text/html": [
       "<div>\n",
       "<style scoped>\n",
       "    .dataframe tbody tr th:only-of-type {\n",
       "        vertical-align: middle;\n",
       "    }\n",
       "\n",
       "    .dataframe tbody tr th {\n",
       "        vertical-align: top;\n",
       "    }\n",
       "\n",
       "    .dataframe thead th {\n",
       "        text-align: right;\n",
       "    }\n",
       "</style>\n",
       "<table border=\"1\" class=\"dataframe\">\n",
       "  <thead>\n",
       "    <tr style=\"text-align: right;\">\n",
       "      <th></th>\n",
       "      <th>loan</th>\n",
       "      <th>derog</th>\n",
       "      <th>delinq</th>\n",
       "      <th>clage</th>\n",
       "      <th>clno</th>\n",
       "      <th>debtinc</th>\n",
       "      <th>job_Mgr</th>\n",
       "      <th>job_Office</th>\n",
       "      <th>job_Other</th>\n",
       "      <th>job_ProfEx</th>\n",
       "      <th>job_Sales</th>\n",
       "    </tr>\n",
       "  </thead>\n",
       "  <tbody>\n",
       "    <tr>\n",
       "      <th>153</th>\n",
       "      <td>18200</td>\n",
       "      <td>0.0</td>\n",
       "      <td>0.0</td>\n",
       "      <td>168.96</td>\n",
       "      <td>26.0</td>\n",
       "      <td>36.056</td>\n",
       "      <td>1</td>\n",
       "      <td>0</td>\n",
       "      <td>0</td>\n",
       "      <td>0</td>\n",
       "      <td>0</td>\n",
       "    </tr>\n",
       "    <tr>\n",
       "      <th>154</th>\n",
       "      <td>21700</td>\n",
       "      <td>0.0</td>\n",
       "      <td>0.0</td>\n",
       "      <td>64.51</td>\n",
       "      <td>24.0</td>\n",
       "      <td>38.079</td>\n",
       "      <td>1</td>\n",
       "      <td>0</td>\n",
       "      <td>0</td>\n",
       "      <td>0</td>\n",
       "      <td>0</td>\n",
       "    </tr>\n",
       "    <tr>\n",
       "      <th>155</th>\n",
       "      <td>34100</td>\n",
       "      <td>0.0</td>\n",
       "      <td>2.0</td>\n",
       "      <td>196.01</td>\n",
       "      <td>50.0</td>\n",
       "      <td>42.459</td>\n",
       "      <td>1</td>\n",
       "      <td>0</td>\n",
       "      <td>0</td>\n",
       "      <td>0</td>\n",
       "      <td>0</td>\n",
       "    </tr>\n",
       "    <tr>\n",
       "      <th>156</th>\n",
       "      <td>8400</td>\n",
       "      <td>0.0</td>\n",
       "      <td>2.0</td>\n",
       "      <td>131.47</td>\n",
       "      <td>22.0</td>\n",
       "      <td>29.200</td>\n",
       "      <td>1</td>\n",
       "      <td>0</td>\n",
       "      <td>0</td>\n",
       "      <td>0</td>\n",
       "      <td>0</td>\n",
       "    </tr>\n",
       "    <tr>\n",
       "      <th>157</th>\n",
       "      <td>17400</td>\n",
       "      <td>1.0</td>\n",
       "      <td>0.0</td>\n",
       "      <td>95.36</td>\n",
       "      <td>17.0</td>\n",
       "      <td>27.108</td>\n",
       "      <td>1</td>\n",
       "      <td>0</td>\n",
       "      <td>0</td>\n",
       "      <td>0</td>\n",
       "      <td>0</td>\n",
       "    </tr>\n",
       "  </tbody>\n",
       "</table>\n",
       "</div>"
      ],
      "text/plain": [
       "      loan  derog  delinq   clage  clno  debtinc  job_Mgr  job_Office  \\\n",
       "153  18200    0.0     0.0  168.96  26.0   36.056        1           0   \n",
       "154  21700    0.0     0.0   64.51  24.0   38.079        1           0   \n",
       "155  34100    0.0     2.0  196.01  50.0   42.459        1           0   \n",
       "156   8400    0.0     2.0  131.47  22.0   29.200        1           0   \n",
       "157  17400    1.0     0.0   95.36  17.0   27.108        1           0   \n",
       "\n",
       "     job_Other  job_ProfEx  job_Sales  \n",
       "153          0           0          0  \n",
       "154          0           0          0  \n",
       "155          0           0          0  \n",
       "156          0           0          0  \n",
       "157          0           0          0  "
      ]
     },
     "execution_count": 178,
     "metadata": {},
     "output_type": "execute_result"
    }
   ],
   "source": [
    "y=df[\"bad\"]\n",
    "X_=df.drop([\"job\",\"reason\",\"bad\"],axis=1)\n",
    "X=pd.concat([X_,dms[[\"job_Mgr\",\"job_Office\",\"job_Other\",\"job_ProfEx\",\"job_Sales\",\"reason_DebtCon\"]]],axis=1)\n",
    "X=X.drop([\"mortdue\",\"reason_DebtCon\",\"yoj\",\"value\",\"ninq\"],axis=1)\n",
    "X_train, X_test, y_train,y_test=train_test_split(X,y,test_size=0.20,random_state=42)\n",
    "X.head()"
   ]
  },
  {
   "cell_type": "code",
   "execution_count": 179,
   "metadata": {},
   "outputs": [],
   "source": [
    "from sklearn.naive_bayes import GaussianNB, BernoulliNB, MultinomialNB"
   ]
  },
  {
   "cell_type": "code",
   "execution_count": 180,
   "metadata": {},
   "outputs": [
    {
     "data": {
      "text/plain": [
       "GaussianNB(priors=None, var_smoothing=1e-09)"
      ]
     },
     "execution_count": 180,
     "metadata": {},
     "output_type": "execute_result"
    }
   ],
   "source": [
    "gnb = GaussianNB()\n",
    "gnb_model = gnb.fit(X_train, y_train)\n",
    "gnb_model\n"
   ]
  },
  {
   "cell_type": "code",
   "execution_count": 181,
   "metadata": {},
   "outputs": [
    {
     "data": {
      "text/plain": [
       "array([0, 0, 0, 0, 0, 0, 0, 0, 0, 0])"
      ]
     },
     "execution_count": 181,
     "metadata": {},
     "output_type": "execute_result"
    }
   ],
   "source": [
    "gnb_model.predict(X_test)[0:10]\n"
   ]
  },
  {
   "cell_type": "code",
   "execution_count": 182,
   "metadata": {},
   "outputs": [
    {
     "data": {
      "text/plain": [
       "array([[0.98931811, 0.01068189],\n",
       "       [0.99513943, 0.00486057],\n",
       "       [0.99746934, 0.00253066],\n",
       "       [0.99625835, 0.00374165],\n",
       "       [0.99632327, 0.00367673],\n",
       "       [0.98945055, 0.01054945],\n",
       "       [0.99375044, 0.00624956],\n",
       "       [0.99639335, 0.00360665],\n",
       "       [0.99571864, 0.00428136],\n",
       "       [0.99831886, 0.00168114]])"
      ]
     },
     "execution_count": 182,
     "metadata": {},
     "output_type": "execute_result"
    }
   ],
   "source": [
    "gnb_model.predict_proba(X_test)[0:10]\n"
   ]
  },
  {
   "cell_type": "code",
   "execution_count": 183,
   "metadata": {},
   "outputs": [],
   "source": [
    "y_pred = gnb_model.predict(X_test)\n"
   ]
  },
  {
   "cell_type": "code",
   "execution_count": 184,
   "metadata": {},
   "outputs": [
    {
     "data": {
      "text/plain": [
       "0.9158415841584159"
      ]
     },
     "execution_count": 184,
     "metadata": {},
     "output_type": "execute_result"
    }
   ],
   "source": [
    "accuracy_score(y_test, y_pred)\n"
   ]
  },
  {
   "cell_type": "code",
   "execution_count": 185,
   "metadata": {},
   "outputs": [
    {
     "data": {
      "text/plain": [
       "0.9158536585365853"
      ]
     },
     "execution_count": 185,
     "metadata": {},
     "output_type": "execute_result"
    }
   ],
   "source": [
    "cross_val_score(gnb_model, X_test, y_test, cv = 10).mean()\n"
   ]
  },
  {
   "cell_type": "code",
   "execution_count": null,
   "metadata": {},
   "outputs": [],
   "source": []
  },
  {
   "cell_type": "markdown",
   "metadata": {},
   "source": [
    "# Bernoulli Naive Bayes"
   ]
  },
  {
   "cell_type": "code",
   "execution_count": 105,
   "metadata": {},
   "outputs": [
    {
     "data": {
      "text/html": [
       "<div>\n",
       "<style scoped>\n",
       "    .dataframe tbody tr th:only-of-type {\n",
       "        vertical-align: middle;\n",
       "    }\n",
       "\n",
       "    .dataframe tbody tr th {\n",
       "        vertical-align: top;\n",
       "    }\n",
       "\n",
       "    .dataframe thead th {\n",
       "        text-align: right;\n",
       "    }\n",
       "</style>\n",
       "<table border=\"1\" class=\"dataframe\">\n",
       "  <thead>\n",
       "    <tr style=\"text-align: right;\">\n",
       "      <th></th>\n",
       "      <th>loan</th>\n",
       "      <th>derog</th>\n",
       "      <th>delinq</th>\n",
       "      <th>clage</th>\n",
       "      <th>clno</th>\n",
       "      <th>debtinc</th>\n",
       "      <th>job_Mgr</th>\n",
       "      <th>job_Office</th>\n",
       "      <th>job_Other</th>\n",
       "      <th>job_ProfEx</th>\n",
       "      <th>job_Sales</th>\n",
       "    </tr>\n",
       "  </thead>\n",
       "  <tbody>\n",
       "    <tr>\n",
       "      <th>153</th>\n",
       "      <td>18200</td>\n",
       "      <td>0.0</td>\n",
       "      <td>0.0</td>\n",
       "      <td>168.96</td>\n",
       "      <td>26.0</td>\n",
       "      <td>36.056</td>\n",
       "      <td>1</td>\n",
       "      <td>0</td>\n",
       "      <td>0</td>\n",
       "      <td>0</td>\n",
       "      <td>0</td>\n",
       "    </tr>\n",
       "    <tr>\n",
       "      <th>154</th>\n",
       "      <td>21700</td>\n",
       "      <td>0.0</td>\n",
       "      <td>0.0</td>\n",
       "      <td>64.51</td>\n",
       "      <td>24.0</td>\n",
       "      <td>38.079</td>\n",
       "      <td>1</td>\n",
       "      <td>0</td>\n",
       "      <td>0</td>\n",
       "      <td>0</td>\n",
       "      <td>0</td>\n",
       "    </tr>\n",
       "    <tr>\n",
       "      <th>155</th>\n",
       "      <td>34100</td>\n",
       "      <td>0.0</td>\n",
       "      <td>2.0</td>\n",
       "      <td>196.01</td>\n",
       "      <td>50.0</td>\n",
       "      <td>42.459</td>\n",
       "      <td>1</td>\n",
       "      <td>0</td>\n",
       "      <td>0</td>\n",
       "      <td>0</td>\n",
       "      <td>0</td>\n",
       "    </tr>\n",
       "    <tr>\n",
       "      <th>156</th>\n",
       "      <td>8400</td>\n",
       "      <td>0.0</td>\n",
       "      <td>2.0</td>\n",
       "      <td>131.47</td>\n",
       "      <td>22.0</td>\n",
       "      <td>29.200</td>\n",
       "      <td>1</td>\n",
       "      <td>0</td>\n",
       "      <td>0</td>\n",
       "      <td>0</td>\n",
       "      <td>0</td>\n",
       "    </tr>\n",
       "    <tr>\n",
       "      <th>157</th>\n",
       "      <td>17400</td>\n",
       "      <td>1.0</td>\n",
       "      <td>0.0</td>\n",
       "      <td>95.36</td>\n",
       "      <td>17.0</td>\n",
       "      <td>27.108</td>\n",
       "      <td>1</td>\n",
       "      <td>0</td>\n",
       "      <td>0</td>\n",
       "      <td>0</td>\n",
       "      <td>0</td>\n",
       "    </tr>\n",
       "  </tbody>\n",
       "</table>\n",
       "</div>"
      ],
      "text/plain": [
       "      loan  derog  delinq   clage  clno  debtinc  job_Mgr  job_Office  \\\n",
       "153  18200    0.0     0.0  168.96  26.0   36.056        1           0   \n",
       "154  21700    0.0     0.0   64.51  24.0   38.079        1           0   \n",
       "155  34100    0.0     2.0  196.01  50.0   42.459        1           0   \n",
       "156   8400    0.0     2.0  131.47  22.0   29.200        1           0   \n",
       "157  17400    1.0     0.0   95.36  17.0   27.108        1           0   \n",
       "\n",
       "     job_Other  job_ProfEx  job_Sales  \n",
       "153          0           0          0  \n",
       "154          0           0          0  \n",
       "155          0           0          0  \n",
       "156          0           0          0  \n",
       "157          0           0          0  "
      ]
     },
     "execution_count": 105,
     "metadata": {},
     "output_type": "execute_result"
    }
   ],
   "source": [
    "y=df[\"bad\"]\n",
    "X_=df.drop([\"job\",\"reason\",\"bad\"],axis=1)\n",
    "X=pd.concat([X_,dms[[\"job_Mgr\",\"job_Office\",\"job_Other\",\"job_ProfEx\",\"job_Sales\",\"reason_DebtCon\"]]],axis=1)\n",
    "X=X.drop([\"mortdue\",\"reason_DebtCon\",\"yoj\",\"value\",\"ninq\"],axis=1)\n",
    "X_train, X_test, y_train,y_test=train_test_split(X,y,test_size=0.20,random_state=42)\n",
    "X.head()"
   ]
  },
  {
   "cell_type": "code",
   "execution_count": 106,
   "metadata": {},
   "outputs": [
    {
     "data": {
      "text/plain": [
       "BernoulliNB(alpha=1.0, binarize=0.0, class_prior=None, fit_prior=True)"
      ]
     },
     "execution_count": 106,
     "metadata": {},
     "output_type": "execute_result"
    }
   ],
   "source": [
    "bnb = BernoulliNB()\n",
    "bnb_model = bnb.fit(X_train, y_train)\n",
    "bnb_model\n"
   ]
  },
  {
   "cell_type": "code",
   "execution_count": 107,
   "metadata": {},
   "outputs": [],
   "source": [
    "y_pred = bnb_model.predict(X_test)\n"
   ]
  },
  {
   "cell_type": "code",
   "execution_count": 108,
   "metadata": {},
   "outputs": [
    {
     "data": {
      "text/plain": [
       "0.905940594059406"
      ]
     },
     "execution_count": 108,
     "metadata": {},
     "output_type": "execute_result"
    }
   ],
   "source": [
    "accuracy_score(y_test, y_pred)\n"
   ]
  },
  {
   "cell_type": "code",
   "execution_count": 109,
   "metadata": {},
   "outputs": [
    {
     "data": {
      "text/plain": [
       "0.9061585365853659"
      ]
     },
     "execution_count": 109,
     "metadata": {},
     "output_type": "execute_result"
    }
   ],
   "source": [
    "cross_val_score(bnb_model, X_test, y_test, cv = 10).mean()"
   ]
  },
  {
   "cell_type": "code",
   "execution_count": null,
   "metadata": {},
   "outputs": [],
   "source": []
  },
  {
   "cell_type": "markdown",
   "metadata": {},
   "source": [
    "# Multinomial Naive Bayes"
   ]
  },
  {
   "cell_type": "code",
   "execution_count": 111,
   "metadata": {},
   "outputs": [
    {
     "data": {
      "text/html": [
       "<div>\n",
       "<style scoped>\n",
       "    .dataframe tbody tr th:only-of-type {\n",
       "        vertical-align: middle;\n",
       "    }\n",
       "\n",
       "    .dataframe tbody tr th {\n",
       "        vertical-align: top;\n",
       "    }\n",
       "\n",
       "    .dataframe thead th {\n",
       "        text-align: right;\n",
       "    }\n",
       "</style>\n",
       "<table border=\"1\" class=\"dataframe\">\n",
       "  <thead>\n",
       "    <tr style=\"text-align: right;\">\n",
       "      <th></th>\n",
       "      <th>loan</th>\n",
       "      <th>derog</th>\n",
       "      <th>delinq</th>\n",
       "      <th>clage</th>\n",
       "      <th>clno</th>\n",
       "      <th>debtinc</th>\n",
       "      <th>job_Mgr</th>\n",
       "      <th>job_Office</th>\n",
       "      <th>job_Other</th>\n",
       "      <th>job_ProfEx</th>\n",
       "      <th>job_Sales</th>\n",
       "    </tr>\n",
       "  </thead>\n",
       "  <tbody>\n",
       "    <tr>\n",
       "      <th>153</th>\n",
       "      <td>18200</td>\n",
       "      <td>0.0</td>\n",
       "      <td>0.0</td>\n",
       "      <td>168.96</td>\n",
       "      <td>26.0</td>\n",
       "      <td>36.056</td>\n",
       "      <td>1</td>\n",
       "      <td>0</td>\n",
       "      <td>0</td>\n",
       "      <td>0</td>\n",
       "      <td>0</td>\n",
       "    </tr>\n",
       "    <tr>\n",
       "      <th>154</th>\n",
       "      <td>21700</td>\n",
       "      <td>0.0</td>\n",
       "      <td>0.0</td>\n",
       "      <td>64.51</td>\n",
       "      <td>24.0</td>\n",
       "      <td>38.079</td>\n",
       "      <td>1</td>\n",
       "      <td>0</td>\n",
       "      <td>0</td>\n",
       "      <td>0</td>\n",
       "      <td>0</td>\n",
       "    </tr>\n",
       "    <tr>\n",
       "      <th>155</th>\n",
       "      <td>34100</td>\n",
       "      <td>0.0</td>\n",
       "      <td>2.0</td>\n",
       "      <td>196.01</td>\n",
       "      <td>50.0</td>\n",
       "      <td>42.459</td>\n",
       "      <td>1</td>\n",
       "      <td>0</td>\n",
       "      <td>0</td>\n",
       "      <td>0</td>\n",
       "      <td>0</td>\n",
       "    </tr>\n",
       "    <tr>\n",
       "      <th>156</th>\n",
       "      <td>8400</td>\n",
       "      <td>0.0</td>\n",
       "      <td>2.0</td>\n",
       "      <td>131.47</td>\n",
       "      <td>22.0</td>\n",
       "      <td>29.200</td>\n",
       "      <td>1</td>\n",
       "      <td>0</td>\n",
       "      <td>0</td>\n",
       "      <td>0</td>\n",
       "      <td>0</td>\n",
       "    </tr>\n",
       "    <tr>\n",
       "      <th>157</th>\n",
       "      <td>17400</td>\n",
       "      <td>1.0</td>\n",
       "      <td>0.0</td>\n",
       "      <td>95.36</td>\n",
       "      <td>17.0</td>\n",
       "      <td>27.108</td>\n",
       "      <td>1</td>\n",
       "      <td>0</td>\n",
       "      <td>0</td>\n",
       "      <td>0</td>\n",
       "      <td>0</td>\n",
       "    </tr>\n",
       "  </tbody>\n",
       "</table>\n",
       "</div>"
      ],
      "text/plain": [
       "      loan  derog  delinq   clage  clno  debtinc  job_Mgr  job_Office  \\\n",
       "153  18200    0.0     0.0  168.96  26.0   36.056        1           0   \n",
       "154  21700    0.0     0.0   64.51  24.0   38.079        1           0   \n",
       "155  34100    0.0     2.0  196.01  50.0   42.459        1           0   \n",
       "156   8400    0.0     2.0  131.47  22.0   29.200        1           0   \n",
       "157  17400    1.0     0.0   95.36  17.0   27.108        1           0   \n",
       "\n",
       "     job_Other  job_ProfEx  job_Sales  \n",
       "153          0           0          0  \n",
       "154          0           0          0  \n",
       "155          0           0          0  \n",
       "156          0           0          0  \n",
       "157          0           0          0  "
      ]
     },
     "execution_count": 111,
     "metadata": {},
     "output_type": "execute_result"
    }
   ],
   "source": [
    "y=df[\"bad\"]\n",
    "X_=df.drop([\"job\",\"reason\",\"bad\"],axis=1)\n",
    "X=pd.concat([X_,dms[[\"job_Mgr\",\"job_Office\",\"job_Other\",\"job_ProfEx\",\"job_Sales\",\"reason_DebtCon\"]]],axis=1)\n",
    "X=X.drop([\"mortdue\",\"reason_DebtCon\",\"yoj\",\"value\",\"ninq\"],axis=1)\n",
    "X_train, X_test, y_train,y_test=train_test_split(X,y,test_size=0.20,random_state=42)\n",
    "X.head()"
   ]
  },
  {
   "cell_type": "code",
   "execution_count": 112,
   "metadata": {},
   "outputs": [
    {
     "data": {
      "text/plain": [
       "MultinomialNB(alpha=1.0, class_prior=None, fit_prior=True)"
      ]
     },
     "execution_count": 112,
     "metadata": {},
     "output_type": "execute_result"
    }
   ],
   "source": [
    "mnb = MultinomialNB()\n",
    "mnb_model = mnb.fit(X_train, y_train)\n",
    "mnb_model"
   ]
  },
  {
   "cell_type": "code",
   "execution_count": 113,
   "metadata": {},
   "outputs": [],
   "source": [
    "y_pred = mnb_model.predict(X_test)\n"
   ]
  },
  {
   "cell_type": "code",
   "execution_count": 114,
   "metadata": {},
   "outputs": [
    {
     "data": {
      "text/plain": [
       "0.7128712871287128"
      ]
     },
     "execution_count": 114,
     "metadata": {},
     "output_type": "execute_result"
    }
   ],
   "source": [
    "accuracy_score(y_test, y_pred)\n"
   ]
  },
  {
   "cell_type": "code",
   "execution_count": 115,
   "metadata": {},
   "outputs": [
    {
     "data": {
      "text/plain": [
       "0.747560975609756"
      ]
     },
     "execution_count": 115,
     "metadata": {},
     "output_type": "execute_result"
    }
   ],
   "source": [
    "cross_val_score(mnb_model, X_test, y_test, cv = 10).mean()\n"
   ]
  },
  {
   "cell_type": "markdown",
   "metadata": {},
   "source": [
    "# KNN "
   ]
  },
  {
   "cell_type": "code",
   "execution_count": 117,
   "metadata": {},
   "outputs": [
    {
     "data": {
      "text/html": [
       "<div>\n",
       "<style scoped>\n",
       "    .dataframe tbody tr th:only-of-type {\n",
       "        vertical-align: middle;\n",
       "    }\n",
       "\n",
       "    .dataframe tbody tr th {\n",
       "        vertical-align: top;\n",
       "    }\n",
       "\n",
       "    .dataframe thead th {\n",
       "        text-align: right;\n",
       "    }\n",
       "</style>\n",
       "<table border=\"1\" class=\"dataframe\">\n",
       "  <thead>\n",
       "    <tr style=\"text-align: right;\">\n",
       "      <th></th>\n",
       "      <th>loan</th>\n",
       "      <th>derog</th>\n",
       "      <th>delinq</th>\n",
       "      <th>clage</th>\n",
       "      <th>clno</th>\n",
       "      <th>debtinc</th>\n",
       "      <th>job_Mgr</th>\n",
       "      <th>job_Office</th>\n",
       "      <th>job_Other</th>\n",
       "      <th>job_ProfEx</th>\n",
       "      <th>job_Sales</th>\n",
       "    </tr>\n",
       "  </thead>\n",
       "  <tbody>\n",
       "    <tr>\n",
       "      <th>153</th>\n",
       "      <td>18200</td>\n",
       "      <td>0.0</td>\n",
       "      <td>0.0</td>\n",
       "      <td>168.96</td>\n",
       "      <td>26.0</td>\n",
       "      <td>36.056</td>\n",
       "      <td>1</td>\n",
       "      <td>0</td>\n",
       "      <td>0</td>\n",
       "      <td>0</td>\n",
       "      <td>0</td>\n",
       "    </tr>\n",
       "    <tr>\n",
       "      <th>154</th>\n",
       "      <td>21700</td>\n",
       "      <td>0.0</td>\n",
       "      <td>0.0</td>\n",
       "      <td>64.51</td>\n",
       "      <td>24.0</td>\n",
       "      <td>38.079</td>\n",
       "      <td>1</td>\n",
       "      <td>0</td>\n",
       "      <td>0</td>\n",
       "      <td>0</td>\n",
       "      <td>0</td>\n",
       "    </tr>\n",
       "    <tr>\n",
       "      <th>155</th>\n",
       "      <td>34100</td>\n",
       "      <td>0.0</td>\n",
       "      <td>2.0</td>\n",
       "      <td>196.01</td>\n",
       "      <td>50.0</td>\n",
       "      <td>42.459</td>\n",
       "      <td>1</td>\n",
       "      <td>0</td>\n",
       "      <td>0</td>\n",
       "      <td>0</td>\n",
       "      <td>0</td>\n",
       "    </tr>\n",
       "    <tr>\n",
       "      <th>156</th>\n",
       "      <td>8400</td>\n",
       "      <td>0.0</td>\n",
       "      <td>2.0</td>\n",
       "      <td>131.47</td>\n",
       "      <td>22.0</td>\n",
       "      <td>29.200</td>\n",
       "      <td>1</td>\n",
       "      <td>0</td>\n",
       "      <td>0</td>\n",
       "      <td>0</td>\n",
       "      <td>0</td>\n",
       "    </tr>\n",
       "    <tr>\n",
       "      <th>157</th>\n",
       "      <td>17400</td>\n",
       "      <td>1.0</td>\n",
       "      <td>0.0</td>\n",
       "      <td>95.36</td>\n",
       "      <td>17.0</td>\n",
       "      <td>27.108</td>\n",
       "      <td>1</td>\n",
       "      <td>0</td>\n",
       "      <td>0</td>\n",
       "      <td>0</td>\n",
       "      <td>0</td>\n",
       "    </tr>\n",
       "  </tbody>\n",
       "</table>\n",
       "</div>"
      ],
      "text/plain": [
       "      loan  derog  delinq   clage  clno  debtinc  job_Mgr  job_Office  \\\n",
       "153  18200    0.0     0.0  168.96  26.0   36.056        1           0   \n",
       "154  21700    0.0     0.0   64.51  24.0   38.079        1           0   \n",
       "155  34100    0.0     2.0  196.01  50.0   42.459        1           0   \n",
       "156   8400    0.0     2.0  131.47  22.0   29.200        1           0   \n",
       "157  17400    1.0     0.0   95.36  17.0   27.108        1           0   \n",
       "\n",
       "     job_Other  job_ProfEx  job_Sales  \n",
       "153          0           0          0  \n",
       "154          0           0          0  \n",
       "155          0           0          0  \n",
       "156          0           0          0  \n",
       "157          0           0          0  "
      ]
     },
     "execution_count": 117,
     "metadata": {},
     "output_type": "execute_result"
    }
   ],
   "source": [
    "y=df[\"bad\"]\n",
    "X_=df.drop([\"job\",\"reason\",\"bad\"],axis=1)\n",
    "X=pd.concat([X_,dms[[\"job_Mgr\",\"job_Office\",\"job_Other\",\"job_ProfEx\",\"job_Sales\",\"reason_DebtCon\"]]],axis=1)\n",
    "X=X.drop([\"mortdue\",\"reason_DebtCon\",\"yoj\",\"value\",\"ninq\"],axis=1)\n",
    "X_train, X_test, y_train,y_test=train_test_split(X,y,test_size=0.20,random_state=42)\n",
    "X.head()"
   ]
  },
  {
   "cell_type": "code",
   "execution_count": 118,
   "metadata": {},
   "outputs": [
    {
     "data": {
      "text/plain": [
       "KNeighborsClassifier(algorithm='auto', leaf_size=30, metric='minkowski',\n",
       "                     metric_params=None, n_jobs=None, n_neighbors=5, p=2,\n",
       "                     weights='uniform')"
      ]
     },
     "execution_count": 118,
     "metadata": {},
     "output_type": "execute_result"
    }
   ],
   "source": [
    "knn = KNeighborsClassifier()\n",
    "knn_model = knn.fit(X_train, y_train)\n",
    "knn_model"
   ]
  },
  {
   "cell_type": "code",
   "execution_count": 119,
   "metadata": {},
   "outputs": [],
   "source": [
    "y_pred = knn_model.predict(X_test)"
   ]
  },
  {
   "cell_type": "code",
   "execution_count": 120,
   "metadata": {},
   "outputs": [
    {
     "data": {
      "text/plain": [
       "0.905940594059406"
      ]
     },
     "execution_count": 120,
     "metadata": {},
     "output_type": "execute_result"
    }
   ],
   "source": [
    "accuracy_score(y_test, y_pred)"
   ]
  },
  {
   "cell_type": "code",
   "execution_count": 121,
   "metadata": {},
   "outputs": [
    {
     "name": "stdout",
     "output_type": "stream",
     "text": [
      "              precision    recall  f1-score   support\n",
      "\n",
      "           0       0.91      0.99      0.95       369\n",
      "           1       0.20      0.03      0.05        35\n",
      "\n",
      "    accuracy                           0.91       404\n",
      "   macro avg       0.56      0.51      0.50       404\n",
      "weighted avg       0.85      0.91      0.87       404\n",
      "\n"
     ]
    }
   ],
   "source": [
    "print(classification_report(y_test, y_pred))"
   ]
  },
  {
   "cell_type": "markdown",
   "metadata": {},
   "source": [
    "## KNN - Model Tuning"
   ]
  },
  {
   "cell_type": "code",
   "execution_count": 122,
   "metadata": {},
   "outputs": [
    {
     "data": {
      "text/plain": [
       "KNeighborsClassifier(algorithm='auto', leaf_size=30, metric='minkowski',\n",
       "                     metric_params=None, n_jobs=None, n_neighbors=5, p=2,\n",
       "                     weights='uniform')"
      ]
     },
     "execution_count": 122,
     "metadata": {},
     "output_type": "execute_result"
    }
   ],
   "source": [
    "knn_model\n"
   ]
  },
  {
   "cell_type": "code",
   "execution_count": 123,
   "metadata": {},
   "outputs": [],
   "source": [
    "knn_params = {\"n_neighbors\": np.arange(1,50)}\n"
   ]
  },
  {
   "cell_type": "code",
   "execution_count": 124,
   "metadata": {},
   "outputs": [
    {
     "data": {
      "text/plain": [
       "GridSearchCV(cv=10, error_score=nan,\n",
       "             estimator=KNeighborsClassifier(algorithm='auto', leaf_size=30,\n",
       "                                            metric='minkowski',\n",
       "                                            metric_params=None, n_jobs=None,\n",
       "                                            n_neighbors=5, p=2,\n",
       "                                            weights='uniform'),\n",
       "             iid='deprecated', n_jobs=None,\n",
       "             param_grid={'n_neighbors': array([ 1,  2,  3,  4,  5,  6,  7,  8,  9, 10, 11, 12, 13, 14, 15, 16, 17,\n",
       "       18, 19, 20, 21, 22, 23, 24, 25, 26, 27, 28, 29, 30, 31, 32, 33, 34,\n",
       "       35, 36, 37, 38, 39, 40, 41, 42, 43, 44, 45, 46, 47, 48, 49])},\n",
       "             pre_dispatch='2*n_jobs', refit=True, return_train_score=False,\n",
       "             scoring=None, verbose=0)"
      ]
     },
     "execution_count": 124,
     "metadata": {},
     "output_type": "execute_result"
    }
   ],
   "source": [
    "knn = KNeighborsClassifier()\n",
    "knn_cv = GridSearchCV(knn, knn_params, cv=10)\n",
    "knn_cv.fit(X_train, y_train)\n"
   ]
  },
  {
   "cell_type": "code",
   "execution_count": 125,
   "metadata": {},
   "outputs": [
    {
     "name": "stdout",
     "output_type": "stream",
     "text": [
      "En iyi skor:0.911406333870102\n",
      "En iyi parametreler: {'n_neighbors': 12}\n"
     ]
    }
   ],
   "source": [
    "print(\"En iyi skor:\" + str(knn_cv.best_score_))\n",
    "print(\"En iyi parametreler: \" + str(knn_cv.best_params_))\n"
   ]
  },
  {
   "cell_type": "code",
   "execution_count": 126,
   "metadata": {},
   "outputs": [],
   "source": [
    "knn = KNeighborsClassifier(12)\n",
    "knn_tuned = knn.fit(X_train, y_train)\n"
   ]
  },
  {
   "cell_type": "code",
   "execution_count": 127,
   "metadata": {},
   "outputs": [
    {
     "data": {
      "text/plain": [
       "0.9133663366336634"
      ]
     },
     "execution_count": 127,
     "metadata": {},
     "output_type": "execute_result"
    }
   ],
   "source": [
    "knn_tuned.score(X_test, y_test)\n"
   ]
  },
  {
   "cell_type": "code",
   "execution_count": 128,
   "metadata": {},
   "outputs": [],
   "source": [
    "y_pred = knn_tuned.predict(X_test)"
   ]
  },
  {
   "cell_type": "code",
   "execution_count": 129,
   "metadata": {},
   "outputs": [
    {
     "data": {
      "text/plain": [
       "0.9133663366336634"
      ]
     },
     "execution_count": 129,
     "metadata": {},
     "output_type": "execute_result"
    }
   ],
   "source": [
    "accuracy_score(y_test, y_pred)\n"
   ]
  },
  {
   "cell_type": "code",
   "execution_count": 130,
   "metadata": {},
   "outputs": [
    {
     "name": "stdout",
     "output_type": "stream",
     "text": [
      "              precision    recall  f1-score   support\n",
      "\n",
      "           0       0.91      1.00      0.95       369\n",
      "           1       0.00      0.00      0.00        35\n",
      "\n",
      "    accuracy                           0.91       404\n",
      "   macro avg       0.46      0.50      0.48       404\n",
      "weighted avg       0.83      0.91      0.87       404\n",
      "\n"
     ]
    }
   ],
   "source": [
    "print(classification_report(y_test, y_pred))"
   ]
  },
  {
   "cell_type": "code",
   "execution_count": null,
   "metadata": {},
   "outputs": [],
   "source": []
  },
  {
   "cell_type": "markdown",
   "metadata": {},
   "source": [
    "# SVC"
   ]
  },
  {
   "cell_type": "code",
   "execution_count": 10,
   "metadata": {},
   "outputs": [
    {
     "data": {
      "text/html": [
       "<div>\n",
       "<style scoped>\n",
       "    .dataframe tbody tr th:only-of-type {\n",
       "        vertical-align: middle;\n",
       "    }\n",
       "\n",
       "    .dataframe tbody tr th {\n",
       "        vertical-align: top;\n",
       "    }\n",
       "\n",
       "    .dataframe thead th {\n",
       "        text-align: right;\n",
       "    }\n",
       "</style>\n",
       "<table border=\"1\" class=\"dataframe\">\n",
       "  <thead>\n",
       "    <tr style=\"text-align: right;\">\n",
       "      <th></th>\n",
       "      <th>loan</th>\n",
       "      <th>derog</th>\n",
       "      <th>delinq</th>\n",
       "      <th>clage</th>\n",
       "      <th>clno</th>\n",
       "      <th>debtinc</th>\n",
       "      <th>job_Mgr</th>\n",
       "      <th>job_Office</th>\n",
       "      <th>job_Other</th>\n",
       "      <th>job_ProfEx</th>\n",
       "      <th>job_Sales</th>\n",
       "    </tr>\n",
       "  </thead>\n",
       "  <tbody>\n",
       "    <tr>\n",
       "      <th>153</th>\n",
       "      <td>18200</td>\n",
       "      <td>0.0</td>\n",
       "      <td>0.0</td>\n",
       "      <td>168.96</td>\n",
       "      <td>26.0</td>\n",
       "      <td>36.056</td>\n",
       "      <td>1</td>\n",
       "      <td>0</td>\n",
       "      <td>0</td>\n",
       "      <td>0</td>\n",
       "      <td>0</td>\n",
       "    </tr>\n",
       "    <tr>\n",
       "      <th>154</th>\n",
       "      <td>21700</td>\n",
       "      <td>0.0</td>\n",
       "      <td>0.0</td>\n",
       "      <td>64.51</td>\n",
       "      <td>24.0</td>\n",
       "      <td>38.079</td>\n",
       "      <td>1</td>\n",
       "      <td>0</td>\n",
       "      <td>0</td>\n",
       "      <td>0</td>\n",
       "      <td>0</td>\n",
       "    </tr>\n",
       "    <tr>\n",
       "      <th>155</th>\n",
       "      <td>34100</td>\n",
       "      <td>0.0</td>\n",
       "      <td>2.0</td>\n",
       "      <td>196.01</td>\n",
       "      <td>50.0</td>\n",
       "      <td>42.459</td>\n",
       "      <td>1</td>\n",
       "      <td>0</td>\n",
       "      <td>0</td>\n",
       "      <td>0</td>\n",
       "      <td>0</td>\n",
       "    </tr>\n",
       "    <tr>\n",
       "      <th>156</th>\n",
       "      <td>8400</td>\n",
       "      <td>0.0</td>\n",
       "      <td>2.0</td>\n",
       "      <td>131.47</td>\n",
       "      <td>22.0</td>\n",
       "      <td>29.200</td>\n",
       "      <td>1</td>\n",
       "      <td>0</td>\n",
       "      <td>0</td>\n",
       "      <td>0</td>\n",
       "      <td>0</td>\n",
       "    </tr>\n",
       "    <tr>\n",
       "      <th>157</th>\n",
       "      <td>17400</td>\n",
       "      <td>1.0</td>\n",
       "      <td>0.0</td>\n",
       "      <td>95.36</td>\n",
       "      <td>17.0</td>\n",
       "      <td>27.108</td>\n",
       "      <td>1</td>\n",
       "      <td>0</td>\n",
       "      <td>0</td>\n",
       "      <td>0</td>\n",
       "      <td>0</td>\n",
       "    </tr>\n",
       "  </tbody>\n",
       "</table>\n",
       "</div>"
      ],
      "text/plain": [
       "      loan  derog  delinq   clage  clno  debtinc  job_Mgr  job_Office  \\\n",
       "153  18200    0.0     0.0  168.96  26.0   36.056        1           0   \n",
       "154  21700    0.0     0.0   64.51  24.0   38.079        1           0   \n",
       "155  34100    0.0     2.0  196.01  50.0   42.459        1           0   \n",
       "156   8400    0.0     2.0  131.47  22.0   29.200        1           0   \n",
       "157  17400    1.0     0.0   95.36  17.0   27.108        1           0   \n",
       "\n",
       "     job_Other  job_ProfEx  job_Sales  \n",
       "153          0           0          0  \n",
       "154          0           0          0  \n",
       "155          0           0          0  \n",
       "156          0           0          0  \n",
       "157          0           0          0  "
      ]
     },
     "execution_count": 10,
     "metadata": {},
     "output_type": "execute_result"
    }
   ],
   "source": [
    "y=df[\"bad\"]\n",
    "X_=df.drop([\"job\",\"reason\",\"bad\"],axis=1)\n",
    "X=pd.concat([X_,dms[[\"job_Mgr\",\"job_Office\",\"job_Other\",\"job_ProfEx\",\"job_Sales\",\"reason_DebtCon\"]]],axis=1)\n",
    "X=X.drop([\"mortdue\",\"reason_DebtCon\",\"yoj\",\"value\",\"ninq\"],axis=1)\n",
    "X_train, X_test, y_train,y_test=train_test_split(X,y,test_size=0.20,random_state=42)\n",
    "X.head()"
   ]
  },
  {
   "cell_type": "code",
   "execution_count": 11,
   "metadata": {},
   "outputs": [],
   "source": [
    "svm_model = SVC(kernel = \"linear\").fit(X_train, y_train)\n"
   ]
  },
  {
   "cell_type": "code",
   "execution_count": 134,
   "metadata": {},
   "outputs": [
    {
     "data": {
      "text/plain": [
       "SVC(C=1.0, break_ties=False, cache_size=200, class_weight=None, coef0=0.0,\n",
       "    decision_function_shape='ovr', degree=3, gamma='scale', kernel='linear',\n",
       "    max_iter=-1, probability=False, random_state=None, shrinking=True,\n",
       "    tol=0.001, verbose=False)"
      ]
     },
     "execution_count": 134,
     "metadata": {},
     "output_type": "execute_result"
    }
   ],
   "source": [
    "svm_model"
   ]
  },
  {
   "cell_type": "code",
   "execution_count": 135,
   "metadata": {},
   "outputs": [],
   "source": [
    "y_pred = svm_model.predict(X_test)"
   ]
  },
  {
   "cell_type": "code",
   "execution_count": 136,
   "metadata": {},
   "outputs": [
    {
     "data": {
      "text/plain": [
       "0.9257425742574258"
      ]
     },
     "execution_count": 136,
     "metadata": {},
     "output_type": "execute_result"
    }
   ],
   "source": [
    "accuracy_score(y_test, y_pred)\n"
   ]
  },
  {
   "cell_type": "markdown",
   "metadata": {},
   "source": [
    "## SVC-Model Tuning"
   ]
  },
  {
   "cell_type": "code",
   "execution_count": 49,
   "metadata": {},
   "outputs": [
    {
     "data": {
      "text/plain": [
       "SVC(C=1.0, break_ties=False, cache_size=200, class_weight=None, coef0=0.0,\n",
       "    decision_function_shape='ovr', degree=3, gamma='scale', kernel='linear',\n",
       "    max_iter=-1, probability=False, random_state=None, shrinking=True,\n",
       "    tol=0.001, verbose=False)"
      ]
     },
     "execution_count": 49,
     "metadata": {},
     "output_type": "execute_result"
    }
   ],
   "source": [
    "svm_model"
   ]
  },
  {
   "cell_type": "code",
   "execution_count": 50,
   "metadata": {},
   "outputs": [],
   "source": [
    "?svm_model"
   ]
  },
  {
   "cell_type": "code",
   "execution_count": 53,
   "metadata": {},
   "outputs": [
    {
     "name": "stdout",
     "output_type": "stream",
     "text": [
      "Fitting 10 folds for each of 9 candidates, totalling 90 fits\n"
     ]
    },
    {
     "name": "stderr",
     "output_type": "stream",
     "text": [
      "[Parallel(n_jobs=-1)]: Using backend LokyBackend with 4 concurrent workers.\n",
      "[Parallel(n_jobs=-1)]: Done  33 tasks      | elapsed: 43.6min\n",
      "[Parallel(n_jobs=-1)]: Done  90 out of  90 | elapsed: 113.3min finished\n"
     ]
    },
    {
     "data": {
      "text/plain": [
       "GridSearchCV(cv=10, error_score=nan,\n",
       "             estimator=SVC(C=1.0, break_ties=False, cache_size=200,\n",
       "                           class_weight=None, coef0=0.0,\n",
       "                           decision_function_shape='ovr', degree=3,\n",
       "                           gamma='scale', kernel='linear', max_iter=-1,\n",
       "                           probability=False, random_state=None, shrinking=True,\n",
       "                           tol=0.001, verbose=False),\n",
       "             iid='deprecated', n_jobs=-1,\n",
       "             param_grid={'C': array([1, 2, 3, 4, 5, 6, 7, 8, 9]),\n",
       "                         'kernel': ['linear']},\n",
       "             pre_dispatch='2*n_jobs', refit=True, return_train_score=False,\n",
       "             scoring=None, verbose=2)"
      ]
     },
     "execution_count": 53,
     "metadata": {},
     "output_type": "execute_result"
    }
   ],
   "source": [
    "svc_params = {\"C\": np.arange(1,10), \"kernel\" :[\"linear\"]}\n",
    "\n",
    "svc = SVC(kernel = \"linear\")\n",
    "\n",
    "svc_cv_model = GridSearchCV(svc,svc_params, \n",
    "                            cv = 10, \n",
    "                            n_jobs = -1, \n",
    "                            verbose = 2 )\n",
    "\n",
    "svc_cv_model.fit(X_train, y_train)\n"
   ]
  },
  {
   "cell_type": "code",
   "execution_count": 54,
   "metadata": {},
   "outputs": [
    {
     "name": "stdout",
     "output_type": "stream",
     "text": [
      "En iyi parametreler: {'C': 2, 'kernel': 'linear'}\n"
     ]
    }
   ],
   "source": [
    "print(\"En iyi parametreler: \" + str(svc_cv_model.best_params_))"
   ]
  },
  {
   "cell_type": "code",
   "execution_count": 137,
   "metadata": {},
   "outputs": [],
   "source": [
    "svc_tuned = SVC(kernel = \"linear\",C = 2).fit(X_train, y_train)"
   ]
  },
  {
   "cell_type": "code",
   "execution_count": 138,
   "metadata": {},
   "outputs": [
    {
     "data": {
      "text/plain": [
       "0.9257425742574258"
      ]
     },
     "execution_count": 138,
     "metadata": {},
     "output_type": "execute_result"
    }
   ],
   "source": [
    "y_pred = svc_tuned.predict(X_test)\n",
    "accuracy_score(y_test, y_pred)"
   ]
  },
  {
   "cell_type": "code",
   "execution_count": null,
   "metadata": {},
   "outputs": [],
   "source": []
  },
  {
   "cell_type": "markdown",
   "metadata": {},
   "source": [
    "# Neural Network\n",
    "\n",
    "   "
   ]
  },
  {
   "cell_type": "code",
   "execution_count": 241,
   "metadata": {},
   "outputs": [
    {
     "data": {
      "text/html": [
       "<div>\n",
       "<style scoped>\n",
       "    .dataframe tbody tr th:only-of-type {\n",
       "        vertical-align: middle;\n",
       "    }\n",
       "\n",
       "    .dataframe tbody tr th {\n",
       "        vertical-align: top;\n",
       "    }\n",
       "\n",
       "    .dataframe thead th {\n",
       "        text-align: right;\n",
       "    }\n",
       "</style>\n",
       "<table border=\"1\" class=\"dataframe\">\n",
       "  <thead>\n",
       "    <tr style=\"text-align: right;\">\n",
       "      <th></th>\n",
       "      <th>loan</th>\n",
       "      <th>derog</th>\n",
       "      <th>delinq</th>\n",
       "      <th>clage</th>\n",
       "      <th>clno</th>\n",
       "      <th>debtinc</th>\n",
       "      <th>job_Mgr</th>\n",
       "      <th>job_Office</th>\n",
       "      <th>job_Other</th>\n",
       "      <th>job_ProfEx</th>\n",
       "      <th>job_Sales</th>\n",
       "    </tr>\n",
       "  </thead>\n",
       "  <tbody>\n",
       "    <tr>\n",
       "      <th>153</th>\n",
       "      <td>18200</td>\n",
       "      <td>0.0</td>\n",
       "      <td>0.0</td>\n",
       "      <td>168.96</td>\n",
       "      <td>26.0</td>\n",
       "      <td>36.056</td>\n",
       "      <td>1</td>\n",
       "      <td>0</td>\n",
       "      <td>0</td>\n",
       "      <td>0</td>\n",
       "      <td>0</td>\n",
       "    </tr>\n",
       "    <tr>\n",
       "      <th>154</th>\n",
       "      <td>21700</td>\n",
       "      <td>0.0</td>\n",
       "      <td>0.0</td>\n",
       "      <td>64.51</td>\n",
       "      <td>24.0</td>\n",
       "      <td>38.079</td>\n",
       "      <td>1</td>\n",
       "      <td>0</td>\n",
       "      <td>0</td>\n",
       "      <td>0</td>\n",
       "      <td>0</td>\n",
       "    </tr>\n",
       "    <tr>\n",
       "      <th>155</th>\n",
       "      <td>34100</td>\n",
       "      <td>0.0</td>\n",
       "      <td>2.0</td>\n",
       "      <td>196.01</td>\n",
       "      <td>50.0</td>\n",
       "      <td>42.459</td>\n",
       "      <td>1</td>\n",
       "      <td>0</td>\n",
       "      <td>0</td>\n",
       "      <td>0</td>\n",
       "      <td>0</td>\n",
       "    </tr>\n",
       "    <tr>\n",
       "      <th>156</th>\n",
       "      <td>8400</td>\n",
       "      <td>0.0</td>\n",
       "      <td>2.0</td>\n",
       "      <td>131.47</td>\n",
       "      <td>22.0</td>\n",
       "      <td>29.200</td>\n",
       "      <td>1</td>\n",
       "      <td>0</td>\n",
       "      <td>0</td>\n",
       "      <td>0</td>\n",
       "      <td>0</td>\n",
       "    </tr>\n",
       "    <tr>\n",
       "      <th>157</th>\n",
       "      <td>17400</td>\n",
       "      <td>1.0</td>\n",
       "      <td>0.0</td>\n",
       "      <td>95.36</td>\n",
       "      <td>17.0</td>\n",
       "      <td>27.108</td>\n",
       "      <td>1</td>\n",
       "      <td>0</td>\n",
       "      <td>0</td>\n",
       "      <td>0</td>\n",
       "      <td>0</td>\n",
       "    </tr>\n",
       "  </tbody>\n",
       "</table>\n",
       "</div>"
      ],
      "text/plain": [
       "      loan  derog  delinq   clage  clno  debtinc  job_Mgr  job_Office  \\\n",
       "153  18200    0.0     0.0  168.96  26.0   36.056        1           0   \n",
       "154  21700    0.0     0.0   64.51  24.0   38.079        1           0   \n",
       "155  34100    0.0     2.0  196.01  50.0   42.459        1           0   \n",
       "156   8400    0.0     2.0  131.47  22.0   29.200        1           0   \n",
       "157  17400    1.0     0.0   95.36  17.0   27.108        1           0   \n",
       "\n",
       "     job_Other  job_ProfEx  job_Sales  \n",
       "153          0           0          0  \n",
       "154          0           0          0  \n",
       "155          0           0          0  \n",
       "156          0           0          0  \n",
       "157          0           0          0  "
      ]
     },
     "execution_count": 241,
     "metadata": {},
     "output_type": "execute_result"
    }
   ],
   "source": [
    "y=df[\"bad\"]\n",
    "X_=df.drop([\"job\",\"reason\",\"bad\"],axis=1)\n",
    "X=pd.concat([X_,dms[[\"job_Mgr\",\"job_Office\",\"job_Other\",\"job_ProfEx\",\"job_Sales\",\"reason_DebtCon\"]]],axis=1)\n",
    "X=X.drop([\"mortdue\",\"reason_DebtCon\",\"yoj\",\"value\",\"ninq\"],axis=1)\n",
    "X_train, X_test, y_train,y_test=train_test_split(X,y,test_size=0.20,random_state=42)\n",
    "X.head()"
   ]
  },
  {
   "cell_type": "code",
   "execution_count": 243,
   "metadata": {},
   "outputs": [],
   "source": [
    "from sklearn.preprocessing import StandardScaler  "
   ]
  },
  {
   "cell_type": "code",
   "execution_count": 244,
   "metadata": {},
   "outputs": [],
   "source": [
    "scaler = StandardScaler()"
   ]
  },
  {
   "cell_type": "code",
   "execution_count": 245,
   "metadata": {},
   "outputs": [],
   "source": [
    "scaler.fit(X_train)\n",
    "X_train = scaler.transform(X_train) \n",
    "X_test = scaler.transform(X_test) "
   ]
  },
  {
   "cell_type": "code",
   "execution_count": 246,
   "metadata": {},
   "outputs": [],
   "source": [
    "from sklearn.neural_network import MLPClassifier"
   ]
  },
  {
   "cell_type": "code",
   "execution_count": 247,
   "metadata": {},
   "outputs": [],
   "source": [
    "mlpc = MLPClassifier().fit(X_train, y_train)\n"
   ]
  },
  {
   "cell_type": "code",
   "execution_count": 248,
   "metadata": {},
   "outputs": [
    {
     "data": {
      "text/plain": [
       "0.948019801980198"
      ]
     },
     "execution_count": 248,
     "metadata": {},
     "output_type": "execute_result"
    }
   ],
   "source": [
    "y_pred = mlpc.predict(X_test)\n",
    "accuracy_score(y_test, y_pred)"
   ]
  },
  {
   "cell_type": "code",
   "execution_count": 249,
   "metadata": {},
   "outputs": [
    {
     "name": "stdout",
     "output_type": "stream",
     "text": [
      "              precision    recall  f1-score   support\n",
      "\n",
      "           0       0.95      1.00      0.97       369\n",
      "           1       1.00      0.40      0.57        35\n",
      "\n",
      "    accuracy                           0.95       404\n",
      "   macro avg       0.97      0.70      0.77       404\n",
      "weighted avg       0.95      0.95      0.94       404\n",
      "\n"
     ]
    }
   ],
   "source": [
    "print(classification_report(y_test, y_pred))"
   ]
  },
  {
   "cell_type": "markdown",
   "metadata": {},
   "source": [
    "##  Neural Network- Model Tuning"
   ]
  },
  {
   "cell_type": "code",
   "execution_count": 65,
   "metadata": {},
   "outputs": [
    {
     "data": {
      "text/plain": [
       "MLPClassifier(activation='relu', alpha=0.0001, batch_size='auto', beta_1=0.9,\n",
       "              beta_2=0.999, early_stopping=False, epsilon=1e-08,\n",
       "              hidden_layer_sizes=(100,), learning_rate='constant',\n",
       "              learning_rate_init=0.001, max_fun=15000, max_iter=200,\n",
       "              momentum=0.9, n_iter_no_change=10, nesterovs_momentum=True,\n",
       "              power_t=0.5, random_state=None, shuffle=True, solver='adam',\n",
       "              tol=0.0001, validation_fraction=0.1, verbose=False,\n",
       "              warm_start=False)"
      ]
     },
     "execution_count": 65,
     "metadata": {},
     "output_type": "execute_result"
    }
   ],
   "source": [
    "mlpc\n"
   ]
  },
  {
   "cell_type": "code",
   "execution_count": 90,
   "metadata": {},
   "outputs": [],
   "source": [
    "?mlpc"
   ]
  },
  {
   "cell_type": "code",
   "execution_count": 91,
   "metadata": {},
   "outputs": [],
   "source": [
    "mlpc_params = {\"alpha\": [0.1, 0.01, 0.02, 0.005, 0.0001,0.00001],\n",
    "              \"hidden_layer_sizes\": [(10,10,10),\n",
    "                                     (100,100,100),\n",
    "                                     (100,100),\n",
    "                                     (3,5), \n",
    "                                     (5, 3)],\n",
    "              \"solver\" : [\"lbfgs\",\"adam\",\"sgd\"],\n",
    "              \"activation\": [\"relu\",\"logistic\"]}\n"
   ]
  },
  {
   "cell_type": "code",
   "execution_count": 93,
   "metadata": {},
   "outputs": [
    {
     "name": "stdout",
     "output_type": "stream",
     "text": [
      "Fitting 10 folds for each of 180 candidates, totalling 1800 fits\n"
     ]
    },
    {
     "name": "stderr",
     "output_type": "stream",
     "text": [
      "[Parallel(n_jobs=-1)]: Using backend LokyBackend with 4 concurrent workers.\n",
      "[Parallel(n_jobs=-1)]: Done  33 tasks      | elapsed:   24.8s\n",
      "[Parallel(n_jobs=-1)]: Done 154 tasks      | elapsed:  2.4min\n",
      "[Parallel(n_jobs=-1)]: Done 357 tasks      | elapsed:  5.9min\n",
      "[Parallel(n_jobs=-1)]: Done 640 tasks      | elapsed:  9.9min\n",
      "[Parallel(n_jobs=-1)]: Done 1005 tasks      | elapsed: 16.1min\n",
      "[Parallel(n_jobs=-1)]: Done 1450 tasks      | elapsed: 20.4min\n",
      "[Parallel(n_jobs=-1)]: Done 1800 out of 1800 | elapsed: 23.6min finished\n"
     ]
    },
    {
     "data": {
      "text/plain": [
       "GridSearchCV(cv=10, error_score=nan,\n",
       "             estimator=MLPClassifier(activation='relu', alpha=0.0001,\n",
       "                                     batch_size='auto', beta_1=0.9,\n",
       "                                     beta_2=0.999, early_stopping=False,\n",
       "                                     epsilon=1e-08, hidden_layer_sizes=(100,),\n",
       "                                     learning_rate='constant',\n",
       "                                     learning_rate_init=0.001, max_fun=15000,\n",
       "                                     max_iter=200, momentum=0.9,\n",
       "                                     n_iter_no_change=10,\n",
       "                                     nesterovs_momentum=True, power_t=0.5,\n",
       "                                     random_stat...\n",
       "                                     validation_fraction=0.1, verbose=False,\n",
       "                                     warm_start=False),\n",
       "             iid='deprecated', n_jobs=-1,\n",
       "             param_grid={'activation': ['relu', 'logistic'],\n",
       "                         'alpha': [0.1, 0.01, 0.02, 0.005, 0.0001, 1e-05],\n",
       "                         'hidden_layer_sizes': [(10, 10, 10), (100, 100, 100),\n",
       "                                                (100, 100), (3, 5), (5, 3)],\n",
       "                         'solver': ['lbfgs', 'adam', 'sgd']},\n",
       "             pre_dispatch='2*n_jobs', refit=True, return_train_score=False,\n",
       "             scoring=None, verbose=2)"
      ]
     },
     "execution_count": 93,
     "metadata": {},
     "output_type": "execute_result"
    }
   ],
   "source": [
    "mlpc = MLPClassifier()\n",
    "mlpc_cv_model = GridSearchCV(mlpc, mlpc_params, \n",
    "                         cv = 10, \n",
    "                         n_jobs = -1,\n",
    "                         verbose = 2)\n",
    "\n",
    "mlpc_cv_model.fit(X_train, y_train)"
   ]
  },
  {
   "cell_type": "code",
   "execution_count": 94,
   "metadata": {},
   "outputs": [
    {
     "name": "stdout",
     "output_type": "stream",
     "text": [
      "En iyi parametreler: {'activation': 'relu', 'alpha': 0.005, 'hidden_layer_sizes': (100, 100, 100), 'solver': 'adam'}\n"
     ]
    }
   ],
   "source": [
    "print(\"En iyi parametreler: \" + str(mlpc_cv_model.best_params_))"
   ]
  },
  {
   "cell_type": "code",
   "execution_count": 250,
   "metadata": {},
   "outputs": [],
   "source": [
    "mlpc_tuned = MLPClassifier(activation = \"relu\", \n",
    "                           alpha = 0.005, \n",
    "                           hidden_layer_sizes = (100, 100, 100),\n",
    "                          solver = \"adam\")\n"
   ]
  },
  {
   "cell_type": "code",
   "execution_count": 251,
   "metadata": {},
   "outputs": [
    {
     "data": {
      "text/plain": [
       "MLPClassifier(activation='relu', alpha=0.005, batch_size='auto', beta_1=0.9,\n",
       "              beta_2=0.999, early_stopping=False, epsilon=1e-08,\n",
       "              hidden_layer_sizes=(100, 100, 100), learning_rate='constant',\n",
       "              learning_rate_init=0.001, max_fun=15000, max_iter=200,\n",
       "              momentum=0.9, n_iter_no_change=10, nesterovs_momentum=True,\n",
       "              power_t=0.5, random_state=None, shuffle=True, solver='adam',\n",
       "              tol=0.0001, validation_fraction=0.1, verbose=False,\n",
       "              warm_start=False)"
      ]
     },
     "execution_count": 251,
     "metadata": {},
     "output_type": "execute_result"
    }
   ],
   "source": [
    "mlpc_tuned.fit(X_train, y_train)\n"
   ]
  },
  {
   "cell_type": "code",
   "execution_count": 252,
   "metadata": {},
   "outputs": [
    {
     "data": {
      "text/plain": [
       "0.948019801980198"
      ]
     },
     "execution_count": 252,
     "metadata": {},
     "output_type": "execute_result"
    }
   ],
   "source": [
    "y_pred = mlpc_tuned.predict(X_test)\n",
    "accuracy_score(y_test, y_pred)\n"
   ]
  },
  {
   "cell_type": "code",
   "execution_count": 253,
   "metadata": {},
   "outputs": [
    {
     "name": "stdout",
     "output_type": "stream",
     "text": [
      "              precision    recall  f1-score   support\n",
      "\n",
      "           0       0.96      0.99      0.97       369\n",
      "           1       0.82      0.51      0.63        35\n",
      "\n",
      "    accuracy                           0.95       404\n",
      "   macro avg       0.89      0.75      0.80       404\n",
      "weighted avg       0.94      0.95      0.94       404\n",
      "\n"
     ]
    }
   ],
   "source": [
    "print(classification_report(y_test, y_pred))"
   ]
  },
  {
   "cell_type": "code",
   "execution_count": null,
   "metadata": {},
   "outputs": [],
   "source": []
  },
  {
   "cell_type": "markdown",
   "metadata": {},
   "source": [
    "# CART \n",
    "\n",
    "   "
   ]
  },
  {
   "cell_type": "markdown",
   "metadata": {},
   "source": [
    "## CART - Model & Tahmin"
   ]
  },
  {
   "cell_type": "code",
   "execution_count": 255,
   "metadata": {},
   "outputs": [
    {
     "data": {
      "text/html": [
       "<div>\n",
       "<style scoped>\n",
       "    .dataframe tbody tr th:only-of-type {\n",
       "        vertical-align: middle;\n",
       "    }\n",
       "\n",
       "    .dataframe tbody tr th {\n",
       "        vertical-align: top;\n",
       "    }\n",
       "\n",
       "    .dataframe thead th {\n",
       "        text-align: right;\n",
       "    }\n",
       "</style>\n",
       "<table border=\"1\" class=\"dataframe\">\n",
       "  <thead>\n",
       "    <tr style=\"text-align: right;\">\n",
       "      <th></th>\n",
       "      <th>loan</th>\n",
       "      <th>derog</th>\n",
       "      <th>delinq</th>\n",
       "      <th>clage</th>\n",
       "      <th>clno</th>\n",
       "      <th>debtinc</th>\n",
       "      <th>job_Mgr</th>\n",
       "      <th>job_Office</th>\n",
       "      <th>job_Other</th>\n",
       "      <th>job_ProfEx</th>\n",
       "      <th>job_Sales</th>\n",
       "    </tr>\n",
       "  </thead>\n",
       "  <tbody>\n",
       "    <tr>\n",
       "      <th>153</th>\n",
       "      <td>18200</td>\n",
       "      <td>0.0</td>\n",
       "      <td>0.0</td>\n",
       "      <td>168.96</td>\n",
       "      <td>26.0</td>\n",
       "      <td>36.056</td>\n",
       "      <td>1</td>\n",
       "      <td>0</td>\n",
       "      <td>0</td>\n",
       "      <td>0</td>\n",
       "      <td>0</td>\n",
       "    </tr>\n",
       "    <tr>\n",
       "      <th>154</th>\n",
       "      <td>21700</td>\n",
       "      <td>0.0</td>\n",
       "      <td>0.0</td>\n",
       "      <td>64.51</td>\n",
       "      <td>24.0</td>\n",
       "      <td>38.079</td>\n",
       "      <td>1</td>\n",
       "      <td>0</td>\n",
       "      <td>0</td>\n",
       "      <td>0</td>\n",
       "      <td>0</td>\n",
       "    </tr>\n",
       "    <tr>\n",
       "      <th>155</th>\n",
       "      <td>34100</td>\n",
       "      <td>0.0</td>\n",
       "      <td>2.0</td>\n",
       "      <td>196.01</td>\n",
       "      <td>50.0</td>\n",
       "      <td>42.459</td>\n",
       "      <td>1</td>\n",
       "      <td>0</td>\n",
       "      <td>0</td>\n",
       "      <td>0</td>\n",
       "      <td>0</td>\n",
       "    </tr>\n",
       "    <tr>\n",
       "      <th>156</th>\n",
       "      <td>8400</td>\n",
       "      <td>0.0</td>\n",
       "      <td>2.0</td>\n",
       "      <td>131.47</td>\n",
       "      <td>22.0</td>\n",
       "      <td>29.200</td>\n",
       "      <td>1</td>\n",
       "      <td>0</td>\n",
       "      <td>0</td>\n",
       "      <td>0</td>\n",
       "      <td>0</td>\n",
       "    </tr>\n",
       "    <tr>\n",
       "      <th>157</th>\n",
       "      <td>17400</td>\n",
       "      <td>1.0</td>\n",
       "      <td>0.0</td>\n",
       "      <td>95.36</td>\n",
       "      <td>17.0</td>\n",
       "      <td>27.108</td>\n",
       "      <td>1</td>\n",
       "      <td>0</td>\n",
       "      <td>0</td>\n",
       "      <td>0</td>\n",
       "      <td>0</td>\n",
       "    </tr>\n",
       "  </tbody>\n",
       "</table>\n",
       "</div>"
      ],
      "text/plain": [
       "      loan  derog  delinq   clage  clno  debtinc  job_Mgr  job_Office  \\\n",
       "153  18200    0.0     0.0  168.96  26.0   36.056        1           0   \n",
       "154  21700    0.0     0.0   64.51  24.0   38.079        1           0   \n",
       "155  34100    0.0     2.0  196.01  50.0   42.459        1           0   \n",
       "156   8400    0.0     2.0  131.47  22.0   29.200        1           0   \n",
       "157  17400    1.0     0.0   95.36  17.0   27.108        1           0   \n",
       "\n",
       "     job_Other  job_ProfEx  job_Sales  \n",
       "153          0           0          0  \n",
       "154          0           0          0  \n",
       "155          0           0          0  \n",
       "156          0           0          0  \n",
       "157          0           0          0  "
      ]
     },
     "execution_count": 255,
     "metadata": {},
     "output_type": "execute_result"
    }
   ],
   "source": [
    "y=df[\"bad\"]\n",
    "X_=df.drop([\"job\",\"reason\",\"bad\"],axis=1)\n",
    "X=pd.concat([X_,dms[[\"job_Mgr\",\"job_Office\",\"job_Other\",\"job_ProfEx\",\"job_Sales\",\"reason_DebtCon\"]]],axis=1)\n",
    "X=X.drop([\"mortdue\",\"reason_DebtCon\",\"yoj\",\"value\",\"ninq\"],axis=1)\n",
    "X_train, X_test, y_train,y_test=train_test_split(X,y,test_size=0.20,random_state=42)\n",
    "X.head()"
   ]
  },
  {
   "cell_type": "code",
   "execution_count": 256,
   "metadata": {},
   "outputs": [],
   "source": [
    "from sklearn.tree import DecisionTreeClassifier"
   ]
  },
  {
   "cell_type": "code",
   "execution_count": 257,
   "metadata": {},
   "outputs": [],
   "source": [
    "cart = DecisionTreeClassifier()\n",
    "cart_model = cart.fit(X_train, y_train)"
   ]
  },
  {
   "cell_type": "code",
   "execution_count": 258,
   "metadata": {},
   "outputs": [
    {
     "data": {
      "text/plain": [
       "DecisionTreeClassifier(ccp_alpha=0.0, class_weight=None, criterion='gini',\n",
       "                       max_depth=None, max_features=None, max_leaf_nodes=None,\n",
       "                       min_impurity_decrease=0.0, min_impurity_split=None,\n",
       "                       min_samples_leaf=1, min_samples_split=2,\n",
       "                       min_weight_fraction_leaf=0.0, presort='deprecated',\n",
       "                       random_state=None, splitter='best')"
      ]
     },
     "execution_count": 258,
     "metadata": {},
     "output_type": "execute_result"
    }
   ],
   "source": [
    "cart_model"
   ]
  },
  {
   "cell_type": "code",
   "execution_count": 259,
   "metadata": {
    "scrolled": true
   },
   "outputs": [
    {
     "name": "stdout",
     "output_type": "stream",
     "text": [
      "((((1 if x[4] <= 2.5 else (1 if x[7] <= 0.5 else 0) if x[0] <= 3250.0 else \n",
      "    ((1 if x[5] <= 20.739999771118164 else (((1 if x[4] <= 4.5 else (((0 if\n",
      "    x[4] <= 7.5 else 1 if x[4] <= 8.5 else ((0 if x[10] <= 0.5 else 1) if x\n",
      "    [3] <= 125.86000061035156 else 1 if x[7] <= 0.5 else 0) if x[0] <= \n",
      "    8700.0 else ((1 if x[8] <= 0.5 else 0) if x[4] <= 11.5 else 1) if x[3] <=\n",
      "    107.08000183105469 else 0) if x[4] <= 21.5 else (0 if x[3] <= \n",
      "    93.68000030517578 else 1) if x[3] <= 97.7249984741211 else 0) if x[4] <=\n",
      "    35.0 else 1) if x[3] <= 172.19000244140625 else 1) if x[5] <= \n",
      "    38.168500900268555 else 1) if x[5] <= 38.482500076293945 else 1 if x[0] <=\n",
      "    4100.0 else 0) if x[2] <= 1.5 else (0 if x[3] <= 141.64500427246094 else\n",
      "    0 if x[8] <= 0.5 else 1) if x[5] <= 36.14699935913086 else 1) if x[3] <=\n",
      "    172.70000457763672 else ((0 if x[0] <= 6100.0 else 1) if x[4] <= 8.5 else\n",
      "    0) if x[3] <= 352.44000244140625 else 1) if x[0] <= 9550.0 else ((((1 if\n",
      "    x[3] <= 16.509999752044678 else (0 if x[4] <= 9.5 else 1) if x[5] <= \n",
      "    22.87150001525879 else 0) if x[5] <= 42.519500732421875 else 1) if x[7] <=\n",
      "    0.5 else 1) if x[3] <= 61.8799991607666 else ((1 if x[8] <= 0.5 else 0) if\n",
      "    x[5] <= 13.744999885559082 else (((1 if x[0] <= 10000.0 else (((0 if x[\n",
      "    3] <= 93.38999938964844 else 1) if x[3] <= 94.91500091552734 else 0) if\n",
      "    x[7] <= 0.5 else 0 if x[5] <= 31.966500282287598 else 1) if x[9] <= 0.5\n",
      "     else 1) if x[5] <= 40.971500396728516 else 1) if x[4] <= 9.5 else (((0 if\n",
      "    x[5] <= 27.679999351501465 else 1 if x[5] <= 27.75649929046631 else 0 if\n",
      "    x[4] <= 15.5 else 0 if x[5] <= 29.15549945831299 else 1 if x[6] <= 0.5 else\n",
      "    0) if x[4] <= 16.5 else 0) if x[5] <= 30.96150016784668 else 1 if x[5] <=\n",
      "    30.967000007629395 else (((0 if x[3] <= 114.27000045776367 else 1) if x\n",
      "    [0] <= 10200.0 else 0) if x[0] <= 25600.0 else 1 if x[0] <= 32850.0 else\n",
      "    0) if x[5] <= 31.986000061035156 else ((((((1 if x[8] <= 0.5 else 0) if\n",
      "    x[5] <= 33.68199920654297 else 0) if x[4] <= 14.5 else 0) if x[4] <= \n",
      "    30.5 else 0 if x[6] <= 0.5 else 1) if x[5] <= 37.9630012512207 else (1 if\n",
      "    x[5] <= 37.97100067138672 else (((((1 if x[3] <= 86.5199966430664 else \n",
      "    0) if x[4] <= 18.5 else 0) if x[3] <= 91.71500015258789 else 1) if x[3] <=\n",
      "    91.90499877929688 else (0 if x[5] <= 38.06650161743164 else 1) if x[5] <=\n",
      "    38.109500885009766 else 0) if x[0] <= 32950.0 else 0 if x[6] <= 0.5 else\n",
      "    1) if x[3] <= 164.4050064086914 else (0 if x[0] <= 11650.0 else 1) if x\n",
      "    [3] <= 166.7750015258789 else 0) if x[1] <= 1.5 else 1) if x[3] <= \n",
      "    169.80999755859375 else 1) if x[3] <= 169.95499420166016 else ((0 if x[\n",
      "    9] <= 0.5 else (0 if x[4] <= 20.5 else (0 if x[0] <= 17100.0 else 1) if\n",
      "    x[0] <= 18750.0 else 0) if x[4] <= 21.5 else 0) if x[5] <= \n",
      "    41.175498962402344 else 1 if x[5] <= 41.22850036621094 else 0) if x[3] <=\n",
      "    279.7899932861328 else 1 if x[3] <= 280.4550018310547 else (0 if x[5] <=\n",
      "    32.36600112915039 else 1) if x[5] <= 32.641000747680664 else 0 if x[4] <=\n",
      "    29.5 else 0 if x[3] <= 312.7749938964844 else 1 if x[3] <= \n",
      "    313.7250061035156 else 1 if x[4] <= 31.0 else 0) if x[5] <= \n",
      "    43.44700050354004 else 1 if x[5] <= 43.46500015258789 else 0) if x[2] <=\n",
      "    0.5 else 1 if x[3] <= 75.35499954223633 else (0 if x[0] <= 13800.0 else\n",
      "    (((0 if x[1] <= 1.5 else 0 if x[4] <= 27.0 else 1) if x[5] <= \n",
      "    40.326499938964844 else 1 if x[0] <= 18850.0 else 0) if x[3] <= \n",
      "    202.56500244140625 else (1 if x[3] <= 203.2300033569336 else 0 if x[5] <=\n",
      "    32.32749938964844 else 1 if x[3] <= 224.02000427246094 else 0) if x[2] <=\n",
      "    1.5 else 0 if x[4] <= 24.5 else 1) if x[4] <= 35.0 else 0 if x[5] <= \n",
      "    35.058499336242676 else 1) if x[6] <= 0.5 else 1 if x[3] <= \n",
      "    132.04500198364258 else ((0 if x[5] <= 38.49850082397461 else 1) if x[0\n",
      "    ] <= 11550.0 else (0 if x[0] <= 16150.0 else 1) if x[3] <= \n",
      "    170.18500518798828 else 0) if x[3] <= 304.31500244140625 else 1) if x[4\n",
      "    ] <= 60.0 else 1) if x[5] <= 43.70450019836426 else 1 if x[3] <= \n",
      "    197.93500518798828 else (0 if x[4] <= 39.5 else 1) if x[0] <= 42100.0 else\n",
      "    1) if x[1] <= 3.5 else 1) if x[2] <= 3.5 else 1 if x[4] <= 33.0 else 0 if\n",
      "    x[2] <= 5.5 else 1) if x[5] <= 45.48349952697754 else 1)\n",
      "\n"
     ]
    }
   ],
   "source": [
    "#!pip install skompiler\n",
    "from skompiler import skompile\n",
    "print(skompile(cart_model.predict).to(\"python/code\"))\n",
    "\n"
   ]
  },
  {
   "cell_type": "code",
   "execution_count": 260,
   "metadata": {},
   "outputs": [
    {
     "data": {
      "text/plain": [
       "0.9381188118811881"
      ]
     },
     "execution_count": 260,
     "metadata": {},
     "output_type": "execute_result"
    }
   ],
   "source": [
    "y_pred = cart_model.predict(X_test)\n",
    "accuracy_score(y_test, y_pred)\n"
   ]
  },
  {
   "cell_type": "code",
   "execution_count": 261,
   "metadata": {},
   "outputs": [
    {
     "name": "stdout",
     "output_type": "stream",
     "text": [
      "              precision    recall  f1-score   support\n",
      "\n",
      "           0       0.96      0.97      0.97       369\n",
      "           1       0.65      0.63      0.64        35\n",
      "\n",
      "    accuracy                           0.94       404\n",
      "   macro avg       0.81      0.80      0.80       404\n",
      "weighted avg       0.94      0.94      0.94       404\n",
      "\n"
     ]
    }
   ],
   "source": [
    "print(classification_report(y_test, y_pred))"
   ]
  },
  {
   "cell_type": "markdown",
   "metadata": {},
   "source": [
    "## CART - Model Tuning"
   ]
  },
  {
   "cell_type": "code",
   "execution_count": 262,
   "metadata": {},
   "outputs": [
    {
     "data": {
      "text/plain": [
       "DecisionTreeClassifier(ccp_alpha=0.0, class_weight=None, criterion='gini',\n",
       "                       max_depth=None, max_features=None, max_leaf_nodes=None,\n",
       "                       min_impurity_decrease=0.0, min_impurity_split=None,\n",
       "                       min_samples_leaf=1, min_samples_split=2,\n",
       "                       min_weight_fraction_leaf=0.0, presort='deprecated',\n",
       "                       random_state=None, splitter='best')"
      ]
     },
     "execution_count": 262,
     "metadata": {},
     "output_type": "execute_result"
    }
   ],
   "source": [
    "cart_model\n"
   ]
  },
  {
   "cell_type": "code",
   "execution_count": 108,
   "metadata": {},
   "outputs": [],
   "source": [
    "?cart_model\n"
   ]
  },
  {
   "cell_type": "code",
   "execution_count": 109,
   "metadata": {},
   "outputs": [],
   "source": [
    "cart_grid = {\"max_depth\": range(1,10),\n",
    "            \"min_samples_split\" : list(range(2,50)) }"
   ]
  },
  {
   "cell_type": "code",
   "execution_count": 110,
   "metadata": {},
   "outputs": [
    {
     "name": "stdout",
     "output_type": "stream",
     "text": [
      "Fitting 10 folds for each of 432 candidates, totalling 4320 fits\n"
     ]
    },
    {
     "name": "stderr",
     "output_type": "stream",
     "text": [
      "[Parallel(n_jobs=-1)]: Using backend LokyBackend with 4 concurrent workers.\n",
      "[Parallel(n_jobs=-1)]: Done  38 tasks      | elapsed:    3.0s\n",
      "[Parallel(n_jobs=-1)]: Done 1772 tasks      | elapsed:    8.1s\n",
      "[Parallel(n_jobs=-1)]: Done 4320 out of 4320 | elapsed:   18.0s finished\n"
     ]
    }
   ],
   "source": [
    "cart = tree.DecisionTreeClassifier()\n",
    "cart_cv = GridSearchCV(cart, cart_grid, cv = 10, n_jobs = -1, verbose = 2)\n",
    "cart_cv_model = cart_cv.fit(X_train, y_train)"
   ]
  },
  {
   "cell_type": "code",
   "execution_count": 111,
   "metadata": {},
   "outputs": [
    {
     "name": "stdout",
     "output_type": "stream",
     "text": [
      "En iyi parametreler: {'max_depth': 4, 'min_samples_split': 2}\n"
     ]
    }
   ],
   "source": [
    "print(\"En iyi parametreler: \" + str(cart_cv_model.best_params_))\n"
   ]
  },
  {
   "cell_type": "code",
   "execution_count": 263,
   "metadata": {},
   "outputs": [],
   "source": [
    "cart = tree.DecisionTreeClassifier(max_depth = 4, min_samples_split = 2)\n",
    "cart_tuned = cart.fit(X_train, y_train)\n"
   ]
  },
  {
   "cell_type": "code",
   "execution_count": 264,
   "metadata": {},
   "outputs": [
    {
     "data": {
      "text/plain": [
       "0.9405940594059405"
      ]
     },
     "execution_count": 264,
     "metadata": {},
     "output_type": "execute_result"
    }
   ],
   "source": [
    "y_pred = cart_tuned.predict(X_test)\n",
    "accuracy_score(y_test, y_pred)\n"
   ]
  },
  {
   "cell_type": "code",
   "execution_count": 265,
   "metadata": {},
   "outputs": [
    {
     "name": "stdout",
     "output_type": "stream",
     "text": [
      "              precision    recall  f1-score   support\n",
      "\n",
      "           0       0.94      1.00      0.97       369\n",
      "           1       0.92      0.34      0.50        35\n",
      "\n",
      "    accuracy                           0.94       404\n",
      "   macro avg       0.93      0.67      0.73       404\n",
      "weighted avg       0.94      0.94      0.93       404\n",
      "\n"
     ]
    }
   ],
   "source": [
    "print(classification_report(y_test, y_pred))"
   ]
  },
  {
   "cell_type": "code",
   "execution_count": 266,
   "metadata": {},
   "outputs": [
    {
     "data": {
      "image/png": "[encoded data removed]",
      "text/plain": [
       "<Figure size 2160x1080 with 1 Axes>"
      ]
     },
     "metadata": {
      "needs_background": "light"
     },
     "output_type": "display_data"
    }
   ],
   "source": [
    "plt.figure(figsize=(30,15))\n",
    "tree.plot_tree(cart_tuned);"
   ]
  },
  {
   "cell_type": "code",
   "execution_count": null,
   "metadata": {},
   "outputs": [],
   "source": []
  },
  {
   "cell_type": "markdown",
   "metadata": {},
   "source": [
    "# Random Forests"
   ]
  },
  {
   "cell_type": "code",
   "execution_count": 189,
   "metadata": {},
   "outputs": [
    {
     "data": {
      "text/html": [
       "<div>\n",
       "<style scoped>\n",
       "    .dataframe tbody tr th:only-of-type {\n",
       "        vertical-align: middle;\n",
       "    }\n",
       "\n",
       "    .dataframe tbody tr th {\n",
       "        vertical-align: top;\n",
       "    }\n",
       "\n",
       "    .dataframe thead th {\n",
       "        text-align: right;\n",
       "    }\n",
       "</style>\n",
       "<table border=\"1\" class=\"dataframe\">\n",
       "  <thead>\n",
       "    <tr style=\"text-align: right;\">\n",
       "      <th></th>\n",
       "      <th>loan</th>\n",
       "      <th>derog</th>\n",
       "      <th>delinq</th>\n",
       "      <th>clage</th>\n",
       "      <th>clno</th>\n",
       "      <th>debtinc</th>\n",
       "      <th>job_Mgr</th>\n",
       "      <th>job_Office</th>\n",
       "      <th>job_Other</th>\n",
       "      <th>job_ProfEx</th>\n",
       "      <th>job_Sales</th>\n",
       "    </tr>\n",
       "  </thead>\n",
       "  <tbody>\n",
       "    <tr>\n",
       "      <th>153</th>\n",
       "      <td>18200</td>\n",
       "      <td>0.0</td>\n",
       "      <td>0.0</td>\n",
       "      <td>168.96</td>\n",
       "      <td>26.0</td>\n",
       "      <td>36.056</td>\n",
       "      <td>1</td>\n",
       "      <td>0</td>\n",
       "      <td>0</td>\n",
       "      <td>0</td>\n",
       "      <td>0</td>\n",
       "    </tr>\n",
       "    <tr>\n",
       "      <th>154</th>\n",
       "      <td>21700</td>\n",
       "      <td>0.0</td>\n",
       "      <td>0.0</td>\n",
       "      <td>64.51</td>\n",
       "      <td>24.0</td>\n",
       "      <td>38.079</td>\n",
       "      <td>1</td>\n",
       "      <td>0</td>\n",
       "      <td>0</td>\n",
       "      <td>0</td>\n",
       "      <td>0</td>\n",
       "    </tr>\n",
       "    <tr>\n",
       "      <th>155</th>\n",
       "      <td>34100</td>\n",
       "      <td>0.0</td>\n",
       "      <td>2.0</td>\n",
       "      <td>196.01</td>\n",
       "      <td>50.0</td>\n",
       "      <td>42.459</td>\n",
       "      <td>1</td>\n",
       "      <td>0</td>\n",
       "      <td>0</td>\n",
       "      <td>0</td>\n",
       "      <td>0</td>\n",
       "    </tr>\n",
       "    <tr>\n",
       "      <th>156</th>\n",
       "      <td>8400</td>\n",
       "      <td>0.0</td>\n",
       "      <td>2.0</td>\n",
       "      <td>131.47</td>\n",
       "      <td>22.0</td>\n",
       "      <td>29.200</td>\n",
       "      <td>1</td>\n",
       "      <td>0</td>\n",
       "      <td>0</td>\n",
       "      <td>0</td>\n",
       "      <td>0</td>\n",
       "    </tr>\n",
       "    <tr>\n",
       "      <th>157</th>\n",
       "      <td>17400</td>\n",
       "      <td>1.0</td>\n",
       "      <td>0.0</td>\n",
       "      <td>95.36</td>\n",
       "      <td>17.0</td>\n",
       "      <td>27.108</td>\n",
       "      <td>1</td>\n",
       "      <td>0</td>\n",
       "      <td>0</td>\n",
       "      <td>0</td>\n",
       "      <td>0</td>\n",
       "    </tr>\n",
       "  </tbody>\n",
       "</table>\n",
       "</div>"
      ],
      "text/plain": [
       "      loan  derog  delinq   clage  clno  debtinc  job_Mgr  job_Office  \\\n",
       "153  18200    0.0     0.0  168.96  26.0   36.056        1           0   \n",
       "154  21700    0.0     0.0   64.51  24.0   38.079        1           0   \n",
       "155  34100    0.0     2.0  196.01  50.0   42.459        1           0   \n",
       "156   8400    0.0     2.0  131.47  22.0   29.200        1           0   \n",
       "157  17400    1.0     0.0   95.36  17.0   27.108        1           0   \n",
       "\n",
       "     job_Other  job_ProfEx  job_Sales  \n",
       "153          0           0          0  \n",
       "154          0           0          0  \n",
       "155          0           0          0  \n",
       "156          0           0          0  \n",
       "157          0           0          0  "
      ]
     },
     "execution_count": 189,
     "metadata": {},
     "output_type": "execute_result"
    }
   ],
   "source": [
    "y=df[\"bad\"]\n",
    "X_=df.drop([\"job\",\"reason\",\"bad\"],axis=1)\n",
    "X=pd.concat([X_,dms[[\"job_Mgr\",\"job_Office\",\"job_Other\",\"job_ProfEx\",\"job_Sales\",\"reason_DebtCon\"]]],axis=1)\n",
    "X=X.drop([\"mortdue\",\"reason_DebtCon\",\"yoj\",\"value\",\"ninq\"],axis=1)\n",
    "X_train, X_test, y_train,y_test=train_test_split(X,y,test_size=0.20,random_state=42)\n",
    "X.head()"
   ]
  },
  {
   "cell_type": "code",
   "execution_count": 190,
   "metadata": {},
   "outputs": [],
   "source": [
    "from sklearn.ensemble import RandomForestClassifier\n"
   ]
  },
  {
   "cell_type": "code",
   "execution_count": 191,
   "metadata": {},
   "outputs": [],
   "source": [
    "rf_model = RandomForestClassifier().fit(X_train, y_train)\n"
   ]
  },
  {
   "cell_type": "code",
   "execution_count": 192,
   "metadata": {},
   "outputs": [
    {
     "data": {
      "text/plain": [
       "RandomForestClassifier(bootstrap=True, ccp_alpha=0.0, class_weight=None,\n",
       "                       criterion='gini', max_depth=None, max_features='auto',\n",
       "                       max_leaf_nodes=None, max_samples=None,\n",
       "                       min_impurity_decrease=0.0, min_impurity_split=None,\n",
       "                       min_samples_leaf=1, min_samples_split=2,\n",
       "                       min_weight_fraction_leaf=0.0, n_estimators=100,\n",
       "                       n_jobs=None, oob_score=False, random_state=None,\n",
       "                       verbose=0, warm_start=False)"
      ]
     },
     "execution_count": 192,
     "metadata": {},
     "output_type": "execute_result"
    }
   ],
   "source": [
    "rf_model\n"
   ]
  },
  {
   "cell_type": "code",
   "execution_count": 193,
   "metadata": {},
   "outputs": [
    {
     "data": {
      "text/plain": [
       "0.943069306930693"
      ]
     },
     "execution_count": 193,
     "metadata": {},
     "output_type": "execute_result"
    }
   ],
   "source": [
    "y_pred = rf_model.predict(X_test)\n",
    "accuracy_score(y_test, y_pred)\n"
   ]
  },
  {
   "cell_type": "code",
   "execution_count": 194,
   "metadata": {},
   "outputs": [
    {
     "name": "stdout",
     "output_type": "stream",
     "text": [
      "              precision    recall  f1-score   support\n",
      "\n",
      "           0       0.94      1.00      0.97       369\n",
      "           1       0.93      0.37      0.53        35\n",
      "\n",
      "    accuracy                           0.94       404\n",
      "   macro avg       0.94      0.68      0.75       404\n",
      "weighted avg       0.94      0.94      0.93       404\n",
      "\n"
     ]
    }
   ],
   "source": [
    "print(classification_report(y_test, y_pred))"
   ]
  },
  {
   "cell_type": "markdown",
   "metadata": {},
   "source": [
    "## Random Forests -Model Tuning"
   ]
  },
  {
   "cell_type": "code",
   "execution_count": 131,
   "metadata": {},
   "outputs": [
    {
     "data": {
      "text/plain": [
       "RandomForestClassifier(bootstrap=True, ccp_alpha=0.0, class_weight=None,\n",
       "                       criterion='gini', max_depth=None, max_features='auto',\n",
       "                       max_leaf_nodes=None, max_samples=None,\n",
       "                       min_impurity_decrease=0.0, min_impurity_split=None,\n",
       "                       min_samples_leaf=1, min_samples_split=2,\n",
       "                       min_weight_fraction_leaf=0.0, n_estimators=100,\n",
       "                       n_jobs=None, oob_score=False, random_state=None,\n",
       "                       verbose=0, warm_start=False)"
      ]
     },
     "execution_count": 131,
     "metadata": {},
     "output_type": "execute_result"
    }
   ],
   "source": [
    "rf_model\n"
   ]
  },
  {
   "cell_type": "code",
   "execution_count": 122,
   "metadata": {},
   "outputs": [],
   "source": [
    "?rf_model\n"
   ]
  },
  {
   "cell_type": "code",
   "execution_count": 123,
   "metadata": {},
   "outputs": [],
   "source": [
    "rf_params = {\"max_depth\": [2,5,8,10],\n",
    "            \"max_features\": [2,5,8],\n",
    "            \"n_estimators\": [10,500,1000], \n",
    "            \"min_samples_split\": [2,5,10]} \n"
   ]
  },
  {
   "cell_type": "code",
   "execution_count": 124,
   "metadata": {},
   "outputs": [],
   "source": [
    "rf_model = RandomForestClassifier()\n",
    "\n",
    "rf_cv_model = GridSearchCV(rf_model, \n",
    "                           rf_params, \n",
    "                           cv = 10, \n",
    "                           n_jobs = -1, \n",
    "                           verbose = 2) "
   ]
  },
  {
   "cell_type": "code",
   "execution_count": 125,
   "metadata": {},
   "outputs": [
    {
     "name": "stdout",
     "output_type": "stream",
     "text": [
      "Fitting 10 folds for each of 108 candidates, totalling 1080 fits\n"
     ]
    },
    {
     "name": "stderr",
     "output_type": "stream",
     "text": [
      "[Parallel(n_jobs=-1)]: Using backend LokyBackend with 4 concurrent workers.\n",
      "[Parallel(n_jobs=-1)]: Done  33 tasks      | elapsed:   16.2s\n",
      "[Parallel(n_jobs=-1)]: Done 154 tasks      | elapsed:  1.3min\n",
      "[Parallel(n_jobs=-1)]: Done 357 tasks      | elapsed:  3.2min\n",
      "[Parallel(n_jobs=-1)]: Done 640 tasks      | elapsed:  6.1min\n",
      "[Parallel(n_jobs=-1)]: Done 1005 tasks      | elapsed: 10.5min\n",
      "[Parallel(n_jobs=-1)]: Done 1080 out of 1080 | elapsed: 11.8min finished\n"
     ]
    },
    {
     "data": {
      "text/plain": [
       "GridSearchCV(cv=10, error_score=nan,\n",
       "             estimator=RandomForestClassifier(bootstrap=True, ccp_alpha=0.0,\n",
       "                                              class_weight=None,\n",
       "                                              criterion='gini', max_depth=None,\n",
       "                                              max_features='auto',\n",
       "                                              max_leaf_nodes=None,\n",
       "                                              max_samples=None,\n",
       "                                              min_impurity_decrease=0.0,\n",
       "                                              min_impurity_split=None,\n",
       "                                              min_samples_leaf=1,\n",
       "                                              min_samples_split=2,\n",
       "                                              min_weight_fraction_leaf=0.0,\n",
       "                                              n_estimators=100, n_jobs=None,\n",
       "                                              oob_score=False,\n",
       "                                              random_state=None, verbose=0,\n",
       "                                              warm_start=False),\n",
       "             iid='deprecated', n_jobs=-1,\n",
       "             param_grid={'max_depth': [2, 5, 8, 10], 'max_features': [2, 5, 8],\n",
       "                         'min_samples_split': [2, 5, 10],\n",
       "                         'n_estimators': [10, 500, 1000]},\n",
       "             pre_dispatch='2*n_jobs', refit=True, return_train_score=False,\n",
       "             scoring=None, verbose=2)"
      ]
     },
     "execution_count": 125,
     "metadata": {},
     "output_type": "execute_result"
    }
   ],
   "source": [
    "rf_cv_model.fit(X_train, y_train)"
   ]
  },
  {
   "cell_type": "code",
   "execution_count": 126,
   "metadata": {},
   "outputs": [
    {
     "name": "stdout",
     "output_type": "stream",
     "text": [
      "En iyi parametreler: {'max_depth': 10, 'max_features': 2, 'min_samples_split': 5, 'n_estimators': 1000}\n"
     ]
    }
   ],
   "source": [
    "print(\"En iyi parametreler: \" + str(rf_cv_model.best_params_))\n",
    " "
   ]
  },
  {
   "cell_type": "code",
   "execution_count": 195,
   "metadata": {},
   "outputs": [
    {
     "data": {
      "text/plain": [
       "RandomForestClassifier(bootstrap=True, ccp_alpha=0.0, class_weight=None,\n",
       "                       criterion='gini', max_depth=10, max_features=2,\n",
       "                       max_leaf_nodes=None, max_samples=None,\n",
       "                       min_impurity_decrease=0.0, min_impurity_split=None,\n",
       "                       min_samples_leaf=1, min_samples_split=5,\n",
       "                       min_weight_fraction_leaf=0.0, n_estimators=1000,\n",
       "                       n_jobs=None, oob_score=False, random_state=None,\n",
       "                       verbose=0, warm_start=False)"
      ]
     },
     "execution_count": 195,
     "metadata": {},
     "output_type": "execute_result"
    }
   ],
   "source": [
    "rf_tuned = RandomForestClassifier(max_depth = 10, \n",
    "                                  max_features = 2, \n",
    "                                  min_samples_split = 5,\n",
    "                                  n_estimators = 1000)\n",
    "\n",
    "rf_tuned.fit(X_train, y_train)\n"
   ]
  },
  {
   "cell_type": "code",
   "execution_count": 196,
   "metadata": {},
   "outputs": [
    {
     "data": {
      "text/plain": [
       "0.9381188118811881"
      ]
     },
     "execution_count": 196,
     "metadata": {},
     "output_type": "execute_result"
    }
   ],
   "source": [
    "y_pred = rf_tuned.predict(X_test)\n",
    "accuracy_score(y_test, y_pred)\n"
   ]
  },
  {
   "cell_type": "code",
   "execution_count": 197,
   "metadata": {},
   "outputs": [
    {
     "name": "stdout",
     "output_type": "stream",
     "text": [
      "              precision    recall  f1-score   support\n",
      "\n",
      "           0       0.94      1.00      0.97       369\n",
      "           1       1.00      0.29      0.44        35\n",
      "\n",
      "    accuracy                           0.94       404\n",
      "   macro avg       0.97      0.64      0.71       404\n",
      "weighted avg       0.94      0.94      0.92       404\n",
      "\n"
     ]
    }
   ],
   "source": [
    "print(classification_report(y_test, y_pred))"
   ]
  },
  {
   "cell_type": "code",
   "execution_count": 198,
   "metadata": {},
   "outputs": [],
   "source": [
    "Importance = pd.DataFrame({\"Importance\": rf_tuned.feature_importances_*100},\n",
    "                         index = X_train.columns)"
   ]
  },
  {
   "cell_type": "code",
   "execution_count": 199,
   "metadata": {},
   "outputs": [
    {
     "data": {
      "text/plain": [
       "Text(0.5, 0, 'Değişken Önem Düzeyleri')"
      ]
     },
     "execution_count": 199,
     "metadata": {},
     "output_type": "execute_result"
    },
    {
     "data": {
      "image/png": "[encoded data removed]",
      "text/plain": [
       "<Figure size 432x288 with 1 Axes>"
      ]
     },
     "metadata": {
      "needs_background": "light"
     },
     "output_type": "display_data"
    }
   ],
   "source": [
    "Importance.sort_values(by = \"Importance\", \n",
    "                       axis = 0, \n",
    "                       ascending = True).plot(kind =\"barh\", color = \"r\")\n",
    "\n",
    "plt.xlabel(\"Değişken Önem Düzeyleri\")"
   ]
  },
  {
   "cell_type": "markdown",
   "metadata": {},
   "source": [
    "# Gradient Boosting Machines(GBM)"
   ]
  },
  {
   "cell_type": "code",
   "execution_count": 200,
   "metadata": {},
   "outputs": [
    {
     "data": {
      "text/html": [
       "<div>\n",
       "<style scoped>\n",
       "    .dataframe tbody tr th:only-of-type {\n",
       "        vertical-align: middle;\n",
       "    }\n",
       "\n",
       "    .dataframe tbody tr th {\n",
       "        vertical-align: top;\n",
       "    }\n",
       "\n",
       "    .dataframe thead th {\n",
       "        text-align: right;\n",
       "    }\n",
       "</style>\n",
       "<table border=\"1\" class=\"dataframe\">\n",
       "  <thead>\n",
       "    <tr style=\"text-align: right;\">\n",
       "      <th></th>\n",
       "      <th>loan</th>\n",
       "      <th>derog</th>\n",
       "      <th>delinq</th>\n",
       "      <th>clage</th>\n",
       "      <th>clno</th>\n",
       "      <th>debtinc</th>\n",
       "      <th>job_Mgr</th>\n",
       "      <th>job_Office</th>\n",
       "      <th>job_Other</th>\n",
       "      <th>job_ProfEx</th>\n",
       "      <th>job_Sales</th>\n",
       "    </tr>\n",
       "  </thead>\n",
       "  <tbody>\n",
       "    <tr>\n",
       "      <th>153</th>\n",
       "      <td>18200</td>\n",
       "      <td>0.0</td>\n",
       "      <td>0.0</td>\n",
       "      <td>168.96</td>\n",
       "      <td>26.0</td>\n",
       "      <td>36.056</td>\n",
       "      <td>1</td>\n",
       "      <td>0</td>\n",
       "      <td>0</td>\n",
       "      <td>0</td>\n",
       "      <td>0</td>\n",
       "    </tr>\n",
       "    <tr>\n",
       "      <th>154</th>\n",
       "      <td>21700</td>\n",
       "      <td>0.0</td>\n",
       "      <td>0.0</td>\n",
       "      <td>64.51</td>\n",
       "      <td>24.0</td>\n",
       "      <td>38.079</td>\n",
       "      <td>1</td>\n",
       "      <td>0</td>\n",
       "      <td>0</td>\n",
       "      <td>0</td>\n",
       "      <td>0</td>\n",
       "    </tr>\n",
       "    <tr>\n",
       "      <th>155</th>\n",
       "      <td>34100</td>\n",
       "      <td>0.0</td>\n",
       "      <td>2.0</td>\n",
       "      <td>196.01</td>\n",
       "      <td>50.0</td>\n",
       "      <td>42.459</td>\n",
       "      <td>1</td>\n",
       "      <td>0</td>\n",
       "      <td>0</td>\n",
       "      <td>0</td>\n",
       "      <td>0</td>\n",
       "    </tr>\n",
       "    <tr>\n",
       "      <th>156</th>\n",
       "      <td>8400</td>\n",
       "      <td>0.0</td>\n",
       "      <td>2.0</td>\n",
       "      <td>131.47</td>\n",
       "      <td>22.0</td>\n",
       "      <td>29.200</td>\n",
       "      <td>1</td>\n",
       "      <td>0</td>\n",
       "      <td>0</td>\n",
       "      <td>0</td>\n",
       "      <td>0</td>\n",
       "    </tr>\n",
       "    <tr>\n",
       "      <th>157</th>\n",
       "      <td>17400</td>\n",
       "      <td>1.0</td>\n",
       "      <td>0.0</td>\n",
       "      <td>95.36</td>\n",
       "      <td>17.0</td>\n",
       "      <td>27.108</td>\n",
       "      <td>1</td>\n",
       "      <td>0</td>\n",
       "      <td>0</td>\n",
       "      <td>0</td>\n",
       "      <td>0</td>\n",
       "    </tr>\n",
       "  </tbody>\n",
       "</table>\n",
       "</div>"
      ],
      "text/plain": [
       "      loan  derog  delinq   clage  clno  debtinc  job_Mgr  job_Office  \\\n",
       "153  18200    0.0     0.0  168.96  26.0   36.056        1           0   \n",
       "154  21700    0.0     0.0   64.51  24.0   38.079        1           0   \n",
       "155  34100    0.0     2.0  196.01  50.0   42.459        1           0   \n",
       "156   8400    0.0     2.0  131.47  22.0   29.200        1           0   \n",
       "157  17400    1.0     0.0   95.36  17.0   27.108        1           0   \n",
       "\n",
       "     job_Other  job_ProfEx  job_Sales  \n",
       "153          0           0          0  \n",
       "154          0           0          0  \n",
       "155          0           0          0  \n",
       "156          0           0          0  \n",
       "157          0           0          0  "
      ]
     },
     "execution_count": 200,
     "metadata": {},
     "output_type": "execute_result"
    }
   ],
   "source": [
    "y=df[\"bad\"]\n",
    "X_=df.drop([\"job\",\"reason\",\"bad\"],axis=1)\n",
    "X=pd.concat([X_,dms[[\"job_Mgr\",\"job_Office\",\"job_Other\",\"job_ProfEx\",\"job_Sales\",\"reason_DebtCon\"]]],axis=1)\n",
    "X=X.drop([\"mortdue\",\"reason_DebtCon\",\"yoj\",\"value\",\"ninq\"],axis=1)\n",
    "X_train, X_test, y_train,y_test=train_test_split(X,y,test_size=0.20,random_state=42)\n",
    "X.head()"
   ]
  },
  {
   "cell_type": "code",
   "execution_count": 201,
   "metadata": {},
   "outputs": [],
   "source": [
    "from sklearn.ensemble import GradientBoostingClassifier\n"
   ]
  },
  {
   "cell_type": "code",
   "execution_count": 202,
   "metadata": {},
   "outputs": [],
   "source": [
    "gbm_model = GradientBoostingClassifier().fit(X_train, y_train)\n"
   ]
  },
  {
   "cell_type": "code",
   "execution_count": 203,
   "metadata": {},
   "outputs": [
    {
     "data": {
      "text/plain": [
       "0.943069306930693"
      ]
     },
     "execution_count": 203,
     "metadata": {},
     "output_type": "execute_result"
    }
   ],
   "source": [
    "y_pred = gbm_model.predict(X_test)\n",
    "accuracy_score(y_test, y_pred)\n"
   ]
  },
  {
   "cell_type": "code",
   "execution_count": 204,
   "metadata": {},
   "outputs": [
    {
     "name": "stdout",
     "output_type": "stream",
     "text": [
      "              precision    recall  f1-score   support\n",
      "\n",
      "           0       0.95      0.99      0.97       369\n",
      "           1       0.88      0.40      0.55        35\n",
      "\n",
      "    accuracy                           0.94       404\n",
      "   macro avg       0.91      0.70      0.76       404\n",
      "weighted avg       0.94      0.94      0.93       404\n",
      "\n"
     ]
    }
   ],
   "source": [
    "print(classification_report(y_test, y_pred))"
   ]
  },
  {
   "cell_type": "markdown",
   "metadata": {},
   "source": [
    "## GBM - Model Tuning"
   ]
  },
  {
   "cell_type": "code",
   "execution_count": 100,
   "metadata": {},
   "outputs": [
    {
     "data": {
      "text/plain": [
       "GradientBoostingClassifier(ccp_alpha=0.0, criterion='friedman_mse', init=None,\n",
       "                           learning_rate=0.1, loss='deviance', max_depth=3,\n",
       "                           max_features=None, max_leaf_nodes=None,\n",
       "                           min_impurity_decrease=0.0, min_impurity_split=None,\n",
       "                           min_samples_leaf=1, min_samples_split=2,\n",
       "                           min_weight_fraction_leaf=0.0, n_estimators=100,\n",
       "                           n_iter_no_change=None, presort='deprecated',\n",
       "                           random_state=None, subsample=1.0, tol=0.0001,\n",
       "                           validation_fraction=0.1, verbose=0,\n",
       "                           warm_start=False)"
      ]
     },
     "execution_count": 100,
     "metadata": {},
     "output_type": "execute_result"
    }
   ],
   "source": [
    "gbm_model\n"
   ]
  },
  {
   "cell_type": "code",
   "execution_count": 138,
   "metadata": {},
   "outputs": [],
   "source": [
    "?gbm_model"
   ]
  },
  {
   "cell_type": "code",
   "execution_count": 139,
   "metadata": {},
   "outputs": [],
   "source": [
    "gbm_params = {\"learning_rate\" : [0.001, 0.01, 0.1, 0.05],\n",
    "             \"n_estimators\": [100,500,100], # ağaç sayısı\n",
    "             \"max_depth\": [3,5,10],\n",
    "             \"min_samples_split\": [2,5,10]}\n"
   ]
  },
  {
   "cell_type": "code",
   "execution_count": 140,
   "metadata": {},
   "outputs": [],
   "source": [
    "gbm = GradientBoostingClassifier()\n",
    "\n",
    "gbm_cv = GridSearchCV(gbm, gbm_params, cv = 10, n_jobs = -1, verbose = 2)\n"
   ]
  },
  {
   "cell_type": "code",
   "execution_count": 141,
   "metadata": {},
   "outputs": [
    {
     "name": "stdout",
     "output_type": "stream",
     "text": [
      "Fitting 10 folds for each of 108 candidates, totalling 1080 fits\n"
     ]
    },
    {
     "name": "stderr",
     "output_type": "stream",
     "text": [
      "[Parallel(n_jobs=-1)]: Using backend LokyBackend with 4 concurrent workers.\n",
      "[Parallel(n_jobs=-1)]: Done  33 tasks      | elapsed:   10.1s\n",
      "[Parallel(n_jobs=-1)]: Done 154 tasks      | elapsed:   46.0s\n",
      "[Parallel(n_jobs=-1)]: Done 357 tasks      | elapsed:  2.3min\n",
      "[Parallel(n_jobs=-1)]: Done 640 tasks      | elapsed:  4.4min\n",
      "[Parallel(n_jobs=-1)]: Done 1005 tasks      | elapsed:  6.7min\n",
      "[Parallel(n_jobs=-1)]: Done 1080 out of 1080 | elapsed:  7.5min finished\n"
     ]
    },
    {
     "data": {
      "text/plain": [
       "GridSearchCV(cv=10, error_score=nan,\n",
       "             estimator=GradientBoostingClassifier(ccp_alpha=0.0,\n",
       "                                                  criterion='friedman_mse',\n",
       "                                                  init=None, learning_rate=0.1,\n",
       "                                                  loss='deviance', max_depth=3,\n",
       "                                                  max_features=None,\n",
       "                                                  max_leaf_nodes=None,\n",
       "                                                  min_impurity_decrease=0.0,\n",
       "                                                  min_impurity_split=None,\n",
       "                                                  min_samples_leaf=1,\n",
       "                                                  min_samples_split=2,\n",
       "                                                  min_weight_fraction_leaf=0.0,\n",
       "                                                  n_estimators=100,\n",
       "                                                  n_iter_no_...\n",
       "                                                  presort='deprecated',\n",
       "                                                  random_state=None,\n",
       "                                                  subsample=1.0, tol=0.0001,\n",
       "                                                  validation_fraction=0.1,\n",
       "                                                  verbose=0, warm_start=False),\n",
       "             iid='deprecated', n_jobs=-1,\n",
       "             param_grid={'learning_rate': [0.001, 0.01, 0.1, 0.05],\n",
       "                         'max_depth': [3, 5, 10],\n",
       "                         'min_samples_split': [2, 5, 10],\n",
       "                         'n_estimators': [100, 500, 100]},\n",
       "             pre_dispatch='2*n_jobs', refit=True, return_train_score=False,\n",
       "             scoring=None, verbose=2)"
      ]
     },
     "execution_count": 141,
     "metadata": {},
     "output_type": "execute_result"
    }
   ],
   "source": [
    "gbm_cv.fit(X_train, y_train)\n"
   ]
  },
  {
   "cell_type": "code",
   "execution_count": 142,
   "metadata": {},
   "outputs": [
    {
     "name": "stdout",
     "output_type": "stream",
     "text": [
      "En iyi parametreler: {'learning_rate': 0.1, 'max_depth': 5, 'min_samples_split': 10, 'n_estimators': 500}\n"
     ]
    }
   ],
   "source": [
    "print(\"En iyi parametreler: \" + str(gbm_cv.best_params_))\n"
   ]
  },
  {
   "cell_type": "code",
   "execution_count": 205,
   "metadata": {},
   "outputs": [],
   "source": [
    "gbm = GradientBoostingClassifier(learning_rate = 0.1, \n",
    "                                 max_depth = 5,\n",
    "                                min_samples_split = 10,\n",
    "                                n_estimators = 500)\n"
   ]
  },
  {
   "cell_type": "code",
   "execution_count": 206,
   "metadata": {},
   "outputs": [],
   "source": [
    "gbm_tuned =  gbm.fit(X_train,y_train)\n"
   ]
  },
  {
   "cell_type": "code",
   "execution_count": 207,
   "metadata": {},
   "outputs": [
    {
     "data": {
      "text/plain": [
       "0.948019801980198"
      ]
     },
     "execution_count": 207,
     "metadata": {},
     "output_type": "execute_result"
    }
   ],
   "source": [
    "y_pred = gbm_tuned.predict(X_test)\n",
    "accuracy_score(y_test, y_pred)\n"
   ]
  },
  {
   "cell_type": "code",
   "execution_count": 145,
   "metadata": {},
   "outputs": [
    {
     "name": "stdout",
     "output_type": "stream",
     "text": [
      "              precision    recall  f1-score   support\n",
      "\n",
      "           0       0.95      0.99      0.97       369\n",
      "           1       0.84      0.46      0.59        35\n",
      "\n",
      "    accuracy                           0.95       404\n",
      "   macro avg       0.90      0.72      0.78       404\n",
      "weighted avg       0.94      0.95      0.94       404\n",
      "\n"
     ]
    }
   ],
   "source": [
    "print(classification_report(y_test, y_pred))"
   ]
  },
  {
   "cell_type": "code",
   "execution_count": 208,
   "metadata": {},
   "outputs": [
    {
     "data": {
      "text/plain": [
       "Text(0.5, 0, 'Değişken Önem Düzeyleri')"
      ]
     },
     "execution_count": 208,
     "metadata": {},
     "output_type": "execute_result"
    },
    {
     "data": {
      "image/png": "[encoded data removed]",
      "text/plain": [
       "<Figure size 432x288 with 1 Axes>"
      ]
     },
     "metadata": {
      "needs_background": "light"
     },
     "output_type": "display_data"
    }
   ],
   "source": [
    "Importance = pd.DataFrame({\"Importance\": gbm_tuned.feature_importances_*100},\n",
    "                         index = X_train.columns)\n",
    "Importance.sort_values(by = \"Importance\", \n",
    "                       axis = 0, \n",
    "                       ascending = True).plot(kind =\"barh\", color = \"r\")\n",
    "\n",
    "plt.xlabel(\"Değişken Önem Düzeyleri\")"
   ]
  },
  {
   "cell_type": "markdown",
   "metadata": {},
   "source": [
    "# XGBoost (eXtreme Gradient Boosting)\n"
   ]
  },
  {
   "cell_type": "code",
   "execution_count": 209,
   "metadata": {},
   "outputs": [
    {
     "data": {
      "text/html": [
       "<div>\n",
       "<style scoped>\n",
       "    .dataframe tbody tr th:only-of-type {\n",
       "        vertical-align: middle;\n",
       "    }\n",
       "\n",
       "    .dataframe tbody tr th {\n",
       "        vertical-align: top;\n",
       "    }\n",
       "\n",
       "    .dataframe thead th {\n",
       "        text-align: right;\n",
       "    }\n",
       "</style>\n",
       "<table border=\"1\" class=\"dataframe\">\n",
       "  <thead>\n",
       "    <tr style=\"text-align: right;\">\n",
       "      <th></th>\n",
       "      <th>loan</th>\n",
       "      <th>derog</th>\n",
       "      <th>delinq</th>\n",
       "      <th>clage</th>\n",
       "      <th>clno</th>\n",
       "      <th>debtinc</th>\n",
       "      <th>job_Mgr</th>\n",
       "      <th>job_Office</th>\n",
       "      <th>job_Other</th>\n",
       "      <th>job_ProfEx</th>\n",
       "      <th>job_Sales</th>\n",
       "    </tr>\n",
       "  </thead>\n",
       "  <tbody>\n",
       "    <tr>\n",
       "      <th>153</th>\n",
       "      <td>18200</td>\n",
       "      <td>0.0</td>\n",
       "      <td>0.0</td>\n",
       "      <td>168.96</td>\n",
       "      <td>26.0</td>\n",
       "      <td>36.056</td>\n",
       "      <td>1</td>\n",
       "      <td>0</td>\n",
       "      <td>0</td>\n",
       "      <td>0</td>\n",
       "      <td>0</td>\n",
       "    </tr>\n",
       "    <tr>\n",
       "      <th>154</th>\n",
       "      <td>21700</td>\n",
       "      <td>0.0</td>\n",
       "      <td>0.0</td>\n",
       "      <td>64.51</td>\n",
       "      <td>24.0</td>\n",
       "      <td>38.079</td>\n",
       "      <td>1</td>\n",
       "      <td>0</td>\n",
       "      <td>0</td>\n",
       "      <td>0</td>\n",
       "      <td>0</td>\n",
       "    </tr>\n",
       "    <tr>\n",
       "      <th>155</th>\n",
       "      <td>34100</td>\n",
       "      <td>0.0</td>\n",
       "      <td>2.0</td>\n",
       "      <td>196.01</td>\n",
       "      <td>50.0</td>\n",
       "      <td>42.459</td>\n",
       "      <td>1</td>\n",
       "      <td>0</td>\n",
       "      <td>0</td>\n",
       "      <td>0</td>\n",
       "      <td>0</td>\n",
       "    </tr>\n",
       "    <tr>\n",
       "      <th>156</th>\n",
       "      <td>8400</td>\n",
       "      <td>0.0</td>\n",
       "      <td>2.0</td>\n",
       "      <td>131.47</td>\n",
       "      <td>22.0</td>\n",
       "      <td>29.200</td>\n",
       "      <td>1</td>\n",
       "      <td>0</td>\n",
       "      <td>0</td>\n",
       "      <td>0</td>\n",
       "      <td>0</td>\n",
       "    </tr>\n",
       "    <tr>\n",
       "      <th>157</th>\n",
       "      <td>17400</td>\n",
       "      <td>1.0</td>\n",
       "      <td>0.0</td>\n",
       "      <td>95.36</td>\n",
       "      <td>17.0</td>\n",
       "      <td>27.108</td>\n",
       "      <td>1</td>\n",
       "      <td>0</td>\n",
       "      <td>0</td>\n",
       "      <td>0</td>\n",
       "      <td>0</td>\n",
       "    </tr>\n",
       "  </tbody>\n",
       "</table>\n",
       "</div>"
      ],
      "text/plain": [
       "      loan  derog  delinq   clage  clno  debtinc  job_Mgr  job_Office  \\\n",
       "153  18200    0.0     0.0  168.96  26.0   36.056        1           0   \n",
       "154  21700    0.0     0.0   64.51  24.0   38.079        1           0   \n",
       "155  34100    0.0     2.0  196.01  50.0   42.459        1           0   \n",
       "156   8400    0.0     2.0  131.47  22.0   29.200        1           0   \n",
       "157  17400    1.0     0.0   95.36  17.0   27.108        1           0   \n",
       "\n",
       "     job_Other  job_ProfEx  job_Sales  \n",
       "153          0           0          0  \n",
       "154          0           0          0  \n",
       "155          0           0          0  \n",
       "156          0           0          0  \n",
       "157          0           0          0  "
      ]
     },
     "execution_count": 209,
     "metadata": {},
     "output_type": "execute_result"
    }
   ],
   "source": [
    "y=df[\"bad\"]\n",
    "X_=df.drop([\"job\",\"reason\",\"bad\"],axis=1)\n",
    "X=pd.concat([X_,dms[[\"job_Mgr\",\"job_Office\",\"job_Other\",\"job_ProfEx\",\"job_Sales\",\"reason_DebtCon\"]]],axis=1)\n",
    "X=X.drop([\"mortdue\",\"reason_DebtCon\",\"yoj\",\"value\",\"ninq\"],axis=1)\n",
    "X_train, X_test, y_train,y_test=train_test_split(X,y,test_size=0.20,random_state=42)\n",
    "X.head()"
   ]
  },
  {
   "cell_type": "code",
   "execution_count": 210,
   "metadata": {},
   "outputs": [],
   "source": [
    "from xgboost import XGBClassifier"
   ]
  },
  {
   "cell_type": "code",
   "execution_count": 211,
   "metadata": {},
   "outputs": [],
   "source": [
    "xgb_model = XGBClassifier().fit(X_train, y_train)\n"
   ]
  },
  {
   "cell_type": "code",
   "execution_count": 212,
   "metadata": {},
   "outputs": [
    {
     "data": {
      "text/plain": [
       "XGBClassifier(base_score=0.5, booster='gbtree', colsample_bylevel=1,\n",
       "              colsample_bynode=1, colsample_bytree=1, gamma=0, gpu_id=-1,\n",
       "              importance_type='gain', interaction_constraints='',\n",
       "              learning_rate=0.300000012, max_delta_step=0, max_depth=6,\n",
       "              min_child_weight=1, missing=nan, monotone_constraints='()',\n",
       "              n_estimators=100, n_jobs=0, num_parallel_tree=1,\n",
       "              objective='binary:logistic', random_state=0, reg_alpha=0,\n",
       "              reg_lambda=1, scale_pos_weight=1, subsample=1,\n",
       "              tree_method='exact', validate_parameters=1, verbosity=None)"
      ]
     },
     "execution_count": 212,
     "metadata": {},
     "output_type": "execute_result"
    }
   ],
   "source": [
    "xgb_model\n"
   ]
  },
  {
   "cell_type": "code",
   "execution_count": 213,
   "metadata": {},
   "outputs": [
    {
     "data": {
      "text/plain": [
       "0.9405940594059405"
      ]
     },
     "execution_count": 213,
     "metadata": {},
     "output_type": "execute_result"
    }
   ],
   "source": [
    "y_pred = xgb_model.predict(X_test)\n",
    "accuracy_score(y_test, y_pred)\n"
   ]
  },
  {
   "cell_type": "code",
   "execution_count": 214,
   "metadata": {},
   "outputs": [
    {
     "name": "stdout",
     "output_type": "stream",
     "text": [
      "              precision    recall  f1-score   support\n",
      "\n",
      "           0       0.95      0.99      0.97       369\n",
      "           1       0.82      0.40      0.54        35\n",
      "\n",
      "    accuracy                           0.94       404\n",
      "   macro avg       0.88      0.70      0.75       404\n",
      "weighted avg       0.94      0.94      0.93       404\n",
      "\n"
     ]
    }
   ],
   "source": [
    "print(classification_report(y_test, y_pred))"
   ]
  },
  {
   "cell_type": "markdown",
   "metadata": {},
   "source": [
    "## XGBoost -Model Tuning"
   ]
  },
  {
   "cell_type": "code",
   "execution_count": 152,
   "metadata": {},
   "outputs": [
    {
     "data": {
      "text/plain": [
       "XGBClassifier(base_score=0.5, booster='gbtree', colsample_bylevel=1,\n",
       "              colsample_bynode=1, colsample_bytree=1, gamma=0, gpu_id=-1,\n",
       "              importance_type='gain', interaction_constraints='',\n",
       "              learning_rate=0.300000012, max_delta_step=0, max_depth=6,\n",
       "              min_child_weight=1, missing=nan, monotone_constraints='()',\n",
       "              n_estimators=100, n_jobs=0, num_parallel_tree=1,\n",
       "              objective='binary:logistic', random_state=0, reg_alpha=0,\n",
       "              reg_lambda=1, scale_pos_weight=1, subsample=1,\n",
       "              tree_method='exact', validate_parameters=1, verbosity=None)"
      ]
     },
     "execution_count": 152,
     "metadata": {},
     "output_type": "execute_result"
    }
   ],
   "source": [
    "xgb_model\n"
   ]
  },
  {
   "cell_type": "code",
   "execution_count": 153,
   "metadata": {},
   "outputs": [],
   "source": [
    "?xgb_model"
   ]
  },
  {
   "cell_type": "code",
   "execution_count": 154,
   "metadata": {},
   "outputs": [],
   "source": [
    "xgb_params = {\n",
    "        'n_estimators': [100, 500, 1000, 2000],\n",
    "        'subsample': [0.6, 0.8, 1.0],\n",
    "        'max_depth': [3, 4, 5,6],\n",
    "        'learning_rate': [0.1,0.01,0.02,0.05],\n",
    "        \"min_samples_split\": [2,5,10]}\n"
   ]
  },
  {
   "cell_type": "code",
   "execution_count": 155,
   "metadata": {},
   "outputs": [],
   "source": [
    "xgb = XGBClassifier()\n",
    "\n",
    "xgb_cv_model = GridSearchCV(xgb, xgb_params, cv = 10, n_jobs = -1, verbose = 2)\n"
   ]
  },
  {
   "cell_type": "code",
   "execution_count": 156,
   "metadata": {},
   "outputs": [
    {
     "name": "stdout",
     "output_type": "stream",
     "text": [
      "Fitting 10 folds for each of 576 candidates, totalling 5760 fits\n"
     ]
    },
    {
     "name": "stderr",
     "output_type": "stream",
     "text": [
      "[Parallel(n_jobs=-1)]: Using backend LokyBackend with 4 concurrent workers.\n",
      "[Parallel(n_jobs=-1)]: Done  33 tasks      | elapsed:    6.3s\n",
      "[Parallel(n_jobs=-1)]: Done 154 tasks      | elapsed:  1.5min\n",
      "[Parallel(n_jobs=-1)]: Done 357 tasks      | elapsed:  3.6min\n",
      "[Parallel(n_jobs=-1)]: Done 640 tasks      | elapsed:  5.8min\n",
      "[Parallel(n_jobs=-1)]: Done 1005 tasks      | elapsed:  8.8min\n",
      "[Parallel(n_jobs=-1)]: Done 1450 tasks      | elapsed: 13.1min\n",
      "[Parallel(n_jobs=-1)]: Done 1977 tasks      | elapsed: 17.2min\n",
      "[Parallel(n_jobs=-1)]: Done 2584 tasks      | elapsed: 23.5min\n",
      "[Parallel(n_jobs=-1)]: Done 3273 tasks      | elapsed: 30.6min\n",
      "[Parallel(n_jobs=-1)]: Done 4042 tasks      | elapsed: 38.4min\n",
      "[Parallel(n_jobs=-1)]: Done 4893 tasks      | elapsed: 45.6min\n",
      "[Parallel(n_jobs=-1)]: Done 5760 out of 5760 | elapsed: 55.2min finished\n"
     ]
    },
    {
     "name": "stdout",
     "output_type": "stream",
     "text": [
      "[22:57:23] WARNING: /Users/travis/build/dmlc/xgboost/src/learner.cc:480: \n",
      "Parameters: { min_samples_split } might not be used.\n",
      "\n",
      "  This may not be accurate due to some parameters are only used in language bindings but\n",
      "  passed down to XGBoost core.  Or some parameters are not used but slip through this\n",
      "  verification. Please open an issue if you find above cases.\n",
      "\n",
      "\n"
     ]
    },
    {
     "data": {
      "text/plain": [
       "GridSearchCV(cv=10, error_score=nan,\n",
       "             estimator=XGBClassifier(base_score=None, booster=None,\n",
       "                                     colsample_bylevel=None,\n",
       "                                     colsample_bynode=None,\n",
       "                                     colsample_bytree=None, gamma=None,\n",
       "                                     gpu_id=None, importance_type='gain',\n",
       "                                     interaction_constraints=None,\n",
       "                                     learning_rate=None, max_delta_step=None,\n",
       "                                     max_depth=None, min_child_weight=None,\n",
       "                                     missing=nan, monotone_constraints=None,\n",
       "                                     n_esti...\n",
       "                                     reg_lambda=None, scale_pos_weight=None,\n",
       "                                     subsample=None, tree_method=None,\n",
       "                                     validate_parameters=None, verbosity=None),\n",
       "             iid='deprecated', n_jobs=-1,\n",
       "             param_grid={'learning_rate': [0.1, 0.01, 0.02, 0.05],\n",
       "                         'max_depth': [3, 4, 5, 6],\n",
       "                         'min_samples_split': [2, 5, 10],\n",
       "                         'n_estimators': [100, 500, 1000, 2000],\n",
       "                         'subsample': [0.6, 0.8, 1.0]},\n",
       "             pre_dispatch='2*n_jobs', refit=True, return_train_score=False,\n",
       "             scoring=None, verbose=2)"
      ]
     },
     "execution_count": 156,
     "metadata": {},
     "output_type": "execute_result"
    }
   ],
   "source": [
    "xgb_cv_model.fit(X_train, y_train)\n"
   ]
  },
  {
   "cell_type": "code",
   "execution_count": 157,
   "metadata": {},
   "outputs": [
    {
     "data": {
      "text/plain": [
       "{'learning_rate': 0.01,\n",
       " 'max_depth': 3,\n",
       " 'min_samples_split': 2,\n",
       " 'n_estimators': 500,\n",
       " 'subsample': 0.6}"
      ]
     },
     "execution_count": 157,
     "metadata": {},
     "output_type": "execute_result"
    }
   ],
   "source": [
    "xgb_cv_model.best_params_"
   ]
  },
  {
   "cell_type": "code",
   "execution_count": 215,
   "metadata": {},
   "outputs": [],
   "source": [
    "xgb = XGBClassifier(learning_rate = 0.01, \n",
    "                    max_depth = 3,\n",
    "                    min_samples_split = 2,\n",
    "                    n_estimators = 500,\n",
    "                    subsample = 0.6)\n"
   ]
  },
  {
   "cell_type": "code",
   "execution_count": 216,
   "metadata": {},
   "outputs": [
    {
     "name": "stdout",
     "output_type": "stream",
     "text": [
      "[14:54:12] WARNING: /Users/travis/build/dmlc/xgboost/src/learner.cc:480: \n",
      "Parameters: { min_samples_split } might not be used.\n",
      "\n",
      "  This may not be accurate due to some parameters are only used in language bindings but\n",
      "  passed down to XGBoost core.  Or some parameters are not used but slip through this\n",
      "  verification. Please open an issue if you find above cases.\n",
      "\n",
      "\n"
     ]
    }
   ],
   "source": [
    "xgb_tuned =  xgb.fit(X_train,y_train)\n"
   ]
  },
  {
   "cell_type": "code",
   "execution_count": 217,
   "metadata": {},
   "outputs": [
    {
     "data": {
      "text/plain": [
       "0.9331683168316832"
      ]
     },
     "execution_count": 217,
     "metadata": {},
     "output_type": "execute_result"
    }
   ],
   "source": [
    "y_pred = xgb_tuned.predict(X_test)\n",
    "accuracy_score(y_test, y_pred)\n"
   ]
  },
  {
   "cell_type": "code",
   "execution_count": 218,
   "metadata": {},
   "outputs": [
    {
     "name": "stdout",
     "output_type": "stream",
     "text": [
      "              precision    recall  f1-score   support\n",
      "\n",
      "           0       0.94      0.99      0.96       369\n",
      "           1       0.79      0.31      0.45        35\n",
      "\n",
      "    accuracy                           0.93       404\n",
      "   macro avg       0.86      0.65      0.71       404\n",
      "weighted avg       0.93      0.93      0.92       404\n",
      "\n"
     ]
    }
   ],
   "source": [
    "print(classification_report(y_test, y_pred))"
   ]
  },
  {
   "cell_type": "code",
   "execution_count": 219,
   "metadata": {},
   "outputs": [
    {
     "data": {
      "text/plain": [
       "Text(0.5, 0, 'Değişken Önem Düzeyleri')"
      ]
     },
     "execution_count": 219,
     "metadata": {},
     "output_type": "execute_result"
    },
    {
     "data": {
      "image/png": "[encoded data removed]",
      "text/plain": [
       "<Figure size 432x288 with 1 Axes>"
      ]
     },
     "metadata": {
      "needs_background": "light"
     },
     "output_type": "display_data"
    }
   ],
   "source": [
    "Importance = pd.DataFrame({\"Importance\": xgb_tuned.feature_importances_*100},\n",
    "                         index = X_train.columns)\n",
    "Importance.sort_values(by = \"Importance\", \n",
    "                       axis = 0, \n",
    "                       ascending = True).plot(kind =\"barh\", color = \"r\")\n",
    "\n",
    "plt.xlabel(\"Değişken Önem Düzeyleri\")"
   ]
  },
  {
   "cell_type": "markdown",
   "metadata": {},
   "source": [
    "# LightGBM    "
   ]
  },
  {
   "cell_type": "code",
   "execution_count": 220,
   "metadata": {},
   "outputs": [
    {
     "data": {
      "text/html": [
       "<div>\n",
       "<style scoped>\n",
       "    .dataframe tbody tr th:only-of-type {\n",
       "        vertical-align: middle;\n",
       "    }\n",
       "\n",
       "    .dataframe tbody tr th {\n",
       "        vertical-align: top;\n",
       "    }\n",
       "\n",
       "    .dataframe thead th {\n",
       "        text-align: right;\n",
       "    }\n",
       "</style>\n",
       "<table border=\"1\" class=\"dataframe\">\n",
       "  <thead>\n",
       "    <tr style=\"text-align: right;\">\n",
       "      <th></th>\n",
       "      <th>loan</th>\n",
       "      <th>derog</th>\n",
       "      <th>delinq</th>\n",
       "      <th>clage</th>\n",
       "      <th>clno</th>\n",
       "      <th>debtinc</th>\n",
       "      <th>job_Mgr</th>\n",
       "      <th>job_Office</th>\n",
       "      <th>job_Other</th>\n",
       "      <th>job_ProfEx</th>\n",
       "      <th>job_Sales</th>\n",
       "    </tr>\n",
       "  </thead>\n",
       "  <tbody>\n",
       "    <tr>\n",
       "      <th>153</th>\n",
       "      <td>18200</td>\n",
       "      <td>0.0</td>\n",
       "      <td>0.0</td>\n",
       "      <td>168.96</td>\n",
       "      <td>26.0</td>\n",
       "      <td>36.056</td>\n",
       "      <td>1</td>\n",
       "      <td>0</td>\n",
       "      <td>0</td>\n",
       "      <td>0</td>\n",
       "      <td>0</td>\n",
       "    </tr>\n",
       "    <tr>\n",
       "      <th>154</th>\n",
       "      <td>21700</td>\n",
       "      <td>0.0</td>\n",
       "      <td>0.0</td>\n",
       "      <td>64.51</td>\n",
       "      <td>24.0</td>\n",
       "      <td>38.079</td>\n",
       "      <td>1</td>\n",
       "      <td>0</td>\n",
       "      <td>0</td>\n",
       "      <td>0</td>\n",
       "      <td>0</td>\n",
       "    </tr>\n",
       "    <tr>\n",
       "      <th>155</th>\n",
       "      <td>34100</td>\n",
       "      <td>0.0</td>\n",
       "      <td>2.0</td>\n",
       "      <td>196.01</td>\n",
       "      <td>50.0</td>\n",
       "      <td>42.459</td>\n",
       "      <td>1</td>\n",
       "      <td>0</td>\n",
       "      <td>0</td>\n",
       "      <td>0</td>\n",
       "      <td>0</td>\n",
       "    </tr>\n",
       "    <tr>\n",
       "      <th>156</th>\n",
       "      <td>8400</td>\n",
       "      <td>0.0</td>\n",
       "      <td>2.0</td>\n",
       "      <td>131.47</td>\n",
       "      <td>22.0</td>\n",
       "      <td>29.200</td>\n",
       "      <td>1</td>\n",
       "      <td>0</td>\n",
       "      <td>0</td>\n",
       "      <td>0</td>\n",
       "      <td>0</td>\n",
       "    </tr>\n",
       "    <tr>\n",
       "      <th>157</th>\n",
       "      <td>17400</td>\n",
       "      <td>1.0</td>\n",
       "      <td>0.0</td>\n",
       "      <td>95.36</td>\n",
       "      <td>17.0</td>\n",
       "      <td>27.108</td>\n",
       "      <td>1</td>\n",
       "      <td>0</td>\n",
       "      <td>0</td>\n",
       "      <td>0</td>\n",
       "      <td>0</td>\n",
       "    </tr>\n",
       "  </tbody>\n",
       "</table>\n",
       "</div>"
      ],
      "text/plain": [
       "      loan  derog  delinq   clage  clno  debtinc  job_Mgr  job_Office  \\\n",
       "153  18200    0.0     0.0  168.96  26.0   36.056        1           0   \n",
       "154  21700    0.0     0.0   64.51  24.0   38.079        1           0   \n",
       "155  34100    0.0     2.0  196.01  50.0   42.459        1           0   \n",
       "156   8400    0.0     2.0  131.47  22.0   29.200        1           0   \n",
       "157  17400    1.0     0.0   95.36  17.0   27.108        1           0   \n",
       "\n",
       "     job_Other  job_ProfEx  job_Sales  \n",
       "153          0           0          0  \n",
       "154          0           0          0  \n",
       "155          0           0          0  \n",
       "156          0           0          0  \n",
       "157          0           0          0  "
      ]
     },
     "execution_count": 220,
     "metadata": {},
     "output_type": "execute_result"
    }
   ],
   "source": [
    "y=df[\"bad\"]\n",
    "X_=df.drop([\"job\",\"reason\",\"bad\"],axis=1)\n",
    "X=pd.concat([X_,dms[[\"job_Mgr\",\"job_Office\",\"job_Other\",\"job_ProfEx\",\"job_Sales\",\"reason_DebtCon\"]]],axis=1)\n",
    "X=X.drop([\"mortdue\",\"reason_DebtCon\",\"yoj\",\"value\",\"ninq\"],axis=1)\n",
    "X_train, X_test, y_train,y_test=train_test_split(X,y,test_size=0.20,random_state=42)\n",
    "X.head()"
   ]
  },
  {
   "cell_type": "code",
   "execution_count": 221,
   "metadata": {},
   "outputs": [],
   "source": [
    "from lightgbm import LGBMClassifier\n"
   ]
  },
  {
   "cell_type": "code",
   "execution_count": 222,
   "metadata": {},
   "outputs": [],
   "source": [
    "lgbm_model = LGBMClassifier().fit(X_train, y_train)\n"
   ]
  },
  {
   "cell_type": "code",
   "execution_count": 223,
   "metadata": {},
   "outputs": [
    {
     "data": {
      "text/plain": [
       "0.9405940594059405"
      ]
     },
     "execution_count": 223,
     "metadata": {},
     "output_type": "execute_result"
    }
   ],
   "source": [
    "y_pred = lgbm_model.predict(X_test)\n",
    "accuracy_score(y_test, y_pred)\n"
   ]
  },
  {
   "cell_type": "code",
   "execution_count": 224,
   "metadata": {},
   "outputs": [
    {
     "name": "stdout",
     "output_type": "stream",
     "text": [
      "              precision    recall  f1-score   support\n",
      "\n",
      "           0       0.94      0.99      0.97       369\n",
      "           1       0.87      0.37      0.52        35\n",
      "\n",
      "    accuracy                           0.94       404\n",
      "   macro avg       0.91      0.68      0.74       404\n",
      "weighted avg       0.94      0.94      0.93       404\n",
      "\n"
     ]
    }
   ],
   "source": [
    "print(classification_report(y_test, y_pred))"
   ]
  },
  {
   "cell_type": "markdown",
   "metadata": {},
   "source": [
    "## LightGBM -Model Tuning"
   ]
  },
  {
   "cell_type": "code",
   "execution_count": 121,
   "metadata": {},
   "outputs": [
    {
     "data": {
      "text/plain": [
       "LGBMClassifier(boosting_type='gbdt', class_weight=None, colsample_bytree=1.0,\n",
       "               importance_type='split', learning_rate=0.1, max_depth=-1,\n",
       "               min_child_samples=20, min_child_weight=0.001, min_split_gain=0.0,\n",
       "               n_estimators=100, n_jobs=-1, num_leaves=31, objective=None,\n",
       "               random_state=None, reg_alpha=0.0, reg_lambda=0.0, silent=True,\n",
       "               subsample=1.0, subsample_for_bin=200000, subsample_freq=0)"
      ]
     },
     "execution_count": 121,
     "metadata": {},
     "output_type": "execute_result"
    }
   ],
   "source": [
    "lgbm_model"
   ]
  },
  {
   "cell_type": "code",
   "execution_count": 167,
   "metadata": {},
   "outputs": [],
   "source": [
    "?lgbm_model"
   ]
  },
  {
   "cell_type": "code",
   "execution_count": 168,
   "metadata": {},
   "outputs": [],
   "source": [
    "lgbm_params = {\n",
    "        'n_estimators': [100, 500, 1000, 2000],\n",
    "        'subsample': [0.6, 0.8, 1.0],\n",
    "        'max_depth': [3, 4, 5,6],\n",
    "        'learning_rate': [0.1,0.01,0.02,0.05],\n",
    "        \"min_child_samples\": [5,10,20]}\n"
   ]
  },
  {
   "cell_type": "code",
   "execution_count": 169,
   "metadata": {},
   "outputs": [],
   "source": [
    "lgbm = LGBMClassifier()\n",
    "\n",
    "lgbm_cv_model = GridSearchCV(lgbm, lgbm_params, \n",
    "                             cv = 10, \n",
    "                             n_jobs = -1, \n",
    "                             verbose = 2)\n"
   ]
  },
  {
   "cell_type": "code",
   "execution_count": 170,
   "metadata": {},
   "outputs": [
    {
     "name": "stdout",
     "output_type": "stream",
     "text": [
      "Fitting 10 folds for each of 576 candidates, totalling 5760 fits\n"
     ]
    },
    {
     "name": "stderr",
     "output_type": "stream",
     "text": [
      "[Parallel(n_jobs=-1)]: Using backend LokyBackend with 4 concurrent workers.\n",
      "[Parallel(n_jobs=-1)]: Done  33 tasks      | elapsed:    5.5s\n",
      "[Parallel(n_jobs=-1)]: Done 154 tasks      | elapsed:   28.6s\n",
      "[Parallel(n_jobs=-1)]: Done 357 tasks      | elapsed:  1.1min\n",
      "[Parallel(n_jobs=-1)]: Done 640 tasks      | elapsed:  1.8min\n",
      "[Parallel(n_jobs=-1)]: Done 1005 tasks      | elapsed:  3.1min\n",
      "[Parallel(n_jobs=-1)]: Done 1450 tasks      | elapsed:  4.9min\n",
      "[Parallel(n_jobs=-1)]: Done 1977 tasks      | elapsed:  6.2min\n",
      "[Parallel(n_jobs=-1)]: Done 2584 tasks      | elapsed:  8.4min\n",
      "[Parallel(n_jobs=-1)]: Done 3273 tasks      | elapsed: 10.8min\n",
      "[Parallel(n_jobs=-1)]: Done 4042 tasks      | elapsed: 13.5min\n",
      "[Parallel(n_jobs=-1)]: Done 4893 tasks      | elapsed: 16.6min\n",
      "[Parallel(n_jobs=-1)]: Done 5760 out of 5760 | elapsed: 20.2min finished\n"
     ]
    },
    {
     "data": {
      "text/plain": [
       "GridSearchCV(cv=10, error_score=nan,\n",
       "             estimator=LGBMClassifier(boosting_type='gbdt', class_weight=None,\n",
       "                                      colsample_bytree=1.0,\n",
       "                                      importance_type='split',\n",
       "                                      learning_rate=0.1, max_depth=-1,\n",
       "                                      min_child_samples=20,\n",
       "                                      min_child_weight=0.001,\n",
       "                                      min_split_gain=0.0, n_estimators=100,\n",
       "                                      n_jobs=-1, num_leaves=31, objective=None,\n",
       "                                      random_state=None, reg_alpha=0.0,\n",
       "                                      reg_lambda=0.0, silent=True,\n",
       "                                      subsample=1.0, subsample_for_bin=200000,\n",
       "                                      subsample_freq=0),\n",
       "             iid='deprecated', n_jobs=-1,\n",
       "             param_grid={'learning_rate': [0.1, 0.01, 0.02, 0.05],\n",
       "                         'max_depth': [3, 4, 5, 6],\n",
       "                         'min_child_samples': [5, 10, 20],\n",
       "                         'n_estimators': [100, 500, 1000, 2000],\n",
       "                         'subsample': [0.6, 0.8, 1.0]},\n",
       "             pre_dispatch='2*n_jobs', refit=True, return_train_score=False,\n",
       "             scoring=None, verbose=2)"
      ]
     },
     "execution_count": 170,
     "metadata": {},
     "output_type": "execute_result"
    }
   ],
   "source": [
    "lgbm_cv_model.fit(X_train, y_train)"
   ]
  },
  {
   "cell_type": "code",
   "execution_count": 171,
   "metadata": {},
   "outputs": [
    {
     "data": {
      "text/plain": [
       "{'learning_rate': 0.1,\n",
       " 'max_depth': 3,\n",
       " 'min_child_samples': 5,\n",
       " 'n_estimators': 100,\n",
       " 'subsample': 0.6}"
      ]
     },
     "execution_count": 171,
     "metadata": {},
     "output_type": "execute_result"
    }
   ],
   "source": [
    "lgbm_cv_model.best_params_\n"
   ]
  },
  {
   "cell_type": "code",
   "execution_count": 225,
   "metadata": {},
   "outputs": [],
   "source": [
    "lgbm = LGBMClassifier(learning_rate = 0.1, \n",
    "                       max_depth = 3,\n",
    "                       subsample = 0.6,\n",
    "                       n_estimators = 100,\n",
    "                       min_child_samples = 5)\n"
   ]
  },
  {
   "cell_type": "code",
   "execution_count": 226,
   "metadata": {},
   "outputs": [],
   "source": [
    "lgbm_tuned = lgbm.fit(X_train,y_train)\n"
   ]
  },
  {
   "cell_type": "code",
   "execution_count": 227,
   "metadata": {},
   "outputs": [
    {
     "data": {
      "text/plain": [
       "0.9356435643564357"
      ]
     },
     "execution_count": 227,
     "metadata": {},
     "output_type": "execute_result"
    }
   ],
   "source": [
    "y_pred = lgbm_tuned.predict(X_test)\n",
    "accuracy_score(y_test, y_pred)\n"
   ]
  },
  {
   "cell_type": "code",
   "execution_count": 228,
   "metadata": {},
   "outputs": [
    {
     "name": "stdout",
     "output_type": "stream",
     "text": [
      "              precision    recall  f1-score   support\n",
      "\n",
      "           0       0.94      0.99      0.97       369\n",
      "           1       0.80      0.34      0.48        35\n",
      "\n",
      "    accuracy                           0.94       404\n",
      "   macro avg       0.87      0.67      0.72       404\n",
      "weighted avg       0.93      0.94      0.92       404\n",
      "\n"
     ]
    }
   ],
   "source": [
    "print(classification_report(y_test, y_pred))"
   ]
  },
  {
   "cell_type": "code",
   "execution_count": 229,
   "metadata": {},
   "outputs": [
    {
     "data": {
      "text/plain": [
       "Text(0.5, 0, 'Değişken Önem Düzeyleri')"
      ]
     },
     "execution_count": 229,
     "metadata": {},
     "output_type": "execute_result"
    },
    {
     "data": {
      "image/png": "[encoded data removed]",
      "text/plain": [
       "<Figure size 432x288 with 1 Axes>"
      ]
     },
     "metadata": {
      "needs_background": "light"
     },
     "output_type": "display_data"
    }
   ],
   "source": [
    "Importance = pd.DataFrame({\"Importance\": lgbm_tuned.feature_importances_*100},\n",
    "                         index = X_train.columns)\n",
    "Importance.sort_values(by = \"Importance\", \n",
    "                       axis = 0, \n",
    "                       ascending = True).plot(kind =\"barh\", color = \"r\")\n",
    "\n",
    "plt.xlabel(\"Değişken Önem Düzeyleri\")"
   ]
  },
  {
   "cell_type": "markdown",
   "metadata": {},
   "source": [
    "# CatBoost (Category Boosting)"
   ]
  },
  {
   "cell_type": "code",
   "execution_count": 230,
   "metadata": {},
   "outputs": [
    {
     "data": {
      "text/html": [
       "<div>\n",
       "<style scoped>\n",
       "    .dataframe tbody tr th:only-of-type {\n",
       "        vertical-align: middle;\n",
       "    }\n",
       "\n",
       "    .dataframe tbody tr th {\n",
       "        vertical-align: top;\n",
       "    }\n",
       "\n",
       "    .dataframe thead th {\n",
       "        text-align: right;\n",
       "    }\n",
       "</style>\n",
       "<table border=\"1\" class=\"dataframe\">\n",
       "  <thead>\n",
       "    <tr style=\"text-align: right;\">\n",
       "      <th></th>\n",
       "      <th>loan</th>\n",
       "      <th>derog</th>\n",
       "      <th>delinq</th>\n",
       "      <th>clage</th>\n",
       "      <th>clno</th>\n",
       "      <th>debtinc</th>\n",
       "      <th>job_Mgr</th>\n",
       "      <th>job_Office</th>\n",
       "      <th>job_Other</th>\n",
       "      <th>job_ProfEx</th>\n",
       "      <th>job_Sales</th>\n",
       "    </tr>\n",
       "  </thead>\n",
       "  <tbody>\n",
       "    <tr>\n",
       "      <th>153</th>\n",
       "      <td>18200</td>\n",
       "      <td>0.0</td>\n",
       "      <td>0.0</td>\n",
       "      <td>168.96</td>\n",
       "      <td>26.0</td>\n",
       "      <td>36.056</td>\n",
       "      <td>1</td>\n",
       "      <td>0</td>\n",
       "      <td>0</td>\n",
       "      <td>0</td>\n",
       "      <td>0</td>\n",
       "    </tr>\n",
       "    <tr>\n",
       "      <th>154</th>\n",
       "      <td>21700</td>\n",
       "      <td>0.0</td>\n",
       "      <td>0.0</td>\n",
       "      <td>64.51</td>\n",
       "      <td>24.0</td>\n",
       "      <td>38.079</td>\n",
       "      <td>1</td>\n",
       "      <td>0</td>\n",
       "      <td>0</td>\n",
       "      <td>0</td>\n",
       "      <td>0</td>\n",
       "    </tr>\n",
       "    <tr>\n",
       "      <th>155</th>\n",
       "      <td>34100</td>\n",
       "      <td>0.0</td>\n",
       "      <td>2.0</td>\n",
       "      <td>196.01</td>\n",
       "      <td>50.0</td>\n",
       "      <td>42.459</td>\n",
       "      <td>1</td>\n",
       "      <td>0</td>\n",
       "      <td>0</td>\n",
       "      <td>0</td>\n",
       "      <td>0</td>\n",
       "    </tr>\n",
       "    <tr>\n",
       "      <th>156</th>\n",
       "      <td>8400</td>\n",
       "      <td>0.0</td>\n",
       "      <td>2.0</td>\n",
       "      <td>131.47</td>\n",
       "      <td>22.0</td>\n",
       "      <td>29.200</td>\n",
       "      <td>1</td>\n",
       "      <td>0</td>\n",
       "      <td>0</td>\n",
       "      <td>0</td>\n",
       "      <td>0</td>\n",
       "    </tr>\n",
       "    <tr>\n",
       "      <th>157</th>\n",
       "      <td>17400</td>\n",
       "      <td>1.0</td>\n",
       "      <td>0.0</td>\n",
       "      <td>95.36</td>\n",
       "      <td>17.0</td>\n",
       "      <td>27.108</td>\n",
       "      <td>1</td>\n",
       "      <td>0</td>\n",
       "      <td>0</td>\n",
       "      <td>0</td>\n",
       "      <td>0</td>\n",
       "    </tr>\n",
       "  </tbody>\n",
       "</table>\n",
       "</div>"
      ],
      "text/plain": [
       "      loan  derog  delinq   clage  clno  debtinc  job_Mgr  job_Office  \\\n",
       "153  18200    0.0     0.0  168.96  26.0   36.056        1           0   \n",
       "154  21700    0.0     0.0   64.51  24.0   38.079        1           0   \n",
       "155  34100    0.0     2.0  196.01  50.0   42.459        1           0   \n",
       "156   8400    0.0     2.0  131.47  22.0   29.200        1           0   \n",
       "157  17400    1.0     0.0   95.36  17.0   27.108        1           0   \n",
       "\n",
       "     job_Other  job_ProfEx  job_Sales  \n",
       "153          0           0          0  \n",
       "154          0           0          0  \n",
       "155          0           0          0  \n",
       "156          0           0          0  \n",
       "157          0           0          0  "
      ]
     },
     "execution_count": 230,
     "metadata": {},
     "output_type": "execute_result"
    }
   ],
   "source": [
    "y=df[\"bad\"]\n",
    "X_=df.drop([\"job\",\"reason\",\"bad\"],axis=1)\n",
    "X=pd.concat([X_,dms[[\"job_Mgr\",\"job_Office\",\"job_Other\",\"job_ProfEx\",\"job_Sales\",\"reason_DebtCon\"]]],axis=1)\n",
    "X=X.drop([\"mortdue\",\"reason_DebtCon\",\"yoj\",\"value\",\"ninq\"],axis=1)\n",
    "X_train, X_test, y_train,y_test=train_test_split(X,y,test_size=0.20,random_state=42)\n",
    "X.head()"
   ]
  },
  {
   "cell_type": "code",
   "execution_count": 231,
   "metadata": {},
   "outputs": [],
   "source": [
    "#!pip install catboost\n",
    "from catboost import CatBoostClassifier\n"
   ]
  },
  {
   "cell_type": "code",
   "execution_count": 232,
   "metadata": {
    "collapsed": true
   },
   "outputs": [
    {
     "name": "stdout",
     "output_type": "stream",
     "text": [
      "Learning rate set to 0.012639\n",
      "0:\tlearn: 0.6770390\ttotal: 57.8ms\tremaining: 57.8s\n",
      "1:\tlearn: 0.6620332\ttotal: 61.4ms\tremaining: 30.6s\n",
      "2:\tlearn: 0.6486283\ttotal: 64.6ms\tremaining: 21.5s\n",
      "3:\tlearn: 0.6353573\ttotal: 67.7ms\tremaining: 16.9s\n",
      "4:\tlearn: 0.6224700\ttotal: 71.2ms\tremaining: 14.2s\n",
      "5:\tlearn: 0.6093922\ttotal: 76.5ms\tremaining: 12.7s\n",
      "6:\tlearn: 0.5960442\ttotal: 85.1ms\tremaining: 12.1s\n",
      "7:\tlearn: 0.5862344\ttotal: 98.2ms\tremaining: 12.2s\n",
      "8:\tlearn: 0.5751007\ttotal: 102ms\tremaining: 11.2s\n",
      "9:\tlearn: 0.5640252\ttotal: 121ms\tremaining: 12s\n",
      "10:\tlearn: 0.5532308\ttotal: 140ms\tremaining: 12.6s\n",
      "11:\tlearn: 0.5433383\ttotal: 151ms\tremaining: 12.4s\n",
      "12:\tlearn: 0.5322255\ttotal: 156ms\tremaining: 11.8s\n",
      "13:\tlearn: 0.5224868\ttotal: 159ms\tremaining: 11.2s\n",
      "14:\tlearn: 0.5114299\ttotal: 162ms\tremaining: 10.6s\n",
      "15:\tlearn: 0.5025611\ttotal: 164ms\tremaining: 10.1s\n",
      "16:\tlearn: 0.4933795\ttotal: 167ms\tremaining: 9.65s\n",
      "17:\tlearn: 0.4839450\ttotal: 171ms\tremaining: 9.31s\n",
      "18:\tlearn: 0.4753623\ttotal: 175ms\tremaining: 9.01s\n",
      "19:\tlearn: 0.4667751\ttotal: 178ms\tremaining: 8.74s\n",
      "20:\tlearn: 0.4588177\ttotal: 181ms\tremaining: 8.45s\n",
      "21:\tlearn: 0.4514720\ttotal: 185ms\tremaining: 8.21s\n",
      "22:\tlearn: 0.4445168\ttotal: 187ms\tremaining: 7.96s\n",
      "23:\tlearn: 0.4374005\ttotal: 191ms\tremaining: 7.77s\n",
      "24:\tlearn: 0.4307342\ttotal: 194ms\tremaining: 7.56s\n",
      "25:\tlearn: 0.4240478\ttotal: 197ms\tremaining: 7.37s\n",
      "26:\tlearn: 0.4166063\ttotal: 200ms\tremaining: 7.19s\n",
      "27:\tlearn: 0.4103322\ttotal: 202ms\tremaining: 7.03s\n",
      "28:\tlearn: 0.4041999\ttotal: 205ms\tremaining: 6.87s\n",
      "29:\tlearn: 0.3981382\ttotal: 208ms\tremaining: 6.72s\n",
      "30:\tlearn: 0.3922713\ttotal: 211ms\tremaining: 6.58s\n",
      "31:\tlearn: 0.3869812\ttotal: 214ms\tremaining: 6.46s\n",
      "32:\tlearn: 0.3829537\ttotal: 216ms\tremaining: 6.32s\n",
      "33:\tlearn: 0.3775958\ttotal: 218ms\tremaining: 6.2s\n",
      "34:\tlearn: 0.3716352\ttotal: 221ms\tremaining: 6.09s\n",
      "35:\tlearn: 0.3675077\ttotal: 224ms\tremaining: 5.99s\n",
      "36:\tlearn: 0.3620710\ttotal: 226ms\tremaining: 5.89s\n",
      "37:\tlearn: 0.3576362\ttotal: 229ms\tremaining: 5.79s\n",
      "38:\tlearn: 0.3531146\ttotal: 232ms\tremaining: 5.71s\n",
      "39:\tlearn: 0.3491146\ttotal: 235ms\tremaining: 5.64s\n",
      "40:\tlearn: 0.3450549\ttotal: 238ms\tremaining: 5.57s\n",
      "41:\tlearn: 0.3404108\ttotal: 241ms\tremaining: 5.49s\n",
      "42:\tlearn: 0.3359630\ttotal: 243ms\tremaining: 5.41s\n",
      "43:\tlearn: 0.3318985\ttotal: 246ms\tremaining: 5.35s\n",
      "44:\tlearn: 0.3279513\ttotal: 249ms\tremaining: 5.29s\n",
      "45:\tlearn: 0.3248842\ttotal: 252ms\tremaining: 5.22s\n",
      "46:\tlearn: 0.3220030\ttotal: 254ms\tremaining: 5.15s\n",
      "47:\tlearn: 0.3187266\ttotal: 257ms\tremaining: 5.1s\n",
      "48:\tlearn: 0.3153529\ttotal: 260ms\tremaining: 5.04s\n",
      "49:\tlearn: 0.3121006\ttotal: 262ms\tremaining: 4.98s\n",
      "50:\tlearn: 0.3088800\ttotal: 265ms\tremaining: 4.93s\n",
      "51:\tlearn: 0.3056150\ttotal: 268ms\tremaining: 4.88s\n",
      "52:\tlearn: 0.3023213\ttotal: 270ms\tremaining: 4.83s\n",
      "53:\tlearn: 0.2999705\ttotal: 273ms\tremaining: 4.78s\n",
      "54:\tlearn: 0.2970519\ttotal: 276ms\tremaining: 4.74s\n",
      "55:\tlearn: 0.2944755\ttotal: 279ms\tremaining: 4.7s\n",
      "56:\tlearn: 0.2916705\ttotal: 282ms\tremaining: 4.66s\n",
      "57:\tlearn: 0.2890743\ttotal: 285ms\tremaining: 4.63s\n",
      "58:\tlearn: 0.2864971\ttotal: 287ms\tremaining: 4.58s\n",
      "59:\tlearn: 0.2842833\ttotal: 290ms\tremaining: 4.55s\n",
      "60:\tlearn: 0.2821389\ttotal: 293ms\tremaining: 4.51s\n",
      "61:\tlearn: 0.2797763\ttotal: 296ms\tremaining: 4.47s\n",
      "62:\tlearn: 0.2775900\ttotal: 300ms\tremaining: 4.46s\n",
      "63:\tlearn: 0.2753380\ttotal: 304ms\tremaining: 4.44s\n",
      "64:\tlearn: 0.2735387\ttotal: 306ms\tremaining: 4.41s\n",
      "65:\tlearn: 0.2717104\ttotal: 309ms\tremaining: 4.37s\n",
      "66:\tlearn: 0.2701451\ttotal: 312ms\tremaining: 4.34s\n",
      "67:\tlearn: 0.2683791\ttotal: 315ms\tremaining: 4.32s\n",
      "68:\tlearn: 0.2665036\ttotal: 318ms\tremaining: 4.29s\n",
      "69:\tlearn: 0.2648312\ttotal: 321ms\tremaining: 4.26s\n",
      "70:\tlearn: 0.2636170\ttotal: 322ms\tremaining: 4.22s\n",
      "71:\tlearn: 0.2619711\ttotal: 325ms\tremaining: 4.19s\n",
      "72:\tlearn: 0.2603324\ttotal: 328ms\tremaining: 4.16s\n",
      "73:\tlearn: 0.2585433\ttotal: 330ms\tremaining: 4.13s\n",
      "74:\tlearn: 0.2569813\ttotal: 333ms\tremaining: 4.1s\n",
      "75:\tlearn: 0.2553939\ttotal: 335ms\tremaining: 4.08s\n",
      "76:\tlearn: 0.2539679\ttotal: 338ms\tremaining: 4.05s\n",
      "77:\tlearn: 0.2529450\ttotal: 340ms\tremaining: 4.01s\n",
      "78:\tlearn: 0.2515351\ttotal: 342ms\tremaining: 3.99s\n",
      "79:\tlearn: 0.2498678\ttotal: 345ms\tremaining: 3.97s\n",
      "80:\tlearn: 0.2485458\ttotal: 348ms\tremaining: 3.94s\n",
      "81:\tlearn: 0.2473141\ttotal: 351ms\tremaining: 3.92s\n",
      "82:\tlearn: 0.2460747\ttotal: 353ms\tremaining: 3.9s\n",
      "83:\tlearn: 0.2447475\ttotal: 356ms\tremaining: 3.89s\n",
      "84:\tlearn: 0.2436907\ttotal: 359ms\tremaining: 3.87s\n",
      "85:\tlearn: 0.2425528\ttotal: 362ms\tremaining: 3.85s\n",
      "86:\tlearn: 0.2413902\ttotal: 365ms\tremaining: 3.83s\n",
      "87:\tlearn: 0.2399151\ttotal: 368ms\tremaining: 3.81s\n",
      "88:\tlearn: 0.2385317\ttotal: 370ms\tremaining: 3.79s\n",
      "89:\tlearn: 0.2370743\ttotal: 373ms\tremaining: 3.77s\n",
      "90:\tlearn: 0.2360905\ttotal: 376ms\tremaining: 3.75s\n",
      "91:\tlearn: 0.2346841\ttotal: 379ms\tremaining: 3.74s\n",
      "92:\tlearn: 0.2337310\ttotal: 382ms\tremaining: 3.72s\n",
      "93:\tlearn: 0.2327650\ttotal: 385ms\tremaining: 3.71s\n",
      "94:\tlearn: 0.2319097\ttotal: 387ms\tremaining: 3.69s\n",
      "95:\tlearn: 0.2308088\ttotal: 390ms\tremaining: 3.67s\n",
      "96:\tlearn: 0.2299121\ttotal: 393ms\tremaining: 3.66s\n",
      "97:\tlearn: 0.2289707\ttotal: 396ms\tremaining: 3.64s\n",
      "98:\tlearn: 0.2280878\ttotal: 399ms\tremaining: 3.63s\n",
      "99:\tlearn: 0.2273781\ttotal: 402ms\tremaining: 3.62s\n",
      "100:\tlearn: 0.2263084\ttotal: 405ms\tremaining: 3.6s\n",
      "101:\tlearn: 0.2255363\ttotal: 407ms\tremaining: 3.58s\n",
      "102:\tlearn: 0.2243926\ttotal: 410ms\tremaining: 3.57s\n",
      "103:\tlearn: 0.2235676\ttotal: 413ms\tremaining: 3.56s\n",
      "104:\tlearn: 0.2227458\ttotal: 420ms\tremaining: 3.58s\n",
      "105:\tlearn: 0.2218246\ttotal: 423ms\tremaining: 3.56s\n",
      "106:\tlearn: 0.2207847\ttotal: 426ms\tremaining: 3.55s\n",
      "107:\tlearn: 0.2200420\ttotal: 429ms\tremaining: 3.54s\n",
      "108:\tlearn: 0.2191568\ttotal: 432ms\tremaining: 3.53s\n",
      "109:\tlearn: 0.2185956\ttotal: 435ms\tremaining: 3.52s\n",
      "110:\tlearn: 0.2178435\ttotal: 438ms\tremaining: 3.51s\n",
      "111:\tlearn: 0.2171390\ttotal: 442ms\tremaining: 3.5s\n",
      "112:\tlearn: 0.2165368\ttotal: 445ms\tremaining: 3.49s\n",
      "113:\tlearn: 0.2153122\ttotal: 448ms\tremaining: 3.48s\n",
      "114:\tlearn: 0.2148108\ttotal: 451ms\tremaining: 3.47s\n",
      "115:\tlearn: 0.2141309\ttotal: 454ms\tremaining: 3.46s\n",
      "116:\tlearn: 0.2135050\ttotal: 457ms\tremaining: 3.45s\n",
      "117:\tlearn: 0.2127955\ttotal: 460ms\tremaining: 3.44s\n",
      "118:\tlearn: 0.2120575\ttotal: 463ms\tremaining: 3.43s\n",
      "119:\tlearn: 0.2114159\ttotal: 466ms\tremaining: 3.42s\n",
      "120:\tlearn: 0.2109147\ttotal: 469ms\tremaining: 3.41s\n",
      "121:\tlearn: 0.2101936\ttotal: 472ms\tremaining: 3.4s\n",
      "122:\tlearn: 0.2096417\ttotal: 476ms\tremaining: 3.39s\n",
      "123:\tlearn: 0.2091479\ttotal: 479ms\tremaining: 3.38s\n",
      "124:\tlearn: 0.2086509\ttotal: 482ms\tremaining: 3.37s\n",
      "125:\tlearn: 0.2077499\ttotal: 485ms\tremaining: 3.36s\n",
      "126:\tlearn: 0.2069965\ttotal: 488ms\tremaining: 3.35s\n",
      "127:\tlearn: 0.2063983\ttotal: 491ms\tremaining: 3.35s\n",
      "128:\tlearn: 0.2060419\ttotal: 495ms\tremaining: 3.34s\n",
      "129:\tlearn: 0.2056792\ttotal: 499ms\tremaining: 3.34s\n",
      "130:\tlearn: 0.2047761\ttotal: 502ms\tremaining: 3.33s\n",
      "131:\tlearn: 0.2040657\ttotal: 505ms\tremaining: 3.32s\n",
      "132:\tlearn: 0.2036347\ttotal: 511ms\tremaining: 3.33s\n",
      "133:\tlearn: 0.2032757\ttotal: 514ms\tremaining: 3.32s\n",
      "134:\tlearn: 0.2029162\ttotal: 516ms\tremaining: 3.31s\n",
      "135:\tlearn: 0.2023671\ttotal: 519ms\tremaining: 3.3s\n",
      "136:\tlearn: 0.2018588\ttotal: 522ms\tremaining: 3.29s\n",
      "137:\tlearn: 0.2010550\ttotal: 525ms\tremaining: 3.28s\n",
      "138:\tlearn: 0.2004272\ttotal: 528ms\tremaining: 3.27s\n",
      "139:\tlearn: 0.1999838\ttotal: 531ms\tremaining: 3.26s\n",
      "140:\tlearn: 0.1996688\ttotal: 534ms\tremaining: 3.25s\n",
      "141:\tlearn: 0.1991300\ttotal: 537ms\tremaining: 3.25s\n",
      "142:\tlearn: 0.1986626\ttotal: 540ms\tremaining: 3.24s\n",
      "143:\tlearn: 0.1982791\ttotal: 543ms\tremaining: 3.23s\n",
      "144:\tlearn: 0.1979275\ttotal: 546ms\tremaining: 3.22s\n",
      "145:\tlearn: 0.1975815\ttotal: 549ms\tremaining: 3.21s\n",
      "146:\tlearn: 0.1972395\ttotal: 552ms\tremaining: 3.2s\n",
      "147:\tlearn: 0.1969986\ttotal: 555ms\tremaining: 3.19s\n",
      "148:\tlearn: 0.1965004\ttotal: 558ms\tremaining: 3.19s\n",
      "149:\tlearn: 0.1960991\ttotal: 561ms\tremaining: 3.18s\n",
      "150:\tlearn: 0.1958071\ttotal: 564ms\tremaining: 3.17s\n",
      "151:\tlearn: 0.1952919\ttotal: 567ms\tremaining: 3.16s\n",
      "152:\tlearn: 0.1951307\ttotal: 570ms\tremaining: 3.15s\n",
      "153:\tlearn: 0.1946714\ttotal: 579ms\tremaining: 3.18s\n",
      "154:\tlearn: 0.1943694\ttotal: 584ms\tremaining: 3.18s\n",
      "155:\tlearn: 0.1941447\ttotal: 587ms\tremaining: 3.18s\n",
      "156:\tlearn: 0.1936766\ttotal: 590ms\tremaining: 3.17s\n",
      "157:\tlearn: 0.1934408\ttotal: 605ms\tremaining: 3.23s\n",
      "158:\tlearn: 0.1932313\ttotal: 608ms\tremaining: 3.22s\n",
      "159:\tlearn: 0.1928865\ttotal: 613ms\tremaining: 3.22s\n",
      "160:\tlearn: 0.1927401\ttotal: 615ms\tremaining: 3.21s\n",
      "161:\tlearn: 0.1923278\ttotal: 619ms\tremaining: 3.2s\n",
      "162:\tlearn: 0.1919201\ttotal: 622ms\tremaining: 3.19s\n",
      "163:\tlearn: 0.1916065\ttotal: 625ms\tremaining: 3.19s\n",
      "164:\tlearn: 0.1912856\ttotal: 628ms\tremaining: 3.18s\n",
      "165:\tlearn: 0.1909408\ttotal: 632ms\tremaining: 3.17s\n",
      "166:\tlearn: 0.1906628\ttotal: 635ms\tremaining: 3.17s\n",
      "167:\tlearn: 0.1904102\ttotal: 645ms\tremaining: 3.19s\n",
      "168:\tlearn: 0.1901948\ttotal: 648ms\tremaining: 3.19s\n",
      "169:\tlearn: 0.1897829\ttotal: 651ms\tremaining: 3.18s\n",
      "170:\tlearn: 0.1894089\ttotal: 655ms\tremaining: 3.17s\n",
      "171:\tlearn: 0.1890982\ttotal: 663ms\tremaining: 3.19s\n",
      "172:\tlearn: 0.1887354\ttotal: 667ms\tremaining: 3.19s\n",
      "173:\tlearn: 0.1884864\ttotal: 670ms\tremaining: 3.18s\n",
      "174:\tlearn: 0.1880424\ttotal: 674ms\tremaining: 3.18s\n",
      "175:\tlearn: 0.1876921\ttotal: 677ms\tremaining: 3.17s\n",
      "176:\tlearn: 0.1871522\ttotal: 680ms\tremaining: 3.16s\n",
      "177:\tlearn: 0.1868097\ttotal: 683ms\tremaining: 3.15s\n",
      "178:\tlearn: 0.1865174\ttotal: 686ms\tremaining: 3.15s\n",
      "179:\tlearn: 0.1863096\ttotal: 689ms\tremaining: 3.14s\n",
      "180:\tlearn: 0.1859882\ttotal: 692ms\tremaining: 3.13s\n",
      "181:\tlearn: 0.1857719\ttotal: 695ms\tremaining: 3.12s\n",
      "182:\tlearn: 0.1855148\ttotal: 702ms\tremaining: 3.13s\n",
      "183:\tlearn: 0.1852014\ttotal: 706ms\tremaining: 3.13s\n",
      "184:\tlearn: 0.1849140\ttotal: 708ms\tremaining: 3.12s\n",
      "185:\tlearn: 0.1847287\ttotal: 710ms\tremaining: 3.11s\n",
      "186:\tlearn: 0.1846224\ttotal: 712ms\tremaining: 3.09s\n",
      "187:\tlearn: 0.1842740\ttotal: 715ms\tremaining: 3.09s\n",
      "188:\tlearn: 0.1838081\ttotal: 718ms\tremaining: 3.08s\n",
      "189:\tlearn: 0.1835434\ttotal: 720ms\tremaining: 3.07s\n",
      "190:\tlearn: 0.1832063\ttotal: 722ms\tremaining: 3.06s\n",
      "191:\tlearn: 0.1830134\ttotal: 725ms\tremaining: 3.05s\n",
      "192:\tlearn: 0.1825713\ttotal: 727ms\tremaining: 3.04s\n",
      "193:\tlearn: 0.1820518\ttotal: 730ms\tremaining: 3.03s\n",
      "194:\tlearn: 0.1817139\ttotal: 732ms\tremaining: 3.02s\n",
      "195:\tlearn: 0.1815770\ttotal: 734ms\tremaining: 3.01s\n",
      "196:\tlearn: 0.1812236\ttotal: 736ms\tremaining: 3s\n",
      "197:\tlearn: 0.1808185\ttotal: 738ms\tremaining: 2.99s\n",
      "198:\tlearn: 0.1805776\ttotal: 741ms\tremaining: 2.98s\n",
      "199:\tlearn: 0.1803447\ttotal: 743ms\tremaining: 2.97s\n"
     ]
    },
    {
     "name": "stdout",
     "output_type": "stream",
     "text": [
      "200:\tlearn: 0.1800439\ttotal: 746ms\tremaining: 2.96s\n",
      "201:\tlearn: 0.1798861\ttotal: 749ms\tremaining: 2.96s\n",
      "202:\tlearn: 0.1797147\ttotal: 752ms\tremaining: 2.95s\n",
      "203:\tlearn: 0.1795180\ttotal: 755ms\tremaining: 2.95s\n",
      "204:\tlearn: 0.1793838\ttotal: 757ms\tremaining: 2.94s\n",
      "205:\tlearn: 0.1791390\ttotal: 760ms\tremaining: 2.93s\n",
      "206:\tlearn: 0.1789322\ttotal: 764ms\tremaining: 2.92s\n",
      "207:\tlearn: 0.1786297\ttotal: 767ms\tremaining: 2.92s\n",
      "208:\tlearn: 0.1782923\ttotal: 770ms\tremaining: 2.92s\n",
      "209:\tlearn: 0.1781464\ttotal: 774ms\tremaining: 2.91s\n",
      "210:\tlearn: 0.1780328\ttotal: 777ms\tremaining: 2.91s\n",
      "211:\tlearn: 0.1776955\ttotal: 780ms\tremaining: 2.9s\n",
      "212:\tlearn: 0.1775007\ttotal: 782ms\tremaining: 2.89s\n",
      "213:\tlearn: 0.1773836\ttotal: 784ms\tremaining: 2.88s\n",
      "214:\tlearn: 0.1771574\ttotal: 786ms\tremaining: 2.87s\n",
      "215:\tlearn: 0.1768125\ttotal: 790ms\tremaining: 2.87s\n",
      "216:\tlearn: 0.1766493\ttotal: 792ms\tremaining: 2.86s\n",
      "217:\tlearn: 0.1762997\ttotal: 794ms\tremaining: 2.85s\n",
      "218:\tlearn: 0.1760468\ttotal: 797ms\tremaining: 2.84s\n",
      "219:\tlearn: 0.1756576\ttotal: 799ms\tremaining: 2.83s\n",
      "220:\tlearn: 0.1754441\ttotal: 801ms\tremaining: 2.82s\n",
      "221:\tlearn: 0.1750777\ttotal: 803ms\tremaining: 2.81s\n",
      "222:\tlearn: 0.1748721\ttotal: 806ms\tremaining: 2.81s\n",
      "223:\tlearn: 0.1747433\ttotal: 808ms\tremaining: 2.8s\n",
      "224:\tlearn: 0.1745414\ttotal: 810ms\tremaining: 2.79s\n",
      "225:\tlearn: 0.1743301\ttotal: 812ms\tremaining: 2.78s\n",
      "226:\tlearn: 0.1741170\ttotal: 815ms\tremaining: 2.77s\n",
      "227:\tlearn: 0.1738680\ttotal: 817ms\tremaining: 2.77s\n",
      "228:\tlearn: 0.1735557\ttotal: 819ms\tremaining: 2.76s\n",
      "229:\tlearn: 0.1732347\ttotal: 821ms\tremaining: 2.75s\n",
      "230:\tlearn: 0.1730485\ttotal: 824ms\tremaining: 2.74s\n",
      "231:\tlearn: 0.1727688\ttotal: 826ms\tremaining: 2.73s\n",
      "232:\tlearn: 0.1725011\ttotal: 828ms\tremaining: 2.73s\n",
      "233:\tlearn: 0.1721157\ttotal: 830ms\tremaining: 2.72s\n",
      "234:\tlearn: 0.1717467\ttotal: 833ms\tremaining: 2.71s\n",
      "235:\tlearn: 0.1714652\ttotal: 835ms\tremaining: 2.7s\n",
      "236:\tlearn: 0.1713727\ttotal: 837ms\tremaining: 2.69s\n",
      "237:\tlearn: 0.1710391\ttotal: 839ms\tremaining: 2.69s\n",
      "238:\tlearn: 0.1708239\ttotal: 842ms\tremaining: 2.68s\n",
      "239:\tlearn: 0.1706512\ttotal: 844ms\tremaining: 2.67s\n",
      "240:\tlearn: 0.1704112\ttotal: 846ms\tremaining: 2.66s\n",
      "241:\tlearn: 0.1702873\ttotal: 849ms\tremaining: 2.66s\n",
      "242:\tlearn: 0.1699778\ttotal: 851ms\tremaining: 2.65s\n",
      "243:\tlearn: 0.1698822\ttotal: 853ms\tremaining: 2.64s\n",
      "244:\tlearn: 0.1696268\ttotal: 855ms\tremaining: 2.63s\n",
      "245:\tlearn: 0.1695123\ttotal: 858ms\tremaining: 2.63s\n",
      "246:\tlearn: 0.1692031\ttotal: 860ms\tremaining: 2.62s\n",
      "247:\tlearn: 0.1690845\ttotal: 862ms\tremaining: 2.61s\n",
      "248:\tlearn: 0.1689997\ttotal: 865ms\tremaining: 2.61s\n",
      "249:\tlearn: 0.1687534\ttotal: 867ms\tremaining: 2.6s\n",
      "250:\tlearn: 0.1686727\ttotal: 869ms\tremaining: 2.59s\n",
      "251:\tlearn: 0.1684408\ttotal: 872ms\tremaining: 2.59s\n",
      "252:\tlearn: 0.1682153\ttotal: 874ms\tremaining: 2.58s\n",
      "253:\tlearn: 0.1679132\ttotal: 876ms\tremaining: 2.57s\n",
      "254:\tlearn: 0.1677932\ttotal: 878ms\tremaining: 2.56s\n",
      "255:\tlearn: 0.1674380\ttotal: 880ms\tremaining: 2.56s\n",
      "256:\tlearn: 0.1670712\ttotal: 883ms\tremaining: 2.55s\n",
      "257:\tlearn: 0.1667506\ttotal: 885ms\tremaining: 2.54s\n",
      "258:\tlearn: 0.1665121\ttotal: 887ms\tremaining: 2.54s\n",
      "259:\tlearn: 0.1663244\ttotal: 890ms\tremaining: 2.53s\n",
      "260:\tlearn: 0.1662076\ttotal: 892ms\tremaining: 2.52s\n",
      "261:\tlearn: 0.1660054\ttotal: 894ms\tremaining: 2.52s\n",
      "262:\tlearn: 0.1656210\ttotal: 896ms\tremaining: 2.51s\n",
      "263:\tlearn: 0.1655094\ttotal: 899ms\tremaining: 2.5s\n",
      "264:\tlearn: 0.1650967\ttotal: 901ms\tremaining: 2.5s\n",
      "265:\tlearn: 0.1650047\ttotal: 903ms\tremaining: 2.49s\n",
      "266:\tlearn: 0.1645751\ttotal: 906ms\tremaining: 2.49s\n",
      "267:\tlearn: 0.1643740\ttotal: 909ms\tremaining: 2.48s\n",
      "268:\tlearn: 0.1641945\ttotal: 911ms\tremaining: 2.48s\n",
      "269:\tlearn: 0.1638655\ttotal: 914ms\tremaining: 2.47s\n",
      "270:\tlearn: 0.1636384\ttotal: 916ms\tremaining: 2.46s\n",
      "271:\tlearn: 0.1635016\ttotal: 919ms\tremaining: 2.46s\n",
      "272:\tlearn: 0.1632957\ttotal: 922ms\tremaining: 2.45s\n",
      "273:\tlearn: 0.1630346\ttotal: 925ms\tremaining: 2.45s\n",
      "274:\tlearn: 0.1628078\ttotal: 928ms\tremaining: 2.45s\n",
      "275:\tlearn: 0.1626976\ttotal: 932ms\tremaining: 2.44s\n",
      "276:\tlearn: 0.1625091\ttotal: 936ms\tremaining: 2.44s\n",
      "277:\tlearn: 0.1623712\ttotal: 939ms\tremaining: 2.44s\n",
      "278:\tlearn: 0.1622079\ttotal: 942ms\tremaining: 2.43s\n",
      "279:\tlearn: 0.1621461\ttotal: 952ms\tremaining: 2.45s\n",
      "280:\tlearn: 0.1620243\ttotal: 958ms\tremaining: 2.45s\n",
      "281:\tlearn: 0.1618125\ttotal: 964ms\tremaining: 2.45s\n",
      "282:\tlearn: 0.1617129\ttotal: 967ms\tremaining: 2.45s\n",
      "283:\tlearn: 0.1615461\ttotal: 975ms\tremaining: 2.46s\n",
      "284:\tlearn: 0.1611869\ttotal: 980ms\tremaining: 2.46s\n",
      "285:\tlearn: 0.1609731\ttotal: 984ms\tremaining: 2.46s\n",
      "286:\tlearn: 0.1607079\ttotal: 989ms\tremaining: 2.46s\n",
      "287:\tlearn: 0.1605511\ttotal: 993ms\tremaining: 2.46s\n",
      "288:\tlearn: 0.1603267\ttotal: 997ms\tremaining: 2.45s\n",
      "289:\tlearn: 0.1601027\ttotal: 1s\tremaining: 2.45s\n",
      "290:\tlearn: 0.1598752\ttotal: 1.01s\tremaining: 2.45s\n",
      "291:\tlearn: 0.1598202\ttotal: 1.01s\tremaining: 2.45s\n",
      "292:\tlearn: 0.1597674\ttotal: 1.01s\tremaining: 2.45s\n",
      "293:\tlearn: 0.1593576\ttotal: 1.02s\tremaining: 2.44s\n",
      "294:\tlearn: 0.1591778\ttotal: 1.05s\tremaining: 2.5s\n",
      "295:\tlearn: 0.1588624\ttotal: 1.05s\tremaining: 2.5s\n",
      "296:\tlearn: 0.1586601\ttotal: 1.07s\tremaining: 2.52s\n",
      "297:\tlearn: 0.1585552\ttotal: 1.08s\tremaining: 2.54s\n",
      "298:\tlearn: 0.1583854\ttotal: 1.09s\tremaining: 2.55s\n",
      "299:\tlearn: 0.1582008\ttotal: 1.09s\tremaining: 2.55s\n",
      "300:\tlearn: 0.1579876\ttotal: 1.1s\tremaining: 2.54s\n",
      "301:\tlearn: 0.1578281\ttotal: 1.1s\tremaining: 2.54s\n",
      "302:\tlearn: 0.1577987\ttotal: 1.1s\tremaining: 2.54s\n",
      "303:\tlearn: 0.1576477\ttotal: 1.11s\tremaining: 2.53s\n",
      "304:\tlearn: 0.1575308\ttotal: 1.11s\tremaining: 2.53s\n",
      "305:\tlearn: 0.1574232\ttotal: 1.11s\tremaining: 2.53s\n",
      "306:\tlearn: 0.1572916\ttotal: 1.12s\tremaining: 2.52s\n",
      "307:\tlearn: 0.1571554\ttotal: 1.12s\tremaining: 2.52s\n",
      "308:\tlearn: 0.1569297\ttotal: 1.12s\tremaining: 2.52s\n",
      "309:\tlearn: 0.1567421\ttotal: 1.13s\tremaining: 2.51s\n",
      "310:\tlearn: 0.1565089\ttotal: 1.14s\tremaining: 2.52s\n",
      "311:\tlearn: 0.1563324\ttotal: 1.14s\tremaining: 2.52s\n",
      "312:\tlearn: 0.1560920\ttotal: 1.14s\tremaining: 2.51s\n",
      "313:\tlearn: 0.1559346\ttotal: 1.15s\tremaining: 2.5s\n",
      "314:\tlearn: 0.1557625\ttotal: 1.15s\tremaining: 2.5s\n",
      "315:\tlearn: 0.1555183\ttotal: 1.15s\tremaining: 2.49s\n",
      "316:\tlearn: 0.1553686\ttotal: 1.15s\tremaining: 2.48s\n",
      "317:\tlearn: 0.1551370\ttotal: 1.16s\tremaining: 2.48s\n",
      "318:\tlearn: 0.1549410\ttotal: 1.16s\tremaining: 2.47s\n",
      "319:\tlearn: 0.1547349\ttotal: 1.16s\tremaining: 2.47s\n",
      "320:\tlearn: 0.1546382\ttotal: 1.16s\tremaining: 2.46s\n",
      "321:\tlearn: 0.1544678\ttotal: 1.17s\tremaining: 2.45s\n",
      "322:\tlearn: 0.1542735\ttotal: 1.17s\tremaining: 2.45s\n",
      "323:\tlearn: 0.1541443\ttotal: 1.17s\tremaining: 2.44s\n",
      "324:\tlearn: 0.1540221\ttotal: 1.17s\tremaining: 2.44s\n",
      "325:\tlearn: 0.1539060\ttotal: 1.18s\tremaining: 2.43s\n",
      "326:\tlearn: 0.1536858\ttotal: 1.18s\tremaining: 2.42s\n",
      "327:\tlearn: 0.1535745\ttotal: 1.18s\tremaining: 2.42s\n",
      "328:\tlearn: 0.1533980\ttotal: 1.18s\tremaining: 2.41s\n",
      "329:\tlearn: 0.1532605\ttotal: 1.18s\tremaining: 2.4s\n",
      "330:\tlearn: 0.1531294\ttotal: 1.19s\tremaining: 2.4s\n",
      "331:\tlearn: 0.1530835\ttotal: 1.19s\tremaining: 2.39s\n",
      "332:\tlearn: 0.1528969\ttotal: 1.19s\tremaining: 2.39s\n",
      "333:\tlearn: 0.1526343\ttotal: 1.19s\tremaining: 2.38s\n",
      "334:\tlearn: 0.1524174\ttotal: 1.2s\tremaining: 2.37s\n",
      "335:\tlearn: 0.1522885\ttotal: 1.2s\tremaining: 2.37s\n",
      "336:\tlearn: 0.1520997\ttotal: 1.2s\tremaining: 2.36s\n",
      "337:\tlearn: 0.1518622\ttotal: 1.2s\tremaining: 2.35s\n",
      "338:\tlearn: 0.1516622\ttotal: 1.21s\tremaining: 2.35s\n",
      "339:\tlearn: 0.1514857\ttotal: 1.21s\tremaining: 2.34s\n",
      "340:\tlearn: 0.1514157\ttotal: 1.21s\tremaining: 2.34s\n",
      "341:\tlearn: 0.1512037\ttotal: 1.21s\tremaining: 2.33s\n",
      "342:\tlearn: 0.1510147\ttotal: 1.21s\tremaining: 2.33s\n",
      "343:\tlearn: 0.1508548\ttotal: 1.22s\tremaining: 2.32s\n",
      "344:\tlearn: 0.1507383\ttotal: 1.22s\tremaining: 2.31s\n",
      "345:\tlearn: 0.1506610\ttotal: 1.22s\tremaining: 2.31s\n",
      "346:\tlearn: 0.1503925\ttotal: 1.22s\tremaining: 2.3s\n",
      "347:\tlearn: 0.1502910\ttotal: 1.23s\tremaining: 2.3s\n",
      "348:\tlearn: 0.1502447\ttotal: 1.23s\tremaining: 2.29s\n",
      "349:\tlearn: 0.1501738\ttotal: 1.23s\tremaining: 2.29s\n",
      "350:\tlearn: 0.1500598\ttotal: 1.24s\tremaining: 2.29s\n",
      "351:\tlearn: 0.1499136\ttotal: 1.24s\tremaining: 2.28s\n",
      "352:\tlearn: 0.1497558\ttotal: 1.24s\tremaining: 2.27s\n",
      "353:\tlearn: 0.1496740\ttotal: 1.24s\tremaining: 2.27s\n",
      "354:\tlearn: 0.1494384\ttotal: 1.25s\tremaining: 2.26s\n",
      "355:\tlearn: 0.1492999\ttotal: 1.25s\tremaining: 2.26s\n",
      "356:\tlearn: 0.1491198\ttotal: 1.25s\tremaining: 2.25s\n",
      "357:\tlearn: 0.1490219\ttotal: 1.25s\tremaining: 2.25s\n",
      "358:\tlearn: 0.1488576\ttotal: 1.26s\tremaining: 2.24s\n",
      "359:\tlearn: 0.1487042\ttotal: 1.26s\tremaining: 2.24s\n",
      "360:\tlearn: 0.1486186\ttotal: 1.26s\tremaining: 2.23s\n",
      "361:\tlearn: 0.1483980\ttotal: 1.26s\tremaining: 2.23s\n",
      "362:\tlearn: 0.1482186\ttotal: 1.26s\tremaining: 2.22s\n",
      "363:\tlearn: 0.1480562\ttotal: 1.27s\tremaining: 2.21s\n",
      "364:\tlearn: 0.1479478\ttotal: 1.27s\tremaining: 2.21s\n",
      "365:\tlearn: 0.1478636\ttotal: 1.27s\tremaining: 2.2s\n",
      "366:\tlearn: 0.1476010\ttotal: 1.27s\tremaining: 2.2s\n",
      "367:\tlearn: 0.1474805\ttotal: 1.28s\tremaining: 2.19s\n",
      "368:\tlearn: 0.1473344\ttotal: 1.28s\tremaining: 2.19s\n",
      "369:\tlearn: 0.1472947\ttotal: 1.28s\tremaining: 2.18s\n",
      "370:\tlearn: 0.1471716\ttotal: 1.28s\tremaining: 2.18s\n",
      "371:\tlearn: 0.1469395\ttotal: 1.29s\tremaining: 2.17s\n",
      "372:\tlearn: 0.1468130\ttotal: 1.29s\tremaining: 2.17s\n",
      "373:\tlearn: 0.1467464\ttotal: 1.29s\tremaining: 2.16s\n",
      "374:\tlearn: 0.1466898\ttotal: 1.29s\tremaining: 2.15s\n"
     ]
    },
    {
     "name": "stdout",
     "output_type": "stream",
     "text": [
      "375:\tlearn: 0.1464931\ttotal: 1.29s\tremaining: 2.15s\n",
      "376:\tlearn: 0.1464057\ttotal: 1.3s\tremaining: 2.15s\n",
      "377:\tlearn: 0.1463277\ttotal: 1.3s\tremaining: 2.14s\n",
      "378:\tlearn: 0.1461230\ttotal: 1.3s\tremaining: 2.14s\n",
      "379:\tlearn: 0.1459304\ttotal: 1.31s\tremaining: 2.13s\n",
      "380:\tlearn: 0.1458126\ttotal: 1.31s\tremaining: 2.13s\n",
      "381:\tlearn: 0.1456953\ttotal: 1.32s\tremaining: 2.13s\n",
      "382:\tlearn: 0.1455064\ttotal: 1.32s\tremaining: 2.13s\n",
      "383:\tlearn: 0.1453482\ttotal: 1.33s\tremaining: 2.13s\n",
      "384:\tlearn: 0.1452805\ttotal: 1.33s\tremaining: 2.12s\n",
      "385:\tlearn: 0.1451620\ttotal: 1.33s\tremaining: 2.12s\n",
      "386:\tlearn: 0.1449645\ttotal: 1.33s\tremaining: 2.12s\n",
      "387:\tlearn: 0.1447283\ttotal: 1.34s\tremaining: 2.11s\n",
      "388:\tlearn: 0.1446167\ttotal: 1.34s\tremaining: 2.1s\n",
      "389:\tlearn: 0.1445319\ttotal: 1.34s\tremaining: 2.1s\n",
      "390:\tlearn: 0.1443302\ttotal: 1.34s\tremaining: 2.09s\n",
      "391:\tlearn: 0.1442939\ttotal: 1.35s\tremaining: 2.09s\n",
      "392:\tlearn: 0.1441588\ttotal: 1.35s\tremaining: 2.08s\n",
      "393:\tlearn: 0.1440283\ttotal: 1.35s\tremaining: 2.08s\n",
      "394:\tlearn: 0.1438998\ttotal: 1.35s\tremaining: 2.07s\n",
      "395:\tlearn: 0.1437657\ttotal: 1.35s\tremaining: 2.07s\n",
      "396:\tlearn: 0.1436644\ttotal: 1.36s\tremaining: 2.06s\n",
      "397:\tlearn: 0.1435407\ttotal: 1.36s\tremaining: 2.06s\n",
      "398:\tlearn: 0.1434645\ttotal: 1.36s\tremaining: 2.05s\n",
      "399:\tlearn: 0.1433888\ttotal: 1.36s\tremaining: 2.05s\n",
      "400:\tlearn: 0.1433716\ttotal: 1.37s\tremaining: 2.04s\n",
      "401:\tlearn: 0.1432801\ttotal: 1.37s\tremaining: 2.04s\n",
      "402:\tlearn: 0.1431875\ttotal: 1.37s\tremaining: 2.03s\n",
      "403:\tlearn: 0.1430692\ttotal: 1.37s\tremaining: 2.03s\n",
      "404:\tlearn: 0.1430251\ttotal: 1.38s\tremaining: 2.02s\n",
      "405:\tlearn: 0.1428516\ttotal: 1.38s\tremaining: 2.02s\n",
      "406:\tlearn: 0.1427810\ttotal: 1.38s\tremaining: 2.01s\n",
      "407:\tlearn: 0.1425870\ttotal: 1.38s\tremaining: 2.01s\n",
      "408:\tlearn: 0.1423214\ttotal: 1.39s\tremaining: 2s\n",
      "409:\tlearn: 0.1422080\ttotal: 1.39s\tremaining: 2s\n",
      "410:\tlearn: 0.1420361\ttotal: 1.39s\tremaining: 1.99s\n",
      "411:\tlearn: 0.1420067\ttotal: 1.39s\tremaining: 1.99s\n",
      "412:\tlearn: 0.1418147\ttotal: 1.39s\tremaining: 1.98s\n",
      "413:\tlearn: 0.1416561\ttotal: 1.4s\tremaining: 1.98s\n",
      "414:\tlearn: 0.1416524\ttotal: 1.4s\tremaining: 1.97s\n",
      "415:\tlearn: 0.1415305\ttotal: 1.4s\tremaining: 1.97s\n",
      "416:\tlearn: 0.1414387\ttotal: 1.4s\tremaining: 1.96s\n",
      "417:\tlearn: 0.1412375\ttotal: 1.4s\tremaining: 1.96s\n",
      "418:\tlearn: 0.1411601\ttotal: 1.41s\tremaining: 1.95s\n",
      "419:\tlearn: 0.1410076\ttotal: 1.41s\tremaining: 1.95s\n",
      "420:\tlearn: 0.1408928\ttotal: 1.41s\tremaining: 1.94s\n",
      "421:\tlearn: 0.1406026\ttotal: 1.41s\tremaining: 1.94s\n",
      "422:\tlearn: 0.1404407\ttotal: 1.42s\tremaining: 1.93s\n",
      "423:\tlearn: 0.1403348\ttotal: 1.42s\tremaining: 1.93s\n",
      "424:\tlearn: 0.1403080\ttotal: 1.42s\tremaining: 1.92s\n",
      "425:\tlearn: 0.1401939\ttotal: 1.42s\tremaining: 1.92s\n",
      "426:\tlearn: 0.1401296\ttotal: 1.43s\tremaining: 1.91s\n",
      "427:\tlearn: 0.1398879\ttotal: 1.43s\tremaining: 1.91s\n",
      "428:\tlearn: 0.1397499\ttotal: 1.43s\tremaining: 1.9s\n",
      "429:\tlearn: 0.1396526\ttotal: 1.43s\tremaining: 1.9s\n",
      "430:\tlearn: 0.1395325\ttotal: 1.43s\tremaining: 1.89s\n",
      "431:\tlearn: 0.1394447\ttotal: 1.44s\tremaining: 1.89s\n",
      "432:\tlearn: 0.1392740\ttotal: 1.44s\tremaining: 1.88s\n",
      "433:\tlearn: 0.1391896\ttotal: 1.44s\tremaining: 1.88s\n",
      "434:\tlearn: 0.1390720\ttotal: 1.44s\tremaining: 1.87s\n",
      "435:\tlearn: 0.1388771\ttotal: 1.45s\tremaining: 1.87s\n",
      "436:\tlearn: 0.1388561\ttotal: 1.45s\tremaining: 1.86s\n",
      "437:\tlearn: 0.1387292\ttotal: 1.45s\tremaining: 1.86s\n",
      "438:\tlearn: 0.1385670\ttotal: 1.45s\tremaining: 1.85s\n",
      "439:\tlearn: 0.1384935\ttotal: 1.45s\tremaining: 1.85s\n",
      "440:\tlearn: 0.1383817\ttotal: 1.46s\tremaining: 1.85s\n",
      "441:\tlearn: 0.1382467\ttotal: 1.46s\tremaining: 1.84s\n",
      "442:\tlearn: 0.1380239\ttotal: 1.46s\tremaining: 1.84s\n",
      "443:\tlearn: 0.1379523\ttotal: 1.46s\tremaining: 1.83s\n",
      "444:\tlearn: 0.1377950\ttotal: 1.47s\tremaining: 1.83s\n",
      "445:\tlearn: 0.1376467\ttotal: 1.47s\tremaining: 1.82s\n",
      "446:\tlearn: 0.1374115\ttotal: 1.47s\tremaining: 1.82s\n",
      "447:\tlearn: 0.1372955\ttotal: 1.47s\tremaining: 1.81s\n",
      "448:\tlearn: 0.1371313\ttotal: 1.47s\tremaining: 1.81s\n",
      "449:\tlearn: 0.1370057\ttotal: 1.48s\tremaining: 1.81s\n",
      "450:\tlearn: 0.1368825\ttotal: 1.48s\tremaining: 1.8s\n",
      "451:\tlearn: 0.1367666\ttotal: 1.48s\tremaining: 1.8s\n",
      "452:\tlearn: 0.1366407\ttotal: 1.49s\tremaining: 1.8s\n",
      "453:\tlearn: 0.1364966\ttotal: 1.49s\tremaining: 1.79s\n",
      "454:\tlearn: 0.1364327\ttotal: 1.49s\tremaining: 1.79s\n",
      "455:\tlearn: 0.1362592\ttotal: 1.5s\tremaining: 1.78s\n",
      "456:\tlearn: 0.1362015\ttotal: 1.5s\tremaining: 1.78s\n",
      "457:\tlearn: 0.1361203\ttotal: 1.5s\tremaining: 1.78s\n",
      "458:\tlearn: 0.1359459\ttotal: 1.5s\tremaining: 1.77s\n",
      "459:\tlearn: 0.1358391\ttotal: 1.51s\tremaining: 1.77s\n",
      "460:\tlearn: 0.1356661\ttotal: 1.51s\tremaining: 1.76s\n",
      "461:\tlearn: 0.1354695\ttotal: 1.51s\tremaining: 1.76s\n",
      "462:\tlearn: 0.1353765\ttotal: 1.51s\tremaining: 1.76s\n",
      "463:\tlearn: 0.1352098\ttotal: 1.52s\tremaining: 1.75s\n",
      "464:\tlearn: 0.1349941\ttotal: 1.52s\tremaining: 1.75s\n",
      "465:\tlearn: 0.1347750\ttotal: 1.52s\tremaining: 1.74s\n",
      "466:\tlearn: 0.1346703\ttotal: 1.52s\tremaining: 1.74s\n",
      "467:\tlearn: 0.1345579\ttotal: 1.53s\tremaining: 1.74s\n",
      "468:\tlearn: 0.1344558\ttotal: 1.53s\tremaining: 1.73s\n",
      "469:\tlearn: 0.1343030\ttotal: 1.53s\tremaining: 1.73s\n",
      "470:\tlearn: 0.1341115\ttotal: 1.53s\tremaining: 1.72s\n",
      "471:\tlearn: 0.1339203\ttotal: 1.53s\tremaining: 1.72s\n",
      "472:\tlearn: 0.1337797\ttotal: 1.54s\tremaining: 1.71s\n",
      "473:\tlearn: 0.1336133\ttotal: 1.54s\tremaining: 1.71s\n",
      "474:\tlearn: 0.1335029\ttotal: 1.54s\tremaining: 1.71s\n",
      "475:\tlearn: 0.1333777\ttotal: 1.54s\tremaining: 1.7s\n",
      "476:\tlearn: 0.1332795\ttotal: 1.55s\tremaining: 1.7s\n",
      "477:\tlearn: 0.1331216\ttotal: 1.55s\tremaining: 1.69s\n",
      "478:\tlearn: 0.1329333\ttotal: 1.55s\tremaining: 1.69s\n",
      "479:\tlearn: 0.1328052\ttotal: 1.55s\tremaining: 1.68s\n",
      "480:\tlearn: 0.1327482\ttotal: 1.56s\tremaining: 1.68s\n",
      "481:\tlearn: 0.1327168\ttotal: 1.56s\tremaining: 1.68s\n",
      "482:\tlearn: 0.1326214\ttotal: 1.56s\tremaining: 1.67s\n",
      "483:\tlearn: 0.1324627\ttotal: 1.56s\tremaining: 1.67s\n",
      "484:\tlearn: 0.1322729\ttotal: 1.57s\tremaining: 1.66s\n",
      "485:\tlearn: 0.1320683\ttotal: 1.57s\tremaining: 1.66s\n",
      "486:\tlearn: 0.1319922\ttotal: 1.57s\tremaining: 1.65s\n",
      "487:\tlearn: 0.1317995\ttotal: 1.57s\tremaining: 1.65s\n",
      "488:\tlearn: 0.1316843\ttotal: 1.57s\tremaining: 1.65s\n",
      "489:\tlearn: 0.1316129\ttotal: 1.58s\tremaining: 1.64s\n",
      "490:\tlearn: 0.1313654\ttotal: 1.58s\tremaining: 1.64s\n",
      "491:\tlearn: 0.1312653\ttotal: 1.58s\tremaining: 1.63s\n",
      "492:\tlearn: 0.1311711\ttotal: 1.58s\tremaining: 1.63s\n",
      "493:\tlearn: 0.1309454\ttotal: 1.59s\tremaining: 1.63s\n",
      "494:\tlearn: 0.1308264\ttotal: 1.59s\tremaining: 1.62s\n",
      "495:\tlearn: 0.1306927\ttotal: 1.59s\tremaining: 1.62s\n",
      "496:\tlearn: 0.1305626\ttotal: 1.59s\tremaining: 1.61s\n",
      "497:\tlearn: 0.1305025\ttotal: 1.59s\tremaining: 1.61s\n",
      "498:\tlearn: 0.1303754\ttotal: 1.6s\tremaining: 1.6s\n",
      "499:\tlearn: 0.1302868\ttotal: 1.6s\tremaining: 1.6s\n",
      "500:\tlearn: 0.1300688\ttotal: 1.6s\tremaining: 1.6s\n",
      "501:\tlearn: 0.1298934\ttotal: 1.61s\tremaining: 1.59s\n",
      "502:\tlearn: 0.1297690\ttotal: 1.61s\tremaining: 1.59s\n",
      "503:\tlearn: 0.1296922\ttotal: 1.61s\tremaining: 1.58s\n",
      "504:\tlearn: 0.1295757\ttotal: 1.61s\tremaining: 1.58s\n",
      "505:\tlearn: 0.1293885\ttotal: 1.62s\tremaining: 1.58s\n",
      "506:\tlearn: 0.1293235\ttotal: 1.62s\tremaining: 1.57s\n",
      "507:\tlearn: 0.1291401\ttotal: 1.62s\tremaining: 1.57s\n",
      "508:\tlearn: 0.1290105\ttotal: 1.62s\tremaining: 1.57s\n",
      "509:\tlearn: 0.1288387\ttotal: 1.63s\tremaining: 1.56s\n",
      "510:\tlearn: 0.1287583\ttotal: 1.63s\tremaining: 1.56s\n",
      "511:\tlearn: 0.1286399\ttotal: 1.63s\tremaining: 1.55s\n",
      "512:\tlearn: 0.1285268\ttotal: 1.63s\tremaining: 1.55s\n",
      "513:\tlearn: 0.1283832\ttotal: 1.64s\tremaining: 1.55s\n",
      "514:\tlearn: 0.1283402\ttotal: 1.64s\tremaining: 1.54s\n",
      "515:\tlearn: 0.1282243\ttotal: 1.64s\tremaining: 1.54s\n",
      "516:\tlearn: 0.1281959\ttotal: 1.64s\tremaining: 1.53s\n",
      "517:\tlearn: 0.1280990\ttotal: 1.65s\tremaining: 1.53s\n",
      "518:\tlearn: 0.1279347\ttotal: 1.65s\tremaining: 1.53s\n",
      "519:\tlearn: 0.1278352\ttotal: 1.65s\tremaining: 1.52s\n",
      "520:\tlearn: 0.1277882\ttotal: 1.65s\tremaining: 1.52s\n",
      "521:\tlearn: 0.1275521\ttotal: 1.65s\tremaining: 1.51s\n",
      "522:\tlearn: 0.1274039\ttotal: 1.66s\tremaining: 1.51s\n",
      "523:\tlearn: 0.1272366\ttotal: 1.66s\tremaining: 1.51s\n",
      "524:\tlearn: 0.1271273\ttotal: 1.66s\tremaining: 1.51s\n",
      "525:\tlearn: 0.1270543\ttotal: 1.67s\tremaining: 1.5s\n",
      "526:\tlearn: 0.1270412\ttotal: 1.67s\tremaining: 1.5s\n",
      "527:\tlearn: 0.1268656\ttotal: 1.67s\tremaining: 1.5s\n",
      "528:\tlearn: 0.1268027\ttotal: 1.68s\tremaining: 1.49s\n",
      "529:\tlearn: 0.1266230\ttotal: 1.68s\tremaining: 1.49s\n",
      "530:\tlearn: 0.1264986\ttotal: 1.68s\tremaining: 1.49s\n",
      "531:\tlearn: 0.1262971\ttotal: 1.69s\tremaining: 1.48s\n",
      "532:\tlearn: 0.1260642\ttotal: 1.69s\tremaining: 1.48s\n",
      "533:\tlearn: 0.1260006\ttotal: 1.69s\tremaining: 1.48s\n",
      "534:\tlearn: 0.1258153\ttotal: 1.69s\tremaining: 1.47s\n",
      "535:\tlearn: 0.1257193\ttotal: 1.7s\tremaining: 1.47s\n",
      "536:\tlearn: 0.1256388\ttotal: 1.7s\tremaining: 1.46s\n",
      "537:\tlearn: 0.1255865\ttotal: 1.7s\tremaining: 1.46s\n",
      "538:\tlearn: 0.1254038\ttotal: 1.7s\tremaining: 1.46s\n",
      "539:\tlearn: 0.1253526\ttotal: 1.71s\tremaining: 1.45s\n",
      "540:\tlearn: 0.1252789\ttotal: 1.71s\tremaining: 1.45s\n",
      "541:\tlearn: 0.1252159\ttotal: 1.71s\tremaining: 1.44s\n",
      "542:\tlearn: 0.1250278\ttotal: 1.71s\tremaining: 1.44s\n",
      "543:\tlearn: 0.1248531\ttotal: 1.71s\tremaining: 1.44s\n",
      "544:\tlearn: 0.1247493\ttotal: 1.72s\tremaining: 1.43s\n",
      "545:\tlearn: 0.1246568\ttotal: 1.72s\tremaining: 1.43s\n",
      "546:\tlearn: 0.1245827\ttotal: 1.72s\tremaining: 1.43s\n",
      "547:\tlearn: 0.1245445\ttotal: 1.72s\tremaining: 1.42s\n",
      "548:\tlearn: 0.1244129\ttotal: 1.73s\tremaining: 1.42s\n",
      "549:\tlearn: 0.1243762\ttotal: 1.73s\tremaining: 1.41s\n",
      "550:\tlearn: 0.1242998\ttotal: 1.73s\tremaining: 1.41s\n",
      "551:\tlearn: 0.1240544\ttotal: 1.73s\tremaining: 1.41s\n",
      "552:\tlearn: 0.1239347\ttotal: 1.73s\tremaining: 1.4s\n",
      "553:\tlearn: 0.1239139\ttotal: 1.74s\tremaining: 1.4s\n",
      "554:\tlearn: 0.1237437\ttotal: 1.74s\tremaining: 1.39s\n",
      "555:\tlearn: 0.1236400\ttotal: 1.74s\tremaining: 1.39s\n",
      "556:\tlearn: 0.1235337\ttotal: 1.75s\tremaining: 1.39s\n",
      "557:\tlearn: 0.1234471\ttotal: 1.75s\tremaining: 1.39s\n",
      "558:\tlearn: 0.1231168\ttotal: 1.75s\tremaining: 1.38s\n",
      "559:\tlearn: 0.1230040\ttotal: 1.76s\tremaining: 1.38s\n",
      "560:\tlearn: 0.1229755\ttotal: 1.76s\tremaining: 1.38s\n",
      "561:\tlearn: 0.1227937\ttotal: 1.76s\tremaining: 1.38s\n",
      "562:\tlearn: 0.1225365\ttotal: 1.77s\tremaining: 1.37s\n",
      "563:\tlearn: 0.1223503\ttotal: 1.77s\tremaining: 1.37s\n",
      "564:\tlearn: 0.1222445\ttotal: 1.77s\tremaining: 1.37s\n",
      "565:\tlearn: 0.1221734\ttotal: 1.78s\tremaining: 1.36s\n",
      "566:\tlearn: 0.1219648\ttotal: 1.78s\tremaining: 1.36s\n",
      "567:\tlearn: 0.1218911\ttotal: 1.78s\tremaining: 1.36s\n",
      "568:\tlearn: 0.1217008\ttotal: 1.79s\tremaining: 1.35s\n",
      "569:\tlearn: 0.1216295\ttotal: 1.79s\tremaining: 1.35s\n",
      "570:\tlearn: 0.1216048\ttotal: 1.79s\tremaining: 1.35s\n",
      "571:\tlearn: 0.1214876\ttotal: 1.8s\tremaining: 1.34s\n",
      "572:\tlearn: 0.1213978\ttotal: 1.8s\tremaining: 1.34s\n",
      "573:\tlearn: 0.1212509\ttotal: 1.8s\tremaining: 1.34s\n",
      "574:\tlearn: 0.1210786\ttotal: 1.8s\tremaining: 1.33s\n",
      "575:\tlearn: 0.1208072\ttotal: 1.81s\tremaining: 1.33s\n",
      "576:\tlearn: 0.1207383\ttotal: 1.81s\tremaining: 1.33s\n",
      "577:\tlearn: 0.1206237\ttotal: 1.81s\tremaining: 1.32s\n",
      "578:\tlearn: 0.1204110\ttotal: 1.82s\tremaining: 1.32s\n",
      "579:\tlearn: 0.1203483\ttotal: 1.82s\tremaining: 1.32s\n",
      "580:\tlearn: 0.1202682\ttotal: 1.82s\tremaining: 1.31s\n",
      "581:\tlearn: 0.1202033\ttotal: 1.82s\tremaining: 1.31s\n",
      "582:\tlearn: 0.1201585\ttotal: 1.83s\tremaining: 1.31s\n",
      "583:\tlearn: 0.1200179\ttotal: 1.83s\tremaining: 1.3s\n",
      "584:\tlearn: 0.1199541\ttotal: 1.83s\tremaining: 1.3s\n",
      "585:\tlearn: 0.1199370\ttotal: 1.83s\tremaining: 1.29s\n",
      "586:\tlearn: 0.1198074\ttotal: 1.83s\tremaining: 1.29s\n"
     ]
    },
    {
     "name": "stdout",
     "output_type": "stream",
     "text": [
      "587:\tlearn: 0.1196501\ttotal: 1.84s\tremaining: 1.29s\n",
      "588:\tlearn: 0.1195328\ttotal: 1.84s\tremaining: 1.28s\n",
      "589:\tlearn: 0.1194456\ttotal: 1.84s\tremaining: 1.28s\n",
      "590:\tlearn: 0.1193936\ttotal: 1.85s\tremaining: 1.28s\n",
      "591:\tlearn: 0.1192751\ttotal: 1.85s\tremaining: 1.28s\n",
      "592:\tlearn: 0.1191850\ttotal: 1.85s\tremaining: 1.27s\n",
      "593:\tlearn: 0.1188979\ttotal: 1.86s\tremaining: 1.27s\n",
      "594:\tlearn: 0.1188638\ttotal: 1.86s\tremaining: 1.27s\n",
      "595:\tlearn: 0.1187855\ttotal: 1.86s\tremaining: 1.26s\n",
      "596:\tlearn: 0.1187531\ttotal: 1.87s\tremaining: 1.26s\n",
      "597:\tlearn: 0.1185992\ttotal: 1.87s\tremaining: 1.26s\n",
      "598:\tlearn: 0.1185591\ttotal: 1.87s\tremaining: 1.25s\n",
      "599:\tlearn: 0.1184260\ttotal: 1.88s\tremaining: 1.25s\n",
      "600:\tlearn: 0.1183947\ttotal: 1.88s\tremaining: 1.25s\n",
      "601:\tlearn: 0.1183616\ttotal: 1.88s\tremaining: 1.24s\n",
      "602:\tlearn: 0.1182415\ttotal: 1.88s\tremaining: 1.24s\n",
      "603:\tlearn: 0.1181836\ttotal: 1.89s\tremaining: 1.24s\n",
      "604:\tlearn: 0.1180393\ttotal: 1.89s\tremaining: 1.23s\n",
      "605:\tlearn: 0.1179861\ttotal: 1.89s\tremaining: 1.23s\n",
      "606:\tlearn: 0.1178489\ttotal: 1.89s\tremaining: 1.22s\n",
      "607:\tlearn: 0.1176836\ttotal: 1.89s\tremaining: 1.22s\n",
      "608:\tlearn: 0.1175860\ttotal: 1.9s\tremaining: 1.22s\n",
      "609:\tlearn: 0.1175369\ttotal: 1.9s\tremaining: 1.21s\n",
      "610:\tlearn: 0.1175106\ttotal: 1.9s\tremaining: 1.21s\n",
      "611:\tlearn: 0.1174226\ttotal: 1.9s\tremaining: 1.21s\n",
      "612:\tlearn: 0.1174164\ttotal: 1.9s\tremaining: 1.2s\n",
      "613:\tlearn: 0.1173754\ttotal: 1.91s\tremaining: 1.2s\n",
      "614:\tlearn: 0.1172539\ttotal: 1.91s\tremaining: 1.2s\n",
      "615:\tlearn: 0.1171706\ttotal: 1.91s\tremaining: 1.19s\n",
      "616:\tlearn: 0.1171427\ttotal: 1.91s\tremaining: 1.19s\n",
      "617:\tlearn: 0.1170466\ttotal: 1.92s\tremaining: 1.18s\n",
      "618:\tlearn: 0.1169972\ttotal: 1.92s\tremaining: 1.18s\n",
      "619:\tlearn: 0.1169686\ttotal: 1.92s\tremaining: 1.18s\n",
      "620:\tlearn: 0.1168981\ttotal: 1.93s\tremaining: 1.18s\n",
      "621:\tlearn: 0.1167420\ttotal: 1.93s\tremaining: 1.17s\n",
      "622:\tlearn: 0.1167157\ttotal: 1.93s\tremaining: 1.17s\n",
      "623:\tlearn: 0.1165891\ttotal: 1.93s\tremaining: 1.17s\n",
      "624:\tlearn: 0.1164316\ttotal: 1.94s\tremaining: 1.16s\n",
      "625:\tlearn: 0.1163463\ttotal: 1.94s\tremaining: 1.16s\n",
      "626:\tlearn: 0.1162396\ttotal: 1.94s\tremaining: 1.16s\n",
      "627:\tlearn: 0.1160839\ttotal: 1.94s\tremaining: 1.15s\n",
      "628:\tlearn: 0.1159266\ttotal: 1.95s\tremaining: 1.15s\n",
      "629:\tlearn: 0.1158016\ttotal: 1.95s\tremaining: 1.14s\n",
      "630:\tlearn: 0.1156490\ttotal: 1.95s\tremaining: 1.14s\n",
      "631:\tlearn: 0.1155723\ttotal: 1.95s\tremaining: 1.14s\n",
      "632:\tlearn: 0.1154952\ttotal: 1.96s\tremaining: 1.13s\n",
      "633:\tlearn: 0.1153770\ttotal: 1.96s\tremaining: 1.13s\n",
      "634:\tlearn: 0.1152077\ttotal: 1.96s\tremaining: 1.13s\n",
      "635:\tlearn: 0.1150357\ttotal: 1.96s\tremaining: 1.12s\n",
      "636:\tlearn: 0.1149747\ttotal: 1.97s\tremaining: 1.12s\n",
      "637:\tlearn: 0.1148584\ttotal: 1.97s\tremaining: 1.12s\n",
      "638:\tlearn: 0.1147157\ttotal: 1.97s\tremaining: 1.11s\n",
      "639:\tlearn: 0.1144259\ttotal: 1.97s\tremaining: 1.11s\n",
      "640:\tlearn: 0.1143014\ttotal: 1.97s\tremaining: 1.1s\n",
      "641:\tlearn: 0.1142417\ttotal: 1.98s\tremaining: 1.1s\n",
      "642:\tlearn: 0.1141076\ttotal: 1.98s\tremaining: 1.1s\n",
      "643:\tlearn: 0.1140637\ttotal: 1.98s\tremaining: 1.09s\n",
      "644:\tlearn: 0.1140172\ttotal: 1.98s\tremaining: 1.09s\n",
      "645:\tlearn: 0.1139634\ttotal: 1.99s\tremaining: 1.09s\n",
      "646:\tlearn: 0.1138151\ttotal: 1.99s\tremaining: 1.08s\n",
      "647:\tlearn: 0.1137409\ttotal: 1.99s\tremaining: 1.08s\n",
      "648:\tlearn: 0.1137006\ttotal: 1.99s\tremaining: 1.08s\n",
      "649:\tlearn: 0.1136780\ttotal: 1.99s\tremaining: 1.07s\n",
      "650:\tlearn: 0.1135376\ttotal: 2s\tremaining: 1.07s\n",
      "651:\tlearn: 0.1135078\ttotal: 2s\tremaining: 1.07s\n",
      "652:\tlearn: 0.1133813\ttotal: 2s\tremaining: 1.06s\n",
      "653:\tlearn: 0.1132978\ttotal: 2s\tremaining: 1.06s\n",
      "654:\tlearn: 0.1131610\ttotal: 2s\tremaining: 1.06s\n",
      "655:\tlearn: 0.1131013\ttotal: 2.01s\tremaining: 1.05s\n",
      "656:\tlearn: 0.1130597\ttotal: 2.01s\tremaining: 1.05s\n",
      "657:\tlearn: 0.1129808\ttotal: 2.01s\tremaining: 1.05s\n",
      "658:\tlearn: 0.1128930\ttotal: 2.02s\tremaining: 1.04s\n",
      "659:\tlearn: 0.1127703\ttotal: 2.02s\tremaining: 1.04s\n",
      "660:\tlearn: 0.1126480\ttotal: 2.02s\tremaining: 1.04s\n",
      "661:\tlearn: 0.1124926\ttotal: 2.02s\tremaining: 1.03s\n",
      "662:\tlearn: 0.1124805\ttotal: 2.03s\tremaining: 1.03s\n",
      "663:\tlearn: 0.1123679\ttotal: 2.03s\tremaining: 1.03s\n",
      "664:\tlearn: 0.1123055\ttotal: 2.04s\tremaining: 1.02s\n",
      "665:\tlearn: 0.1122353\ttotal: 2.04s\tremaining: 1.02s\n",
      "666:\tlearn: 0.1121722\ttotal: 2.04s\tremaining: 1.02s\n",
      "667:\tlearn: 0.1120709\ttotal: 2.04s\tremaining: 1.02s\n",
      "668:\tlearn: 0.1118291\ttotal: 2.05s\tremaining: 1.01s\n",
      "669:\tlearn: 0.1117285\ttotal: 2.05s\tremaining: 1.01s\n",
      "670:\tlearn: 0.1116298\ttotal: 2.05s\tremaining: 1.01s\n",
      "671:\tlearn: 0.1114829\ttotal: 2.06s\tremaining: 1s\n",
      "672:\tlearn: 0.1113953\ttotal: 2.06s\tremaining: 1s\n",
      "673:\tlearn: 0.1113125\ttotal: 2.06s\tremaining: 997ms\n",
      "674:\tlearn: 0.1111946\ttotal: 2.06s\tremaining: 993ms\n",
      "675:\tlearn: 0.1111715\ttotal: 2.06s\tremaining: 990ms\n",
      "676:\tlearn: 0.1111207\ttotal: 2.07s\tremaining: 987ms\n",
      "677:\tlearn: 0.1110921\ttotal: 2.07s\tremaining: 984ms\n",
      "678:\tlearn: 0.1108705\ttotal: 2.07s\tremaining: 981ms\n",
      "679:\tlearn: 0.1108196\ttotal: 2.08s\tremaining: 977ms\n",
      "680:\tlearn: 0.1106412\ttotal: 2.08s\tremaining: 974ms\n",
      "681:\tlearn: 0.1105732\ttotal: 2.08s\tremaining: 970ms\n",
      "682:\tlearn: 0.1104673\ttotal: 2.08s\tremaining: 967ms\n",
      "683:\tlearn: 0.1104176\ttotal: 2.08s\tremaining: 964ms\n",
      "684:\tlearn: 0.1103840\ttotal: 2.09s\tremaining: 960ms\n",
      "685:\tlearn: 0.1102227\ttotal: 2.09s\tremaining: 957ms\n",
      "686:\tlearn: 0.1100841\ttotal: 2.09s\tremaining: 953ms\n",
      "687:\tlearn: 0.1100130\ttotal: 2.1s\tremaining: 950ms\n",
      "688:\tlearn: 0.1098549\ttotal: 2.1s\tremaining: 947ms\n",
      "689:\tlearn: 0.1097574\ttotal: 2.1s\tremaining: 943ms\n",
      "690:\tlearn: 0.1095794\ttotal: 2.1s\tremaining: 940ms\n",
      "691:\tlearn: 0.1093915\ttotal: 2.1s\tremaining: 937ms\n",
      "692:\tlearn: 0.1092675\ttotal: 2.11s\tremaining: 933ms\n",
      "693:\tlearn: 0.1092423\ttotal: 2.11s\tremaining: 930ms\n",
      "694:\tlearn: 0.1090414\ttotal: 2.11s\tremaining: 926ms\n",
      "695:\tlearn: 0.1089398\ttotal: 2.11s\tremaining: 923ms\n",
      "696:\tlearn: 0.1088658\ttotal: 2.12s\tremaining: 920ms\n",
      "697:\tlearn: 0.1087751\ttotal: 2.12s\tremaining: 916ms\n",
      "698:\tlearn: 0.1086994\ttotal: 2.12s\tremaining: 913ms\n",
      "699:\tlearn: 0.1086066\ttotal: 2.12s\tremaining: 910ms\n",
      "700:\tlearn: 0.1085407\ttotal: 2.12s\tremaining: 906ms\n",
      "701:\tlearn: 0.1084201\ttotal: 2.13s\tremaining: 903ms\n",
      "702:\tlearn: 0.1083797\ttotal: 2.13s\tremaining: 900ms\n",
      "703:\tlearn: 0.1083152\ttotal: 2.13s\tremaining: 896ms\n",
      "704:\tlearn: 0.1082524\ttotal: 2.13s\tremaining: 893ms\n",
      "705:\tlearn: 0.1082254\ttotal: 2.14s\tremaining: 890ms\n",
      "706:\tlearn: 0.1081112\ttotal: 2.14s\tremaining: 886ms\n",
      "707:\tlearn: 0.1080648\ttotal: 2.14s\tremaining: 883ms\n",
      "708:\tlearn: 0.1079614\ttotal: 2.14s\tremaining: 880ms\n",
      "709:\tlearn: 0.1079170\ttotal: 2.15s\tremaining: 876ms\n",
      "710:\tlearn: 0.1078049\ttotal: 2.15s\tremaining: 873ms\n",
      "711:\tlearn: 0.1076645\ttotal: 2.15s\tremaining: 870ms\n",
      "712:\tlearn: 0.1074771\ttotal: 2.15s\tremaining: 867ms\n",
      "713:\tlearn: 0.1074383\ttotal: 2.15s\tremaining: 863ms\n",
      "714:\tlearn: 0.1073496\ttotal: 2.16s\tremaining: 860ms\n",
      "715:\tlearn: 0.1072940\ttotal: 2.16s\tremaining: 857ms\n",
      "716:\tlearn: 0.1072671\ttotal: 2.16s\tremaining: 853ms\n",
      "717:\tlearn: 0.1070338\ttotal: 2.16s\tremaining: 850ms\n",
      "718:\tlearn: 0.1069680\ttotal: 2.17s\tremaining: 847ms\n",
      "719:\tlearn: 0.1069484\ttotal: 2.17s\tremaining: 843ms\n",
      "720:\tlearn: 0.1068201\ttotal: 2.17s\tremaining: 840ms\n",
      "721:\tlearn: 0.1067184\ttotal: 2.17s\tremaining: 837ms\n",
      "722:\tlearn: 0.1066940\ttotal: 2.17s\tremaining: 834ms\n",
      "723:\tlearn: 0.1065041\ttotal: 2.18s\tremaining: 830ms\n",
      "724:\tlearn: 0.1064734\ttotal: 2.18s\tremaining: 827ms\n",
      "725:\tlearn: 0.1061922\ttotal: 2.18s\tremaining: 824ms\n",
      "726:\tlearn: 0.1060611\ttotal: 2.18s\tremaining: 820ms\n",
      "727:\tlearn: 0.1059556\ttotal: 2.19s\tremaining: 817ms\n",
      "728:\tlearn: 0.1059216\ttotal: 2.19s\tremaining: 814ms\n",
      "729:\tlearn: 0.1058823\ttotal: 2.19s\tremaining: 811ms\n",
      "730:\tlearn: 0.1058485\ttotal: 2.19s\tremaining: 808ms\n",
      "731:\tlearn: 0.1058160\ttotal: 2.2s\tremaining: 805ms\n",
      "732:\tlearn: 0.1057561\ttotal: 2.2s\tremaining: 801ms\n",
      "733:\tlearn: 0.1056757\ttotal: 2.2s\tremaining: 798ms\n",
      "734:\tlearn: 0.1055787\ttotal: 2.21s\tremaining: 795ms\n",
      "735:\tlearn: 0.1054167\ttotal: 2.21s\tremaining: 792ms\n",
      "736:\tlearn: 0.1053746\ttotal: 2.21s\tremaining: 789ms\n",
      "737:\tlearn: 0.1052359\ttotal: 2.21s\tremaining: 786ms\n",
      "738:\tlearn: 0.1051492\ttotal: 2.22s\tremaining: 783ms\n",
      "739:\tlearn: 0.1050667\ttotal: 2.22s\tremaining: 780ms\n",
      "740:\tlearn: 0.1049949\ttotal: 2.22s\tremaining: 777ms\n",
      "741:\tlearn: 0.1049738\ttotal: 2.23s\tremaining: 774ms\n",
      "742:\tlearn: 0.1049034\ttotal: 2.23s\tremaining: 771ms\n",
      "743:\tlearn: 0.1048162\ttotal: 2.23s\tremaining: 768ms\n",
      "744:\tlearn: 0.1047439\ttotal: 2.23s\tremaining: 765ms\n",
      "745:\tlearn: 0.1047171\ttotal: 2.24s\tremaining: 762ms\n",
      "746:\tlearn: 0.1046191\ttotal: 2.24s\tremaining: 758ms\n",
      "747:\tlearn: 0.1044693\ttotal: 2.24s\tremaining: 755ms\n",
      "748:\tlearn: 0.1043797\ttotal: 2.24s\tremaining: 752ms\n",
      "749:\tlearn: 0.1043051\ttotal: 2.25s\tremaining: 749ms\n",
      "750:\tlearn: 0.1041603\ttotal: 2.25s\tremaining: 746ms\n",
      "751:\tlearn: 0.1040195\ttotal: 2.25s\tremaining: 743ms\n",
      "752:\tlearn: 0.1038767\ttotal: 2.25s\tremaining: 739ms\n",
      "753:\tlearn: 0.1038056\ttotal: 2.26s\tremaining: 736ms\n",
      "754:\tlearn: 0.1036959\ttotal: 2.26s\tremaining: 733ms\n",
      "755:\tlearn: 0.1035355\ttotal: 2.26s\tremaining: 730ms\n",
      "756:\tlearn: 0.1034236\ttotal: 2.26s\tremaining: 727ms\n",
      "757:\tlearn: 0.1033149\ttotal: 2.27s\tremaining: 723ms\n",
      "758:\tlearn: 0.1031733\ttotal: 2.27s\tremaining: 720ms\n",
      "759:\tlearn: 0.1030999\ttotal: 2.27s\tremaining: 717ms\n",
      "760:\tlearn: 0.1029801\ttotal: 2.27s\tremaining: 714ms\n",
      "761:\tlearn: 0.1029175\ttotal: 2.27s\tremaining: 711ms\n",
      "762:\tlearn: 0.1028689\ttotal: 2.28s\tremaining: 707ms\n",
      "763:\tlearn: 0.1027445\ttotal: 2.28s\tremaining: 704ms\n",
      "764:\tlearn: 0.1026613\ttotal: 2.28s\tremaining: 701ms\n",
      "765:\tlearn: 0.1025248\ttotal: 2.28s\tremaining: 698ms\n",
      "766:\tlearn: 0.1023741\ttotal: 2.29s\tremaining: 695ms\n",
      "767:\tlearn: 0.1022711\ttotal: 2.29s\tremaining: 691ms\n",
      "768:\tlearn: 0.1021342\ttotal: 2.29s\tremaining: 688ms\n",
      "769:\tlearn: 0.1020307\ttotal: 2.29s\tremaining: 685ms\n",
      "770:\tlearn: 0.1017720\ttotal: 2.29s\tremaining: 682ms\n",
      "771:\tlearn: 0.1017148\ttotal: 2.3s\tremaining: 679ms\n",
      "772:\tlearn: 0.1015643\ttotal: 2.3s\tremaining: 676ms\n",
      "773:\tlearn: 0.1014239\ttotal: 2.3s\tremaining: 672ms\n",
      "774:\tlearn: 0.1013456\ttotal: 2.31s\tremaining: 669ms\n",
      "775:\tlearn: 0.1012030\ttotal: 2.31s\tremaining: 666ms\n",
      "776:\tlearn: 0.1010851\ttotal: 2.31s\tremaining: 663ms\n",
      "777:\tlearn: 0.1009839\ttotal: 2.31s\tremaining: 660ms\n",
      "778:\tlearn: 0.1009200\ttotal: 2.31s\tremaining: 656ms\n",
      "779:\tlearn: 0.1008218\ttotal: 2.32s\tremaining: 653ms\n",
      "780:\tlearn: 0.1007492\ttotal: 2.32s\tremaining: 650ms\n",
      "781:\tlearn: 0.1006180\ttotal: 2.32s\tremaining: 647ms\n",
      "782:\tlearn: 0.1005068\ttotal: 2.32s\tremaining: 644ms\n",
      "783:\tlearn: 0.1003996\ttotal: 2.33s\tremaining: 641ms\n",
      "784:\tlearn: 0.1003514\ttotal: 2.33s\tremaining: 638ms\n",
      "785:\tlearn: 0.1003077\ttotal: 2.33s\tremaining: 635ms\n",
      "786:\tlearn: 0.1002864\ttotal: 2.33s\tremaining: 632ms\n",
      "787:\tlearn: 0.1000358\ttotal: 2.33s\tremaining: 628ms\n",
      "788:\tlearn: 0.0999020\ttotal: 2.34s\tremaining: 625ms\n",
      "789:\tlearn: 0.0998044\ttotal: 2.34s\tremaining: 622ms\n",
      "790:\tlearn: 0.0997104\ttotal: 2.34s\tremaining: 619ms\n",
      "791:\tlearn: 0.0996754\ttotal: 2.35s\tremaining: 616ms\n",
      "792:\tlearn: 0.0995215\ttotal: 2.35s\tremaining: 613ms\n",
      "793:\tlearn: 0.0992738\ttotal: 2.35s\tremaining: 610ms\n",
      "794:\tlearn: 0.0991389\ttotal: 2.35s\tremaining: 607ms\n",
      "795:\tlearn: 0.0990884\ttotal: 2.36s\tremaining: 604ms\n",
      "796:\tlearn: 0.0990208\ttotal: 2.36s\tremaining: 601ms\n",
      "797:\tlearn: 0.0989690\ttotal: 2.36s\tremaining: 598ms\n",
      "798:\tlearn: 0.0988046\ttotal: 2.36s\tremaining: 595ms\n",
      "799:\tlearn: 0.0986571\ttotal: 2.37s\tremaining: 591ms\n",
      "800:\tlearn: 0.0985825\ttotal: 2.37s\tremaining: 588ms\n",
      "801:\tlearn: 0.0984552\ttotal: 2.37s\tremaining: 585ms\n",
      "802:\tlearn: 0.0983200\ttotal: 2.37s\tremaining: 582ms\n",
      "803:\tlearn: 0.0982109\ttotal: 2.38s\tremaining: 579ms\n",
      "804:\tlearn: 0.0981391\ttotal: 2.38s\tremaining: 576ms\n"
     ]
    },
    {
     "name": "stdout",
     "output_type": "stream",
     "text": [
      "805:\tlearn: 0.0980349\ttotal: 2.38s\tremaining: 573ms\n",
      "806:\tlearn: 0.0978459\ttotal: 2.39s\tremaining: 571ms\n",
      "807:\tlearn: 0.0978064\ttotal: 2.39s\tremaining: 569ms\n",
      "808:\tlearn: 0.0977370\ttotal: 2.4s\tremaining: 566ms\n",
      "809:\tlearn: 0.0976112\ttotal: 2.4s\tremaining: 563ms\n",
      "810:\tlearn: 0.0975793\ttotal: 2.4s\tremaining: 560ms\n",
      "811:\tlearn: 0.0975048\ttotal: 2.41s\tremaining: 557ms\n",
      "812:\tlearn: 0.0974423\ttotal: 2.41s\tremaining: 554ms\n",
      "813:\tlearn: 0.0973922\ttotal: 2.41s\tremaining: 552ms\n",
      "814:\tlearn: 0.0973286\ttotal: 2.42s\tremaining: 549ms\n",
      "815:\tlearn: 0.0973152\ttotal: 2.42s\tremaining: 546ms\n",
      "816:\tlearn: 0.0971283\ttotal: 2.42s\tremaining: 543ms\n",
      "817:\tlearn: 0.0970404\ttotal: 2.43s\tremaining: 540ms\n",
      "818:\tlearn: 0.0969927\ttotal: 2.43s\tremaining: 538ms\n",
      "819:\tlearn: 0.0968640\ttotal: 2.43s\tremaining: 534ms\n",
      "820:\tlearn: 0.0968016\ttotal: 2.44s\tremaining: 531ms\n",
      "821:\tlearn: 0.0966370\ttotal: 2.44s\tremaining: 528ms\n",
      "822:\tlearn: 0.0965030\ttotal: 2.44s\tremaining: 525ms\n",
      "823:\tlearn: 0.0964642\ttotal: 2.45s\tremaining: 523ms\n",
      "824:\tlearn: 0.0963822\ttotal: 2.45s\tremaining: 520ms\n",
      "825:\tlearn: 0.0961955\ttotal: 2.45s\tremaining: 517ms\n",
      "826:\tlearn: 0.0961190\ttotal: 2.46s\tremaining: 514ms\n",
      "827:\tlearn: 0.0960337\ttotal: 2.46s\tremaining: 511ms\n",
      "828:\tlearn: 0.0959180\ttotal: 2.47s\tremaining: 509ms\n",
      "829:\tlearn: 0.0958602\ttotal: 2.49s\tremaining: 510ms\n",
      "830:\tlearn: 0.0957352\ttotal: 2.49s\tremaining: 507ms\n",
      "831:\tlearn: 0.0956428\ttotal: 2.5s\tremaining: 504ms\n",
      "832:\tlearn: 0.0956068\ttotal: 2.5s\tremaining: 502ms\n",
      "833:\tlearn: 0.0954417\ttotal: 2.51s\tremaining: 499ms\n",
      "834:\tlearn: 0.0953579\ttotal: 2.51s\tremaining: 496ms\n",
      "835:\tlearn: 0.0952405\ttotal: 2.52s\tremaining: 493ms\n",
      "836:\tlearn: 0.0951620\ttotal: 2.52s\tremaining: 490ms\n",
      "837:\tlearn: 0.0950139\ttotal: 2.52s\tremaining: 487ms\n",
      "838:\tlearn: 0.0949592\ttotal: 2.52s\tremaining: 484ms\n",
      "839:\tlearn: 0.0948759\ttotal: 2.53s\tremaining: 481ms\n",
      "840:\tlearn: 0.0948103\ttotal: 2.53s\tremaining: 478ms\n",
      "841:\tlearn: 0.0947797\ttotal: 2.53s\tremaining: 475ms\n",
      "842:\tlearn: 0.0947061\ttotal: 2.54s\tremaining: 472ms\n",
      "843:\tlearn: 0.0946090\ttotal: 2.54s\tremaining: 469ms\n",
      "844:\tlearn: 0.0945595\ttotal: 2.54s\tremaining: 466ms\n",
      "845:\tlearn: 0.0944628\ttotal: 2.54s\tremaining: 463ms\n",
      "846:\tlearn: 0.0944222\ttotal: 2.55s\tremaining: 460ms\n",
      "847:\tlearn: 0.0943336\ttotal: 2.55s\tremaining: 457ms\n",
      "848:\tlearn: 0.0942434\ttotal: 2.55s\tremaining: 454ms\n",
      "849:\tlearn: 0.0941975\ttotal: 2.56s\tremaining: 451ms\n",
      "850:\tlearn: 0.0940953\ttotal: 2.56s\tremaining: 448ms\n",
      "851:\tlearn: 0.0940462\ttotal: 2.56s\tremaining: 446ms\n",
      "852:\tlearn: 0.0939835\ttotal: 2.57s\tremaining: 443ms\n",
      "853:\tlearn: 0.0939152\ttotal: 2.58s\tremaining: 442ms\n",
      "854:\tlearn: 0.0937574\ttotal: 2.59s\tremaining: 439ms\n",
      "855:\tlearn: 0.0935305\ttotal: 2.59s\tremaining: 436ms\n",
      "856:\tlearn: 0.0934242\ttotal: 2.6s\tremaining: 433ms\n",
      "857:\tlearn: 0.0933532\ttotal: 2.6s\tremaining: 430ms\n",
      "858:\tlearn: 0.0932665\ttotal: 2.6s\tremaining: 427ms\n",
      "859:\tlearn: 0.0931042\ttotal: 2.61s\tremaining: 425ms\n",
      "860:\tlearn: 0.0930328\ttotal: 2.61s\tremaining: 422ms\n",
      "861:\tlearn: 0.0929701\ttotal: 2.62s\tremaining: 419ms\n",
      "862:\tlearn: 0.0928588\ttotal: 2.62s\tremaining: 416ms\n",
      "863:\tlearn: 0.0927939\ttotal: 2.63s\tremaining: 413ms\n",
      "864:\tlearn: 0.0927061\ttotal: 2.63s\tremaining: 410ms\n",
      "865:\tlearn: 0.0926799\ttotal: 2.63s\tremaining: 407ms\n",
      "866:\tlearn: 0.0925193\ttotal: 2.64s\tremaining: 405ms\n",
      "867:\tlearn: 0.0924317\ttotal: 2.64s\tremaining: 402ms\n",
      "868:\tlearn: 0.0923659\ttotal: 2.65s\tremaining: 399ms\n",
      "869:\tlearn: 0.0922096\ttotal: 2.65s\tremaining: 396ms\n",
      "870:\tlearn: 0.0921383\ttotal: 2.65s\tremaining: 393ms\n",
      "871:\tlearn: 0.0920786\ttotal: 2.65s\tremaining: 390ms\n",
      "872:\tlearn: 0.0920404\ttotal: 2.66s\tremaining: 387ms\n",
      "873:\tlearn: 0.0919790\ttotal: 2.66s\tremaining: 384ms\n",
      "874:\tlearn: 0.0919052\ttotal: 2.67s\tremaining: 381ms\n",
      "875:\tlearn: 0.0916870\ttotal: 2.67s\tremaining: 378ms\n",
      "876:\tlearn: 0.0915973\ttotal: 2.67s\tremaining: 375ms\n",
      "877:\tlearn: 0.0915067\ttotal: 2.68s\tremaining: 372ms\n",
      "878:\tlearn: 0.0914125\ttotal: 2.68s\tremaining: 369ms\n",
      "879:\tlearn: 0.0913588\ttotal: 2.68s\tremaining: 366ms\n",
      "880:\tlearn: 0.0913032\ttotal: 2.69s\tremaining: 363ms\n",
      "881:\tlearn: 0.0912356\ttotal: 2.69s\tremaining: 360ms\n",
      "882:\tlearn: 0.0912028\ttotal: 2.69s\tremaining: 357ms\n",
      "883:\tlearn: 0.0911745\ttotal: 2.7s\tremaining: 354ms\n",
      "884:\tlearn: 0.0909631\ttotal: 2.7s\tremaining: 351ms\n",
      "885:\tlearn: 0.0908842\ttotal: 2.71s\tremaining: 348ms\n",
      "886:\tlearn: 0.0907545\ttotal: 2.71s\tremaining: 345ms\n",
      "887:\tlearn: 0.0906750\ttotal: 2.71s\tremaining: 342ms\n",
      "888:\tlearn: 0.0905634\ttotal: 2.71s\tremaining: 339ms\n",
      "889:\tlearn: 0.0905396\ttotal: 2.72s\tremaining: 336ms\n",
      "890:\tlearn: 0.0904369\ttotal: 2.72s\tremaining: 333ms\n",
      "891:\tlearn: 0.0903529\ttotal: 2.72s\tremaining: 330ms\n",
      "892:\tlearn: 0.0902379\ttotal: 2.73s\tremaining: 327ms\n",
      "893:\tlearn: 0.0901512\ttotal: 2.73s\tremaining: 324ms\n",
      "894:\tlearn: 0.0901231\ttotal: 2.73s\tremaining: 321ms\n",
      "895:\tlearn: 0.0900885\ttotal: 2.73s\tremaining: 317ms\n",
      "896:\tlearn: 0.0898823\ttotal: 2.74s\tremaining: 314ms\n",
      "897:\tlearn: 0.0897451\ttotal: 2.74s\tremaining: 311ms\n",
      "898:\tlearn: 0.0897104\ttotal: 2.74s\tremaining: 308ms\n",
      "899:\tlearn: 0.0896582\ttotal: 2.75s\tremaining: 305ms\n",
      "900:\tlearn: 0.0895994\ttotal: 2.75s\tremaining: 302ms\n",
      "901:\tlearn: 0.0894808\ttotal: 2.75s\tremaining: 299ms\n",
      "902:\tlearn: 0.0894235\ttotal: 2.76s\tremaining: 296ms\n",
      "903:\tlearn: 0.0893462\ttotal: 2.76s\tremaining: 293ms\n",
      "904:\tlearn: 0.0892883\ttotal: 2.76s\tremaining: 290ms\n",
      "905:\tlearn: 0.0891553\ttotal: 2.77s\tremaining: 287ms\n",
      "906:\tlearn: 0.0890779\ttotal: 2.77s\tremaining: 284ms\n",
      "907:\tlearn: 0.0890275\ttotal: 2.77s\tremaining: 281ms\n",
      "908:\tlearn: 0.0890021\ttotal: 2.78s\tremaining: 278ms\n",
      "909:\tlearn: 0.0889200\ttotal: 2.78s\tremaining: 275ms\n",
      "910:\tlearn: 0.0888551\ttotal: 2.79s\tremaining: 272ms\n",
      "911:\tlearn: 0.0886895\ttotal: 2.79s\tremaining: 269ms\n",
      "912:\tlearn: 0.0886235\ttotal: 2.79s\tremaining: 266ms\n",
      "913:\tlearn: 0.0885191\ttotal: 2.79s\tremaining: 263ms\n",
      "914:\tlearn: 0.0884497\ttotal: 2.8s\tremaining: 260ms\n",
      "915:\tlearn: 0.0884124\ttotal: 2.8s\tremaining: 257ms\n",
      "916:\tlearn: 0.0883779\ttotal: 2.8s\tremaining: 254ms\n",
      "917:\tlearn: 0.0883295\ttotal: 2.81s\tremaining: 251ms\n",
      "918:\tlearn: 0.0882815\ttotal: 2.81s\tremaining: 248ms\n",
      "919:\tlearn: 0.0881522\ttotal: 2.81s\tremaining: 245ms\n",
      "920:\tlearn: 0.0881049\ttotal: 2.82s\tremaining: 242ms\n",
      "921:\tlearn: 0.0880483\ttotal: 2.82s\tremaining: 238ms\n",
      "922:\tlearn: 0.0879947\ttotal: 2.82s\tremaining: 235ms\n",
      "923:\tlearn: 0.0879152\ttotal: 2.82s\tremaining: 232ms\n",
      "924:\tlearn: 0.0878893\ttotal: 2.83s\tremaining: 229ms\n",
      "925:\tlearn: 0.0878052\ttotal: 2.83s\tremaining: 226ms\n",
      "926:\tlearn: 0.0877534\ttotal: 2.83s\tremaining: 223ms\n",
      "927:\tlearn: 0.0876140\ttotal: 2.83s\tremaining: 220ms\n",
      "928:\tlearn: 0.0875836\ttotal: 2.84s\tremaining: 217ms\n",
      "929:\tlearn: 0.0874398\ttotal: 2.84s\tremaining: 214ms\n",
      "930:\tlearn: 0.0873800\ttotal: 2.84s\tremaining: 211ms\n",
      "931:\tlearn: 0.0873418\ttotal: 2.85s\tremaining: 208ms\n",
      "932:\tlearn: 0.0873001\ttotal: 2.85s\tremaining: 205ms\n",
      "933:\tlearn: 0.0872123\ttotal: 2.85s\tremaining: 201ms\n",
      "934:\tlearn: 0.0871786\ttotal: 2.85s\tremaining: 198ms\n",
      "935:\tlearn: 0.0870105\ttotal: 2.86s\tremaining: 195ms\n",
      "936:\tlearn: 0.0869344\ttotal: 2.86s\tremaining: 192ms\n",
      "937:\tlearn: 0.0868306\ttotal: 2.86s\tremaining: 189ms\n",
      "938:\tlearn: 0.0867846\ttotal: 2.86s\tremaining: 186ms\n",
      "939:\tlearn: 0.0866829\ttotal: 2.87s\tremaining: 183ms\n",
      "940:\tlearn: 0.0864846\ttotal: 2.87s\tremaining: 180ms\n",
      "941:\tlearn: 0.0864043\ttotal: 2.87s\tremaining: 177ms\n",
      "942:\tlearn: 0.0863563\ttotal: 2.87s\tremaining: 174ms\n",
      "943:\tlearn: 0.0863004\ttotal: 2.88s\tremaining: 171ms\n",
      "944:\tlearn: 0.0862463\ttotal: 2.88s\tremaining: 167ms\n",
      "945:\tlearn: 0.0862012\ttotal: 2.88s\tremaining: 164ms\n",
      "946:\tlearn: 0.0861330\ttotal: 2.88s\tremaining: 161ms\n",
      "947:\tlearn: 0.0860689\ttotal: 2.88s\tremaining: 158ms\n",
      "948:\tlearn: 0.0859838\ttotal: 2.89s\tremaining: 155ms\n",
      "949:\tlearn: 0.0859372\ttotal: 2.89s\tremaining: 152ms\n",
      "950:\tlearn: 0.0857975\ttotal: 2.89s\tremaining: 149ms\n",
      "951:\tlearn: 0.0857764\ttotal: 2.89s\tremaining: 146ms\n",
      "952:\tlearn: 0.0857301\ttotal: 2.9s\tremaining: 143ms\n",
      "953:\tlearn: 0.0857030\ttotal: 2.9s\tremaining: 140ms\n",
      "954:\tlearn: 0.0856468\ttotal: 2.9s\tremaining: 137ms\n",
      "955:\tlearn: 0.0855597\ttotal: 2.9s\tremaining: 134ms\n",
      "956:\tlearn: 0.0854925\ttotal: 2.9s\tremaining: 131ms\n",
      "957:\tlearn: 0.0854343\ttotal: 2.91s\tremaining: 127ms\n",
      "958:\tlearn: 0.0853184\ttotal: 2.91s\tremaining: 124ms\n",
      "959:\tlearn: 0.0852201\ttotal: 2.91s\tremaining: 121ms\n",
      "960:\tlearn: 0.0851385\ttotal: 2.91s\tremaining: 118ms\n",
      "961:\tlearn: 0.0850158\ttotal: 2.92s\tremaining: 115ms\n",
      "962:\tlearn: 0.0849587\ttotal: 2.92s\tremaining: 112ms\n"
     ]
    },
    {
     "name": "stdout",
     "output_type": "stream",
     "text": [
      "963:\tlearn: 0.0849287\ttotal: 2.92s\tremaining: 109ms\n",
      "964:\tlearn: 0.0848713\ttotal: 2.92s\tremaining: 106ms\n",
      "965:\tlearn: 0.0848297\ttotal: 2.93s\tremaining: 103ms\n",
      "966:\tlearn: 0.0847216\ttotal: 2.94s\tremaining: 100ms\n",
      "967:\tlearn: 0.0846284\ttotal: 2.95s\tremaining: 97.6ms\n",
      "968:\tlearn: 0.0845099\ttotal: 2.96s\tremaining: 94.6ms\n",
      "969:\tlearn: 0.0844837\ttotal: 2.96s\tremaining: 91.6ms\n",
      "970:\tlearn: 0.0844377\ttotal: 2.96s\tremaining: 88.5ms\n",
      "971:\tlearn: 0.0843842\ttotal: 2.97s\tremaining: 85.5ms\n",
      "972:\tlearn: 0.0843138\ttotal: 2.97s\tremaining: 82.4ms\n",
      "973:\tlearn: 0.0842512\ttotal: 2.97s\tremaining: 79.4ms\n",
      "974:\tlearn: 0.0842045\ttotal: 2.98s\tremaining: 76.3ms\n",
      "975:\tlearn: 0.0840722\ttotal: 2.98s\tremaining: 73.3ms\n",
      "976:\tlearn: 0.0840528\ttotal: 2.98s\tremaining: 70.3ms\n",
      "977:\tlearn: 0.0839335\ttotal: 2.99s\tremaining: 67.2ms\n",
      "978:\tlearn: 0.0838872\ttotal: 2.99s\tremaining: 64.2ms\n",
      "979:\tlearn: 0.0838256\ttotal: 3s\tremaining: 61.1ms\n",
      "980:\tlearn: 0.0837826\ttotal: 3s\tremaining: 58.1ms\n",
      "981:\tlearn: 0.0836858\ttotal: 3s\tremaining: 55ms\n",
      "982:\tlearn: 0.0836381\ttotal: 3.01s\tremaining: 52ms\n",
      "983:\tlearn: 0.0835826\ttotal: 3.01s\tremaining: 48.9ms\n",
      "984:\tlearn: 0.0835236\ttotal: 3.01s\tremaining: 45.9ms\n",
      "985:\tlearn: 0.0834109\ttotal: 3.02s\tremaining: 42.8ms\n",
      "986:\tlearn: 0.0832814\ttotal: 3.02s\tremaining: 39.8ms\n",
      "987:\tlearn: 0.0831524\ttotal: 3.02s\tremaining: 36.7ms\n",
      "988:\tlearn: 0.0830622\ttotal: 3.02s\tremaining: 33.6ms\n",
      "989:\tlearn: 0.0829749\ttotal: 3.03s\tremaining: 30.6ms\n",
      "990:\tlearn: 0.0828440\ttotal: 3.03s\tremaining: 27.5ms\n",
      "991:\tlearn: 0.0827425\ttotal: 3.03s\tremaining: 24.5ms\n",
      "992:\tlearn: 0.0826282\ttotal: 3.04s\tremaining: 21.4ms\n",
      "993:\tlearn: 0.0825600\ttotal: 3.04s\tremaining: 18.3ms\n",
      "994:\tlearn: 0.0825237\ttotal: 3.04s\tremaining: 15.3ms\n",
      "995:\tlearn: 0.0824535\ttotal: 3.04s\tremaining: 12.2ms\n",
      "996:\tlearn: 0.0823586\ttotal: 3.05s\tremaining: 9.17ms\n",
      "997:\tlearn: 0.0823389\ttotal: 3.05s\tremaining: 6.12ms\n",
      "998:\tlearn: 0.0823034\ttotal: 3.05s\tremaining: 3.06ms\n",
      "999:\tlearn: 0.0822116\ttotal: 3.06s\tremaining: 0us\n"
     ]
    }
   ],
   "source": [
    "cat_model = CatBoostClassifier().fit(X_train, y_train)\n"
   ]
  },
  {
   "cell_type": "code",
   "execution_count": 233,
   "metadata": {},
   "outputs": [
    {
     "data": {
      "text/plain": [
       "0.9455445544554455"
      ]
     },
     "execution_count": 233,
     "metadata": {},
     "output_type": "execute_result"
    }
   ],
   "source": [
    "y_pred = cat_model.predict(X_test)\n",
    "accuracy_score(y_test, y_pred)\n"
   ]
  },
  {
   "cell_type": "code",
   "execution_count": 234,
   "metadata": {},
   "outputs": [
    {
     "name": "stdout",
     "output_type": "stream",
     "text": [
      "              precision    recall  f1-score   support\n",
      "\n",
      "           0       0.95      1.00      0.97       369\n",
      "           1       0.93      0.40      0.56        35\n",
      "\n",
      "    accuracy                           0.95       404\n",
      "   macro avg       0.94      0.70      0.77       404\n",
      "weighted avg       0.94      0.95      0.94       404\n",
      "\n"
     ]
    }
   ],
   "source": [
    "print(classification_report(y_test, y_pred))"
   ]
  },
  {
   "cell_type": "markdown",
   "metadata": {},
   "source": [
    "## CatBoost - Model Tuning"
   ]
  },
  {
   "cell_type": "code",
   "execution_count": 179,
   "metadata": {},
   "outputs": [],
   "source": [
    "?cat_model"
   ]
  },
  {
   "cell_type": "code",
   "execution_count": 180,
   "metadata": {},
   "outputs": [],
   "source": [
    "catb_params = {\n",
    "    'iterations': [200,500],\n",
    "    'learning_rate': [0.01,0.05, 0.1],\n",
    "    'depth': [3,5,8] }"
   ]
  },
  {
   "cell_type": "code",
   "execution_count": 181,
   "metadata": {
    "collapsed": true
   },
   "outputs": [
    {
     "name": "stdout",
     "output_type": "stream",
     "text": [
      "Fitting 5 folds for each of 18 candidates, totalling 90 fits\n"
     ]
    },
    {
     "name": "stderr",
     "output_type": "stream",
     "text": [
      "[Parallel(n_jobs=-1)]: Using backend LokyBackend with 4 concurrent workers.\n",
      "[Parallel(n_jobs=-1)]: Done  33 tasks      | elapsed:   16.7s\n",
      "[Parallel(n_jobs=-1)]: Done  90 out of  90 | elapsed:  1.1min finished\n"
     ]
    },
    {
     "name": "stdout",
     "output_type": "stream",
     "text": [
      "0:\tlearn: 0.6430771\ttotal: 1.57ms\tremaining: 313ms\n",
      "1:\tlearn: 0.5999331\ttotal: 3.23ms\tremaining: 320ms\n",
      "2:\tlearn: 0.5602754\ttotal: 4.71ms\tremaining: 309ms\n",
      "3:\tlearn: 0.5202965\ttotal: 6.22ms\tremaining: 305ms\n",
      "4:\tlearn: 0.4841062\ttotal: 7.71ms\tremaining: 301ms\n",
      "5:\tlearn: 0.4549359\ttotal: 9.33ms\tremaining: 302ms\n",
      "6:\tlearn: 0.4284667\ttotal: 10.8ms\tremaining: 298ms\n",
      "7:\tlearn: 0.4068946\ttotal: 12.3ms\tremaining: 295ms\n",
      "8:\tlearn: 0.3858661\ttotal: 13.8ms\tremaining: 293ms\n",
      "9:\tlearn: 0.3684492\ttotal: 15.3ms\tremaining: 291ms\n",
      "10:\tlearn: 0.3516451\ttotal: 16.8ms\tremaining: 289ms\n",
      "11:\tlearn: 0.3391897\ttotal: 18.3ms\tremaining: 287ms\n",
      "12:\tlearn: 0.3260796\ttotal: 19.8ms\tremaining: 285ms\n",
      "13:\tlearn: 0.3146368\ttotal: 21.3ms\tremaining: 283ms\n",
      "14:\tlearn: 0.3034741\ttotal: 23.1ms\tremaining: 285ms\n",
      "15:\tlearn: 0.2945966\ttotal: 25.1ms\tremaining: 288ms\n",
      "16:\tlearn: 0.2866798\ttotal: 27ms\tremaining: 290ms\n",
      "17:\tlearn: 0.2798869\ttotal: 28.5ms\tremaining: 288ms\n",
      "18:\tlearn: 0.2738274\ttotal: 30ms\tremaining: 285ms\n",
      "19:\tlearn: 0.2677436\ttotal: 31.5ms\tremaining: 284ms\n",
      "20:\tlearn: 0.2629541\ttotal: 33ms\tremaining: 282ms\n",
      "21:\tlearn: 0.2581490\ttotal: 35.2ms\tremaining: 285ms\n",
      "22:\tlearn: 0.2546325\ttotal: 36.7ms\tremaining: 283ms\n",
      "23:\tlearn: 0.2503999\ttotal: 38.3ms\tremaining: 281ms\n",
      "24:\tlearn: 0.2468052\ttotal: 39.8ms\tremaining: 278ms\n",
      "25:\tlearn: 0.2446069\ttotal: 42ms\tremaining: 281ms\n",
      "26:\tlearn: 0.2414799\ttotal: 43.6ms\tremaining: 279ms\n",
      "27:\tlearn: 0.2381779\ttotal: 45.1ms\tremaining: 277ms\n",
      "28:\tlearn: 0.2363245\ttotal: 46.8ms\tremaining: 276ms\n",
      "29:\tlearn: 0.2341715\ttotal: 48.5ms\tremaining: 275ms\n",
      "30:\tlearn: 0.2324895\ttotal: 50ms\tremaining: 273ms\n",
      "31:\tlearn: 0.2309570\ttotal: 51.7ms\tremaining: 272ms\n",
      "32:\tlearn: 0.2288576\ttotal: 53.3ms\tremaining: 270ms\n",
      "33:\tlearn: 0.2269779\ttotal: 54.8ms\tremaining: 268ms\n",
      "34:\tlearn: 0.2248861\ttotal: 56.4ms\tremaining: 266ms\n",
      "35:\tlearn: 0.2235385\ttotal: 57.9ms\tremaining: 264ms\n",
      "36:\tlearn: 0.2218399\ttotal: 59.4ms\tremaining: 262ms\n",
      "37:\tlearn: 0.2203073\ttotal: 61ms\tremaining: 260ms\n",
      "38:\tlearn: 0.2193222\ttotal: 62.5ms\tremaining: 258ms\n",
      "39:\tlearn: 0.2177287\ttotal: 64ms\tremaining: 256ms\n",
      "40:\tlearn: 0.2166814\ttotal: 65.5ms\tremaining: 254ms\n",
      "41:\tlearn: 0.2152769\ttotal: 67.1ms\tremaining: 252ms\n",
      "42:\tlearn: 0.2142549\ttotal: 68.6ms\tremaining: 250ms\n",
      "43:\tlearn: 0.2133469\ttotal: 70.3ms\tremaining: 249ms\n",
      "44:\tlearn: 0.2121724\ttotal: 72.2ms\tremaining: 249ms\n",
      "45:\tlearn: 0.2110527\ttotal: 73.9ms\tremaining: 247ms\n",
      "46:\tlearn: 0.2100398\ttotal: 75.9ms\tremaining: 247ms\n",
      "47:\tlearn: 0.2093964\ttotal: 77.7ms\tremaining: 246ms\n",
      "48:\tlearn: 0.2083852\ttotal: 79.5ms\tremaining: 245ms\n",
      "49:\tlearn: 0.2077337\ttotal: 81.5ms\tremaining: 245ms\n",
      "50:\tlearn: 0.2067869\ttotal: 83.6ms\tremaining: 244ms\n",
      "51:\tlearn: 0.2061376\ttotal: 85.6ms\tremaining: 244ms\n",
      "52:\tlearn: 0.2055917\ttotal: 87.6ms\tremaining: 243ms\n",
      "53:\tlearn: 0.2049839\ttotal: 89.3ms\tremaining: 241ms\n",
      "54:\tlearn: 0.2043775\ttotal: 91.2ms\tremaining: 240ms\n",
      "55:\tlearn: 0.2039929\ttotal: 92.7ms\tremaining: 238ms\n",
      "56:\tlearn: 0.2034497\ttotal: 94.3ms\tremaining: 237ms\n",
      "57:\tlearn: 0.2030493\ttotal: 96ms\tremaining: 235ms\n",
      "58:\tlearn: 0.2026658\ttotal: 97.5ms\tremaining: 233ms\n",
      "59:\tlearn: 0.2024003\ttotal: 99ms\tremaining: 231ms\n",
      "60:\tlearn: 0.2021624\ttotal: 101ms\tremaining: 229ms\n",
      "61:\tlearn: 0.2009884\ttotal: 102ms\tremaining: 227ms\n",
      "62:\tlearn: 0.2001587\ttotal: 104ms\tremaining: 225ms\n",
      "63:\tlearn: 0.1988355\ttotal: 105ms\tremaining: 224ms\n",
      "64:\tlearn: 0.1985647\ttotal: 107ms\tremaining: 222ms\n",
      "65:\tlearn: 0.1977971\ttotal: 108ms\tremaining: 220ms\n",
      "66:\tlearn: 0.1974211\ttotal: 110ms\tremaining: 218ms\n",
      "67:\tlearn: 0.1968004\ttotal: 112ms\tremaining: 217ms\n",
      "68:\tlearn: 0.1965465\ttotal: 114ms\tremaining: 216ms\n",
      "69:\tlearn: 0.1961320\ttotal: 115ms\tremaining: 214ms\n",
      "70:\tlearn: 0.1958067\ttotal: 117ms\tremaining: 212ms\n",
      "71:\tlearn: 0.1954355\ttotal: 118ms\tremaining: 210ms\n",
      "72:\tlearn: 0.1951687\ttotal: 120ms\tremaining: 209ms\n",
      "73:\tlearn: 0.1949713\ttotal: 122ms\tremaining: 207ms\n",
      "74:\tlearn: 0.1945189\ttotal: 123ms\tremaining: 205ms\n",
      "75:\tlearn: 0.1941239\ttotal: 125ms\tremaining: 203ms\n",
      "76:\tlearn: 0.1937185\ttotal: 126ms\tremaining: 202ms\n",
      "77:\tlearn: 0.1934476\ttotal: 133ms\tremaining: 208ms\n",
      "78:\tlearn: 0.1929506\ttotal: 135ms\tremaining: 207ms\n",
      "79:\tlearn: 0.1926359\ttotal: 138ms\tremaining: 207ms\n",
      "80:\tlearn: 0.1921981\ttotal: 140ms\tremaining: 206ms\n",
      "81:\tlearn: 0.1917636\ttotal: 142ms\tremaining: 205ms\n",
      "82:\tlearn: 0.1911414\ttotal: 144ms\tremaining: 203ms\n",
      "83:\tlearn: 0.1906471\ttotal: 146ms\tremaining: 202ms\n",
      "84:\tlearn: 0.1903866\ttotal: 148ms\tremaining: 200ms\n",
      "85:\tlearn: 0.1899017\ttotal: 150ms\tremaining: 199ms\n",
      "86:\tlearn: 0.1895400\ttotal: 152ms\tremaining: 197ms\n",
      "87:\tlearn: 0.1892013\ttotal: 154ms\tremaining: 196ms\n",
      "88:\tlearn: 0.1887680\ttotal: 155ms\tremaining: 194ms\n",
      "89:\tlearn: 0.1886764\ttotal: 157ms\tremaining: 192ms\n",
      "90:\tlearn: 0.1884953\ttotal: 158ms\tremaining: 190ms\n",
      "91:\tlearn: 0.1880253\ttotal: 160ms\tremaining: 188ms\n",
      "92:\tlearn: 0.1877421\ttotal: 161ms\tremaining: 186ms\n",
      "93:\tlearn: 0.1874481\ttotal: 163ms\tremaining: 184ms\n",
      "94:\tlearn: 0.1867760\ttotal: 165ms\tremaining: 182ms\n",
      "95:\tlearn: 0.1863611\ttotal: 166ms\tremaining: 180ms\n",
      "96:\tlearn: 0.1857433\ttotal: 168ms\tremaining: 179ms\n",
      "97:\tlearn: 0.1854974\ttotal: 170ms\tremaining: 177ms\n",
      "98:\tlearn: 0.1851065\ttotal: 172ms\tremaining: 175ms\n",
      "99:\tlearn: 0.1849242\ttotal: 174ms\tremaining: 174ms\n",
      "100:\tlearn: 0.1846048\ttotal: 177ms\tremaining: 173ms\n",
      "101:\tlearn: 0.1845454\ttotal: 180ms\tremaining: 173ms\n",
      "102:\tlearn: 0.1841934\ttotal: 187ms\tremaining: 176ms\n",
      "103:\tlearn: 0.1838978\ttotal: 190ms\tremaining: 175ms\n",
      "104:\tlearn: 0.1836044\ttotal: 192ms\tremaining: 174ms\n",
      "105:\tlearn: 0.1834153\ttotal: 194ms\tremaining: 172ms\n",
      "106:\tlearn: 0.1831508\ttotal: 196ms\tremaining: 171ms\n",
      "107:\tlearn: 0.1827881\ttotal: 199ms\tremaining: 169ms\n",
      "108:\tlearn: 0.1824869\ttotal: 203ms\tremaining: 169ms\n",
      "109:\tlearn: 0.1823993\ttotal: 206ms\tremaining: 168ms\n",
      "110:\tlearn: 0.1821964\ttotal: 208ms\tremaining: 167ms\n",
      "111:\tlearn: 0.1819021\ttotal: 210ms\tremaining: 165ms\n",
      "112:\tlearn: 0.1816162\ttotal: 212ms\tremaining: 163ms\n",
      "113:\tlearn: 0.1811118\ttotal: 214ms\tremaining: 161ms\n",
      "114:\tlearn: 0.1806472\ttotal: 216ms\tremaining: 160ms\n",
      "115:\tlearn: 0.1804288\ttotal: 218ms\tremaining: 158ms\n",
      "116:\tlearn: 0.1802043\ttotal: 220ms\tremaining: 156ms\n",
      "117:\tlearn: 0.1797879\ttotal: 222ms\tremaining: 154ms\n",
      "118:\tlearn: 0.1796413\ttotal: 226ms\tremaining: 154ms\n",
      "119:\tlearn: 0.1794589\ttotal: 229ms\tremaining: 153ms\n",
      "120:\tlearn: 0.1792988\ttotal: 231ms\tremaining: 151ms\n",
      "121:\tlearn: 0.1790962\ttotal: 233ms\tremaining: 149ms\n",
      "122:\tlearn: 0.1786036\ttotal: 235ms\tremaining: 147ms\n",
      "123:\tlearn: 0.1784650\ttotal: 238ms\tremaining: 146ms\n",
      "124:\tlearn: 0.1782937\ttotal: 240ms\tremaining: 144ms\n",
      "125:\tlearn: 0.1782308\ttotal: 242ms\tremaining: 142ms\n",
      "126:\tlearn: 0.1780479\ttotal: 244ms\tremaining: 140ms\n",
      "127:\tlearn: 0.1774184\ttotal: 246ms\tremaining: 138ms\n",
      "128:\tlearn: 0.1773805\ttotal: 248ms\tremaining: 137ms\n",
      "129:\tlearn: 0.1769196\ttotal: 250ms\tremaining: 135ms\n",
      "130:\tlearn: 0.1766717\ttotal: 252ms\tremaining: 133ms\n",
      "131:\tlearn: 0.1762238\ttotal: 256ms\tremaining: 132ms\n",
      "132:\tlearn: 0.1761477\ttotal: 259ms\tremaining: 131ms\n",
      "133:\tlearn: 0.1759184\ttotal: 261ms\tremaining: 129ms\n",
      "134:\tlearn: 0.1756630\ttotal: 264ms\tremaining: 127ms\n",
      "135:\tlearn: 0.1754913\ttotal: 265ms\tremaining: 125ms\n",
      "136:\tlearn: 0.1751953\ttotal: 267ms\tremaining: 123ms\n",
      "137:\tlearn: 0.1750329\ttotal: 268ms\tremaining: 121ms\n",
      "138:\tlearn: 0.1749478\ttotal: 271ms\tremaining: 119ms\n",
      "139:\tlearn: 0.1747754\ttotal: 273ms\tremaining: 117ms\n",
      "140:\tlearn: 0.1742291\ttotal: 275ms\tremaining: 115ms\n",
      "141:\tlearn: 0.1738829\ttotal: 276ms\tremaining: 113ms\n",
      "142:\tlearn: 0.1734557\ttotal: 278ms\tremaining: 111ms\n",
      "143:\tlearn: 0.1733137\ttotal: 279ms\tremaining: 109ms\n",
      "144:\tlearn: 0.1730364\ttotal: 281ms\tremaining: 106ms\n",
      "145:\tlearn: 0.1728604\ttotal: 282ms\tremaining: 104ms\n",
      "146:\tlearn: 0.1722157\ttotal: 284ms\tremaining: 102ms\n",
      "147:\tlearn: 0.1721320\ttotal: 286ms\tremaining: 100ms\n",
      "148:\tlearn: 0.1721033\ttotal: 288ms\tremaining: 98.5ms\n",
      "149:\tlearn: 0.1718254\ttotal: 290ms\tremaining: 96.6ms\n",
      "150:\tlearn: 0.1715870\ttotal: 292ms\tremaining: 94.7ms\n",
      "151:\tlearn: 0.1711928\ttotal: 293ms\tremaining: 92.6ms\n",
      "152:\tlearn: 0.1707072\ttotal: 295ms\tremaining: 90.6ms\n",
      "153:\tlearn: 0.1706580\ttotal: 296ms\tremaining: 88.5ms\n",
      "154:\tlearn: 0.1703413\ttotal: 298ms\tremaining: 86.5ms\n",
      "155:\tlearn: 0.1700329\ttotal: 300ms\tremaining: 84.5ms\n",
      "156:\tlearn: 0.1697051\ttotal: 301ms\tremaining: 82.5ms\n",
      "157:\tlearn: 0.1695164\ttotal: 303ms\tremaining: 80.4ms\n",
      "158:\tlearn: 0.1693782\ttotal: 304ms\tremaining: 78.4ms\n",
      "159:\tlearn: 0.1689503\ttotal: 306ms\tremaining: 76.4ms\n",
      "160:\tlearn: 0.1684656\ttotal: 307ms\tremaining: 74.4ms\n",
      "161:\tlearn: 0.1682509\ttotal: 309ms\tremaining: 72.4ms\n",
      "162:\tlearn: 0.1679814\ttotal: 310ms\tremaining: 70.4ms\n",
      "163:\tlearn: 0.1677473\ttotal: 312ms\tremaining: 68.4ms\n",
      "164:\tlearn: 0.1673677\ttotal: 313ms\tremaining: 66.5ms\n",
      "165:\tlearn: 0.1671349\ttotal: 315ms\tremaining: 64.5ms\n",
      "166:\tlearn: 0.1666150\ttotal: 316ms\tremaining: 62.5ms\n",
      "167:\tlearn: 0.1663893\ttotal: 318ms\tremaining: 60.5ms\n",
      "168:\tlearn: 0.1658159\ttotal: 319ms\tremaining: 58.6ms\n",
      "169:\tlearn: 0.1653170\ttotal: 322ms\tremaining: 56.9ms\n",
      "170:\tlearn: 0.1651710\ttotal: 324ms\tremaining: 54.9ms\n",
      "171:\tlearn: 0.1649492\ttotal: 325ms\tremaining: 53ms\n",
      "172:\tlearn: 0.1649250\ttotal: 327ms\tremaining: 51ms\n",
      "173:\tlearn: 0.1648749\ttotal: 329ms\tremaining: 49.1ms\n",
      "174:\tlearn: 0.1644081\ttotal: 330ms\tremaining: 47.2ms\n",
      "175:\tlearn: 0.1642817\ttotal: 332ms\tremaining: 45.3ms\n",
      "176:\tlearn: 0.1640100\ttotal: 334ms\tremaining: 43.4ms\n",
      "177:\tlearn: 0.1637306\ttotal: 336ms\tremaining: 41.6ms\n",
      "178:\tlearn: 0.1636624\ttotal: 338ms\tremaining: 39.7ms\n",
      "179:\tlearn: 0.1632116\ttotal: 340ms\tremaining: 37.8ms\n",
      "180:\tlearn: 0.1630083\ttotal: 342ms\tremaining: 35.9ms\n",
      "181:\tlearn: 0.1626158\ttotal: 344ms\tremaining: 34ms\n",
      "182:\tlearn: 0.1624149\ttotal: 346ms\tremaining: 32.1ms\n",
      "183:\tlearn: 0.1622615\ttotal: 349ms\tremaining: 30.3ms\n",
      "184:\tlearn: 0.1619660\ttotal: 350ms\tremaining: 28.4ms\n",
      "185:\tlearn: 0.1618292\ttotal: 352ms\tremaining: 26.5ms\n",
      "186:\tlearn: 0.1616510\ttotal: 354ms\tremaining: 24.6ms\n",
      "187:\tlearn: 0.1614204\ttotal: 356ms\tremaining: 22.7ms\n",
      "188:\tlearn: 0.1613981\ttotal: 358ms\tremaining: 20.8ms\n",
      "189:\tlearn: 0.1612712\ttotal: 360ms\tremaining: 18.9ms\n",
      "190:\tlearn: 0.1609568\ttotal: 361ms\tremaining: 17ms\n",
      "191:\tlearn: 0.1606685\ttotal: 363ms\tremaining: 15.1ms\n"
     ]
    },
    {
     "name": "stdout",
     "output_type": "stream",
     "text": [
      "192:\tlearn: 0.1605369\ttotal: 365ms\tremaining: 13.3ms\n",
      "193:\tlearn: 0.1603137\ttotal: 367ms\tremaining: 11.4ms\n",
      "194:\tlearn: 0.1597509\ttotal: 371ms\tremaining: 9.51ms\n",
      "195:\tlearn: 0.1593916\ttotal: 373ms\tremaining: 7.61ms\n",
      "196:\tlearn: 0.1592647\ttotal: 375ms\tremaining: 5.71ms\n",
      "197:\tlearn: 0.1592430\ttotal: 377ms\tremaining: 3.81ms\n",
      "198:\tlearn: 0.1589648\ttotal: 379ms\tremaining: 1.9ms\n",
      "199:\tlearn: 0.1586484\ttotal: 381ms\tremaining: 0us\n"
     ]
    },
    {
     "data": {
      "text/plain": [
       "{'depth': 3, 'iterations': 200, 'learning_rate': 0.05}"
      ]
     },
     "execution_count": 181,
     "metadata": {},
     "output_type": "execute_result"
    }
   ],
   "source": [
    "catb = CatBoostClassifier()\n",
    "catb_cv_model = GridSearchCV(catb, catb_params, cv=5, n_jobs = -1, verbose = 2)\n",
    "catb_cv_model.fit(X_train, y_train)\n",
    "catb_cv_model.best_params_\n",
    "# süreden tasarruf için 5 katlı cros-val yaptık"
   ]
  },
  {
   "cell_type": "code",
   "execution_count": 183,
   "metadata": {},
   "outputs": [
    {
     "data": {
      "text/plain": [
       "{'depth': 3, 'iterations': 200, 'learning_rate': 0.05}"
      ]
     },
     "execution_count": 183,
     "metadata": {},
     "output_type": "execute_result"
    }
   ],
   "source": [
    "catb_cv_model.best_params_\n"
   ]
  },
  {
   "cell_type": "code",
   "execution_count": 235,
   "metadata": {},
   "outputs": [
    {
     "name": "stdout",
     "output_type": "stream",
     "text": [
      "0:\tlearn: 0.6430771\ttotal: 2.13ms\tremaining: 423ms\n",
      "1:\tlearn: 0.5999331\ttotal: 5.45ms\tremaining: 539ms\n",
      "2:\tlearn: 0.5602754\ttotal: 7.44ms\tremaining: 488ms\n",
      "3:\tlearn: 0.5202965\ttotal: 9.55ms\tremaining: 468ms\n",
      "4:\tlearn: 0.4841062\ttotal: 11.6ms\tremaining: 451ms\n",
      "5:\tlearn: 0.4549359\ttotal: 13.7ms\tremaining: 444ms\n",
      "6:\tlearn: 0.4284667\ttotal: 15.7ms\tremaining: 433ms\n",
      "7:\tlearn: 0.4068946\ttotal: 17.7ms\tremaining: 426ms\n",
      "8:\tlearn: 0.3858661\ttotal: 19.7ms\tremaining: 419ms\n",
      "9:\tlearn: 0.3684492\ttotal: 21.7ms\tremaining: 413ms\n",
      "10:\tlearn: 0.3516451\ttotal: 23.7ms\tremaining: 408ms\n",
      "11:\tlearn: 0.3391897\ttotal: 25.7ms\tremaining: 402ms\n",
      "12:\tlearn: 0.3260796\ttotal: 28.4ms\tremaining: 408ms\n",
      "13:\tlearn: 0.3146368\ttotal: 30.4ms\tremaining: 404ms\n",
      "14:\tlearn: 0.3034741\ttotal: 32.4ms\tremaining: 399ms\n",
      "15:\tlearn: 0.2945966\ttotal: 34.4ms\tremaining: 395ms\n",
      "16:\tlearn: 0.2866798\ttotal: 36.3ms\tremaining: 391ms\n",
      "17:\tlearn: 0.2798869\ttotal: 38.2ms\tremaining: 387ms\n",
      "18:\tlearn: 0.2738274\ttotal: 40.2ms\tremaining: 383ms\n",
      "19:\tlearn: 0.2677436\ttotal: 42.4ms\tremaining: 382ms\n",
      "20:\tlearn: 0.2629541\ttotal: 44.4ms\tremaining: 379ms\n",
      "21:\tlearn: 0.2581490\ttotal: 46.4ms\tremaining: 376ms\n",
      "22:\tlearn: 0.2546325\ttotal: 49.7ms\tremaining: 382ms\n",
      "23:\tlearn: 0.2503999\ttotal: 51.7ms\tremaining: 379ms\n",
      "24:\tlearn: 0.2468052\ttotal: 53.6ms\tremaining: 375ms\n",
      "25:\tlearn: 0.2446069\ttotal: 55.5ms\tremaining: 372ms\n",
      "26:\tlearn: 0.2414799\ttotal: 57.8ms\tremaining: 370ms\n",
      "27:\tlearn: 0.2381779\ttotal: 59.8ms\tremaining: 367ms\n",
      "28:\tlearn: 0.2363245\ttotal: 62.8ms\tremaining: 370ms\n",
      "29:\tlearn: 0.2341715\ttotal: 72.2ms\tremaining: 409ms\n",
      "30:\tlearn: 0.2324895\ttotal: 107ms\tremaining: 584ms\n",
      "31:\tlearn: 0.2309570\ttotal: 110ms\tremaining: 579ms\n",
      "32:\tlearn: 0.2288576\ttotal: 113ms\tremaining: 574ms\n",
      "33:\tlearn: 0.2269779\ttotal: 117ms\tremaining: 570ms\n",
      "34:\tlearn: 0.2248861\ttotal: 120ms\tremaining: 566ms\n",
      "35:\tlearn: 0.2235385\ttotal: 130ms\tremaining: 594ms\n",
      "36:\tlearn: 0.2218399\ttotal: 134ms\tremaining: 590ms\n",
      "37:\tlearn: 0.2203073\ttotal: 137ms\tremaining: 583ms\n",
      "38:\tlearn: 0.2193222\ttotal: 167ms\tremaining: 690ms\n",
      "39:\tlearn: 0.2177287\ttotal: 170ms\tremaining: 680ms\n",
      "40:\tlearn: 0.2166814\ttotal: 172ms\tremaining: 669ms\n",
      "41:\tlearn: 0.2152769\ttotal: 175ms\tremaining: 660ms\n",
      "42:\tlearn: 0.2142549\ttotal: 178ms\tremaining: 650ms\n",
      "43:\tlearn: 0.2133469\ttotal: 180ms\tremaining: 640ms\n",
      "44:\tlearn: 0.2121724\ttotal: 192ms\tremaining: 662ms\n",
      "45:\tlearn: 0.2110527\ttotal: 197ms\tremaining: 661ms\n",
      "46:\tlearn: 0.2100398\ttotal: 201ms\tremaining: 654ms\n",
      "47:\tlearn: 0.2093964\ttotal: 204ms\tremaining: 647ms\n",
      "48:\tlearn: 0.2083852\ttotal: 208ms\tremaining: 641ms\n",
      "49:\tlearn: 0.2077337\ttotal: 211ms\tremaining: 634ms\n",
      "50:\tlearn: 0.2067869\ttotal: 218ms\tremaining: 638ms\n",
      "51:\tlearn: 0.2061376\ttotal: 221ms\tremaining: 630ms\n",
      "52:\tlearn: 0.2055917\ttotal: 224ms\tremaining: 623ms\n",
      "53:\tlearn: 0.2049839\ttotal: 227ms\tremaining: 615ms\n",
      "54:\tlearn: 0.2043775\ttotal: 230ms\tremaining: 608ms\n",
      "55:\tlearn: 0.2039929\ttotal: 234ms\tremaining: 603ms\n",
      "56:\tlearn: 0.2034497\ttotal: 240ms\tremaining: 603ms\n",
      "57:\tlearn: 0.2030493\ttotal: 243ms\tremaining: 595ms\n",
      "58:\tlearn: 0.2026658\ttotal: 245ms\tremaining: 586ms\n",
      "59:\tlearn: 0.2024003\ttotal: 247ms\tremaining: 576ms\n",
      "60:\tlearn: 0.2021624\ttotal: 249ms\tremaining: 567ms\n",
      "61:\tlearn: 0.2009884\ttotal: 251ms\tremaining: 559ms\n",
      "62:\tlearn: 0.2001587\ttotal: 254ms\tremaining: 552ms\n",
      "63:\tlearn: 0.1988355\ttotal: 257ms\tremaining: 546ms\n",
      "64:\tlearn: 0.1985647\ttotal: 259ms\tremaining: 539ms\n",
      "65:\tlearn: 0.1977971\ttotal: 262ms\tremaining: 532ms\n",
      "66:\tlearn: 0.1974211\ttotal: 265ms\tremaining: 526ms\n",
      "67:\tlearn: 0.1968004\ttotal: 268ms\tremaining: 520ms\n",
      "68:\tlearn: 0.1965465\ttotal: 270ms\tremaining: 513ms\n",
      "69:\tlearn: 0.1961320\ttotal: 273ms\tremaining: 507ms\n",
      "70:\tlearn: 0.1958067\ttotal: 275ms\tremaining: 500ms\n",
      "71:\tlearn: 0.1954355\ttotal: 277ms\tremaining: 493ms\n",
      "72:\tlearn: 0.1951687\ttotal: 280ms\tremaining: 487ms\n",
      "73:\tlearn: 0.1949713\ttotal: 282ms\tremaining: 480ms\n",
      "74:\tlearn: 0.1945189\ttotal: 286ms\tremaining: 477ms\n",
      "75:\tlearn: 0.1941239\ttotal: 289ms\tremaining: 471ms\n",
      "76:\tlearn: 0.1937185\ttotal: 291ms\tremaining: 465ms\n",
      "77:\tlearn: 0.1934476\ttotal: 294ms\tremaining: 460ms\n",
      "78:\tlearn: 0.1929506\ttotal: 296ms\tremaining: 453ms\n",
      "79:\tlearn: 0.1926359\ttotal: 298ms\tremaining: 448ms\n",
      "80:\tlearn: 0.1921981\ttotal: 301ms\tremaining: 442ms\n",
      "81:\tlearn: 0.1917636\ttotal: 302ms\tremaining: 435ms\n",
      "82:\tlearn: 0.1911414\ttotal: 304ms\tremaining: 429ms\n",
      "83:\tlearn: 0.1906471\ttotal: 306ms\tremaining: 423ms\n",
      "84:\tlearn: 0.1903866\ttotal: 308ms\tremaining: 417ms\n",
      "85:\tlearn: 0.1899017\ttotal: 310ms\tremaining: 411ms\n",
      "86:\tlearn: 0.1895400\ttotal: 312ms\tremaining: 405ms\n",
      "87:\tlearn: 0.1892013\ttotal: 314ms\tremaining: 399ms\n",
      "88:\tlearn: 0.1887680\ttotal: 316ms\tremaining: 394ms\n",
      "89:\tlearn: 0.1886764\ttotal: 318ms\tremaining: 388ms\n",
      "90:\tlearn: 0.1884953\ttotal: 321ms\tremaining: 384ms\n",
      "91:\tlearn: 0.1880253\ttotal: 324ms\tremaining: 380ms\n",
      "92:\tlearn: 0.1877421\ttotal: 328ms\tremaining: 377ms\n",
      "93:\tlearn: 0.1874481\ttotal: 334ms\tremaining: 377ms\n",
      "94:\tlearn: 0.1867760\ttotal: 336ms\tremaining: 371ms\n",
      "95:\tlearn: 0.1863611\ttotal: 338ms\tremaining: 366ms\n",
      "96:\tlearn: 0.1857433\ttotal: 341ms\tremaining: 362ms\n",
      "97:\tlearn: 0.1854974\ttotal: 343ms\tremaining: 357ms\n",
      "98:\tlearn: 0.1851065\ttotal: 346ms\tremaining: 353ms\n",
      "99:\tlearn: 0.1849242\ttotal: 349ms\tremaining: 349ms\n",
      "100:\tlearn: 0.1846048\ttotal: 352ms\tremaining: 345ms\n",
      "101:\tlearn: 0.1845454\ttotal: 355ms\tremaining: 342ms\n",
      "102:\tlearn: 0.1841934\ttotal: 358ms\tremaining: 338ms\n",
      "103:\tlearn: 0.1838978\ttotal: 362ms\tremaining: 334ms\n",
      "104:\tlearn: 0.1836044\ttotal: 366ms\tremaining: 331ms\n",
      "105:\tlearn: 0.1834153\ttotal: 368ms\tremaining: 327ms\n",
      "106:\tlearn: 0.1831508\ttotal: 371ms\tremaining: 322ms\n",
      "107:\tlearn: 0.1827881\ttotal: 378ms\tremaining: 322ms\n",
      "108:\tlearn: 0.1824869\ttotal: 380ms\tremaining: 317ms\n",
      "109:\tlearn: 0.1823993\ttotal: 383ms\tremaining: 313ms\n",
      "110:\tlearn: 0.1821964\ttotal: 390ms\tremaining: 313ms\n",
      "111:\tlearn: 0.1819021\ttotal: 392ms\tremaining: 308ms\n",
      "112:\tlearn: 0.1816162\ttotal: 394ms\tremaining: 304ms\n",
      "113:\tlearn: 0.1811118\ttotal: 397ms\tremaining: 299ms\n",
      "114:\tlearn: 0.1806472\ttotal: 399ms\tremaining: 295ms\n",
      "115:\tlearn: 0.1804288\ttotal: 401ms\tremaining: 291ms\n",
      "116:\tlearn: 0.1802043\ttotal: 403ms\tremaining: 286ms\n",
      "117:\tlearn: 0.1797879\ttotal: 405ms\tremaining: 282ms\n",
      "118:\tlearn: 0.1796413\ttotal: 407ms\tremaining: 277ms\n",
      "119:\tlearn: 0.1794589\ttotal: 409ms\tremaining: 273ms\n",
      "120:\tlearn: 0.1792988\ttotal: 412ms\tremaining: 269ms\n",
      "121:\tlearn: 0.1790962\ttotal: 415ms\tremaining: 266ms\n",
      "122:\tlearn: 0.1786036\ttotal: 417ms\tremaining: 261ms\n",
      "123:\tlearn: 0.1784650\ttotal: 419ms\tremaining: 257ms\n",
      "124:\tlearn: 0.1782937\ttotal: 421ms\tremaining: 253ms\n",
      "125:\tlearn: 0.1782308\ttotal: 423ms\tremaining: 248ms\n",
      "126:\tlearn: 0.1780479\ttotal: 424ms\tremaining: 244ms\n",
      "127:\tlearn: 0.1774184\ttotal: 426ms\tremaining: 240ms\n",
      "128:\tlearn: 0.1773805\ttotal: 428ms\tremaining: 235ms\n",
      "129:\tlearn: 0.1769196\ttotal: 430ms\tremaining: 231ms\n",
      "130:\tlearn: 0.1766717\ttotal: 432ms\tremaining: 227ms\n",
      "131:\tlearn: 0.1762238\ttotal: 435ms\tremaining: 224ms\n",
      "132:\tlearn: 0.1761477\ttotal: 437ms\tremaining: 220ms\n",
      "133:\tlearn: 0.1759184\ttotal: 439ms\tremaining: 216ms\n",
      "134:\tlearn: 0.1756630\ttotal: 441ms\tremaining: 212ms\n",
      "135:\tlearn: 0.1754913\ttotal: 443ms\tremaining: 209ms\n",
      "136:\tlearn: 0.1751953\ttotal: 446ms\tremaining: 205ms\n",
      "137:\tlearn: 0.1750329\ttotal: 448ms\tremaining: 201ms\n",
      "138:\tlearn: 0.1749478\ttotal: 450ms\tremaining: 197ms\n",
      "139:\tlearn: 0.1747754\ttotal: 451ms\tremaining: 193ms\n",
      "140:\tlearn: 0.1742291\ttotal: 453ms\tremaining: 190ms\n",
      "141:\tlearn: 0.1738829\ttotal: 455ms\tremaining: 186ms\n",
      "142:\tlearn: 0.1734557\ttotal: 457ms\tremaining: 182ms\n",
      "143:\tlearn: 0.1733137\ttotal: 459ms\tremaining: 178ms\n",
      "144:\tlearn: 0.1730364\ttotal: 461ms\tremaining: 175ms\n",
      "145:\tlearn: 0.1728604\ttotal: 463ms\tremaining: 171ms\n",
      "146:\tlearn: 0.1722157\ttotal: 465ms\tremaining: 168ms\n",
      "147:\tlearn: 0.1721320\ttotal: 467ms\tremaining: 164ms\n",
      "148:\tlearn: 0.1721033\ttotal: 469ms\tremaining: 160ms\n",
      "149:\tlearn: 0.1718254\ttotal: 471ms\tremaining: 157ms\n",
      "150:\tlearn: 0.1715870\ttotal: 473ms\tremaining: 153ms\n",
      "151:\tlearn: 0.1711928\ttotal: 475ms\tremaining: 150ms\n",
      "152:\tlearn: 0.1707072\ttotal: 477ms\tremaining: 147ms\n",
      "153:\tlearn: 0.1706580\ttotal: 479ms\tremaining: 143ms\n",
      "154:\tlearn: 0.1703413\ttotal: 481ms\tremaining: 140ms\n",
      "155:\tlearn: 0.1700329\ttotal: 483ms\tremaining: 136ms\n",
      "156:\tlearn: 0.1697051\ttotal: 485ms\tremaining: 133ms\n",
      "157:\tlearn: 0.1695164\ttotal: 487ms\tremaining: 130ms\n",
      "158:\tlearn: 0.1693782\ttotal: 490ms\tremaining: 126ms\n",
      "159:\tlearn: 0.1689503\ttotal: 493ms\tremaining: 123ms\n",
      "160:\tlearn: 0.1684656\ttotal: 494ms\tremaining: 120ms\n",
      "161:\tlearn: 0.1682509\ttotal: 496ms\tremaining: 116ms\n",
      "162:\tlearn: 0.1679814\ttotal: 498ms\tremaining: 113ms\n",
      "163:\tlearn: 0.1677473\ttotal: 500ms\tremaining: 110ms\n",
      "164:\tlearn: 0.1673677\ttotal: 502ms\tremaining: 107ms\n",
      "165:\tlearn: 0.1671349\ttotal: 504ms\tremaining: 103ms\n",
      "166:\tlearn: 0.1666150\ttotal: 506ms\tremaining: 100ms\n",
      "167:\tlearn: 0.1663893\ttotal: 508ms\tremaining: 96.8ms\n",
      "168:\tlearn: 0.1658159\ttotal: 510ms\tremaining: 93.5ms\n",
      "169:\tlearn: 0.1653170\ttotal: 511ms\tremaining: 90.2ms\n",
      "170:\tlearn: 0.1651710\ttotal: 513ms\tremaining: 87ms\n",
      "171:\tlearn: 0.1649492\ttotal: 514ms\tremaining: 83.7ms\n",
      "172:\tlearn: 0.1649250\ttotal: 516ms\tremaining: 80.6ms\n",
      "173:\tlearn: 0.1648749\ttotal: 518ms\tremaining: 77.4ms\n",
      "174:\tlearn: 0.1644081\ttotal: 520ms\tremaining: 74.3ms\n",
      "175:\tlearn: 0.1642817\ttotal: 522ms\tremaining: 71.2ms\n",
      "176:\tlearn: 0.1640100\ttotal: 524ms\tremaining: 68ms\n",
      "177:\tlearn: 0.1637306\ttotal: 525ms\tremaining: 64.9ms\n",
      "178:\tlearn: 0.1636624\ttotal: 527ms\tremaining: 61.8ms\n",
      "179:\tlearn: 0.1632116\ttotal: 528ms\tremaining: 58.7ms\n",
      "180:\tlearn: 0.1630083\ttotal: 530ms\tremaining: 55.6ms\n",
      "181:\tlearn: 0.1626158\ttotal: 532ms\tremaining: 52.6ms\n",
      "182:\tlearn: 0.1624149\ttotal: 533ms\tremaining: 49.5ms\n",
      "183:\tlearn: 0.1622615\ttotal: 535ms\tremaining: 46.5ms\n",
      "184:\tlearn: 0.1619660\ttotal: 536ms\tremaining: 43.5ms\n",
      "185:\tlearn: 0.1618292\ttotal: 538ms\tremaining: 40.5ms\n",
      "186:\tlearn: 0.1616510\ttotal: 539ms\tremaining: 37.5ms\n",
      "187:\tlearn: 0.1614204\ttotal: 541ms\tremaining: 34.5ms\n",
      "188:\tlearn: 0.1613981\ttotal: 543ms\tremaining: 31.6ms\n",
      "189:\tlearn: 0.1612712\ttotal: 544ms\tremaining: 28.6ms\n",
      "190:\tlearn: 0.1609568\ttotal: 546ms\tremaining: 25.7ms\n",
      "191:\tlearn: 0.1606685\ttotal: 547ms\tremaining: 22.8ms\n"
     ]
    },
    {
     "name": "stdout",
     "output_type": "stream",
     "text": [
      "192:\tlearn: 0.1605369\ttotal: 549ms\tremaining: 19.9ms\n",
      "193:\tlearn: 0.1603137\ttotal: 551ms\tremaining: 17ms\n",
      "194:\tlearn: 0.1597509\ttotal: 553ms\tremaining: 14.2ms\n",
      "195:\tlearn: 0.1593916\ttotal: 556ms\tremaining: 11.4ms\n",
      "196:\tlearn: 0.1592647\ttotal: 559ms\tremaining: 8.52ms\n",
      "197:\tlearn: 0.1592430\ttotal: 562ms\tremaining: 5.68ms\n",
      "198:\tlearn: 0.1589648\ttotal: 565ms\tremaining: 2.84ms\n",
      "199:\tlearn: 0.1586484\ttotal: 567ms\tremaining: 0us\n"
     ]
    }
   ],
   "source": [
    "catb = CatBoostClassifier(iterations = 200, \n",
    "                          learning_rate = 0.05, \n",
    "                          depth = 3)\n",
    "\n",
    "catb_tuned = catb.fit(X_train, y_train)\n",
    "y_pred = catb_tuned.predict(X_test)"
   ]
  },
  {
   "cell_type": "code",
   "execution_count": 236,
   "metadata": {},
   "outputs": [
    {
     "data": {
      "text/plain": [
       "0.9405940594059405"
      ]
     },
     "execution_count": 236,
     "metadata": {},
     "output_type": "execute_result"
    }
   ],
   "source": [
    "y_pred = catb_tuned.predict(X_test)\n",
    "accuracy_score(y_test, y_pred)\n"
   ]
  },
  {
   "cell_type": "code",
   "execution_count": 237,
   "metadata": {},
   "outputs": [
    {
     "name": "stdout",
     "output_type": "stream",
     "text": [
      "              precision    recall  f1-score   support\n",
      "\n",
      "           0       0.94      1.00      0.97       369\n",
      "           1       0.92      0.34      0.50        35\n",
      "\n",
      "    accuracy                           0.94       404\n",
      "   macro avg       0.93      0.67      0.73       404\n",
      "weighted avg       0.94      0.94      0.93       404\n",
      "\n"
     ]
    }
   ],
   "source": [
    "print(classification_report(y_test, y_pred))"
   ]
  },
  {
   "cell_type": "code",
   "execution_count": 238,
   "metadata": {},
   "outputs": [
    {
     "data": {
      "text/plain": [
       "Text(0.5, 0, 'Değişken Önem Düzeyleri')"
      ]
     },
     "execution_count": 238,
     "metadata": {},
     "output_type": "execute_result"
    },
    {
     "data": {
      "image/png": "[encoded data removed]",
      "text/plain": [
       "<Figure size 432x288 with 1 Axes>"
      ]
     },
     "metadata": {
      "needs_background": "light"
     },
     "output_type": "display_data"
    }
   ],
   "source": [
    "Importance = pd.DataFrame({\"Importance\": catb_tuned.feature_importances_*100},\n",
    "                         index = X_train.columns)\n",
    "Importance.sort_values(by = \"Importance\", \n",
    "                       axis = 0, \n",
    "                       ascending = True).plot(kind =\"barh\", color = \"r\")\n",
    "\n",
    "plt.xlabel(\"Değişken Önem Düzeyleri\")"
   ]
  },
  {
   "cell_type": "markdown",
   "metadata": {},
   "source": [
    "# Tüm Modellerin Karşılaştırılması"
   ]
  },
  {
   "cell_type": "code",
   "execution_count": 267,
   "metadata": {},
   "outputs": [
    {
     "name": "stdout",
     "output_type": "stream",
     "text": [
      "----------------------------\n",
      "GaussianNB:\n",
      "Accuracy: 91.5842%\n",
      "----------------------------\n",
      "BernoulliNB:\n",
      "Accuracy: 90.5941%\n",
      "----------------------------\n",
      "MultinomialNB:\n",
      "Accuracy: 71.2871%\n",
      "----------------------------\n",
      "KNeighborsClassifier:\n",
      "Accuracy: 91.3366%\n",
      "----------------------------\n",
      "SVC:\n",
      "Accuracy: 92.5743%\n",
      "----------------------------\n",
      "MLPClassifier:\n",
      "Accuracy: 91.3366%\n",
      "----------------------------\n",
      "DecisionTreeClassifier:\n",
      "Accuracy: 94.0594%\n",
      "----------------------------\n",
      "RandomForestClassifier:\n",
      "Accuracy: 93.8119%\n",
      "----------------------------\n",
      "GradientBoostingClassifier:\n",
      "Accuracy: 94.8020%\n",
      "----------------------------\n",
      "CatBoostClassifier:\n",
      "Accuracy: 94.0594%\n",
      "----------------------------\n",
      "LGBMClassifier:\n",
      "Accuracy: 93.5644%\n",
      "----------------------------\n",
      "XGBClassifier:\n",
      "Accuracy: 93.3168%\n"
     ]
    }
   ],
   "source": [
    "modeller = [\n",
    "    gnb_model,\n",
    "    bnb_model,\n",
    "    mnb_model,\n",
    "    knn_tuned,\n",
    "    svc_tuned,\n",
    "    mlpc_tuned,\n",
    "    cart_tuned,\n",
    "    rf_tuned,\n",
    "    gbm_tuned,\n",
    "    catb_tuned,\n",
    "    lgbm_tuned,\n",
    "    xgb_tuned,\n",
    "    \n",
    "    \n",
    "]\n",
    "\n",
    "\n",
    "for model in modeller:\n",
    "    isimler = model.__class__.__name__\n",
    "    y_pred = model.predict(X_test)     \n",
    "    dogruluk = accuracy_score(y_test, y_pred)\n",
    "    print(\"-\"*28)\n",
    "    print(isimler + \":\" )\n",
    "    print(\"Accuracy: {:.4%}\".format(dogruluk))\n"
   ]
  },
  {
   "cell_type": "code",
   "execution_count": 268,
   "metadata": {},
   "outputs": [
    {
     "data": {
      "image/png": "[encoded data removed]",
      "text/plain": [
       "<Figure size 432x288 with 1 Axes>"
      ]
     },
     "metadata": {
      "needs_background": "light"
     },
     "output_type": "display_data"
    }
   ],
   "source": [
    "sonuc = []\n",
    "\n",
    "sonuclar = pd.DataFrame(columns= [\"Modeller\",\"Accuracy\"])\n",
    "\n",
    "for model in modeller:\n",
    "    isimler = model.__class__.__name__\n",
    "    y_pred = model.predict(X_test)\n",
    "    dogruluk = accuracy_score(y_test, y_pred)    \n",
    "    sonuc = pd.DataFrame([[isimler, dogruluk*100]], columns= [\"Modeller\",\"Accuracy\"])\n",
    "    sonuclar = sonuclar.append(sonuc)\n",
    "    \n",
    "    \n",
    "sns.barplot(x= 'Accuracy', y = 'Modeller', data=sonuclar, color=\"b\")\n",
    "plt.xlabel('Accuracy %')\n",
    "plt.title('Modellerin Doğruluk Oranları');    "
   ]
  },
  {
   "cell_type": "code",
   "execution_count": null,
   "metadata": {},
   "outputs": [],
   "source": []
  }
 ],
 "metadata": {
  "kernelspec": {
   "display_name": "Python 3",
   "language": "python",
   "name": "python3"
  },
  "language_info": {
   "codemirror_mode": {
    "name": "ipython",
    "version": 3
   },
   "file_extension": ".py",
   "mimetype": "text/x-python",
   "name": "python",
   "nbconvert_exporter": "python",
   "pygments_lexer": "ipython3",
   "version": "3.7.6"
  }
 },
 "nbformat": 4,
 "nbformat_minor": 4
}
